{
 "cells": [
  {
   "cell_type": "code",
   "execution_count": 1,
   "metadata": {},
   "outputs": [],
   "source": [
    "#Write a python program to display all the header tags from ‘en.wikipedia.org/wiki/Main_Page’.\n",
    "from bs4 import BeautifulSoup\n",
    "import requests"
   ]
  },
  {
   "cell_type": "code",
   "execution_count": 2,
   "metadata": {},
   "outputs": [
    {
     "data": {
      "text/plain": [
       "<Response [200]>"
      ]
     },
     "execution_count": 2,
     "metadata": {},
     "output_type": "execute_result"
    }
   ],
   "source": [
    "page = requests.get(\"https://en.wikipedia.org/wiki/Main_Page\")\n",
    "page"
   ]
  },
  {
   "cell_type": "code",
   "execution_count": 3,
   "metadata": {},
   "outputs": [],
   "source": [
    "soup = BeautifulSoup(page.content)"
   ]
  },
  {
   "cell_type": "code",
   "execution_count": 4,
   "metadata": {},
   "outputs": [
    {
     "data": {
      "text/plain": [
       "[<span class=\"mw-headline\" id=\"From_today's_featured_article\">From today's featured article</span>,\n",
       " <span class=\"mw-headline\" id=\"Did_you_know_...\">Did you know ...</span>,\n",
       " <span class=\"mw-headline\" id=\"In_the_news\">In the news</span>,\n",
       " <span class=\"mw-headline\" id=\"On_this_day\">On this day</span>,\n",
       " <span class=\"mw-headline\" id=\"Today's_featured_picture\">Today's featured picture</span>,\n",
       " <span class=\"mw-headline\" id=\"Other_areas_of_Wikipedia\">Other areas of Wikipedia</span>,\n",
       " <span class=\"mw-headline\" id=\"Wikipedia's_sister_projects\">Wikipedia's sister projects</span>,\n",
       " <span class=\"mw-headline\" id=\"Wikipedia_languages\">Wikipedia languages</span>]"
      ]
     },
     "execution_count": 4,
     "metadata": {},
     "output_type": "execute_result"
    }
   ],
   "source": [
    "main_heading = soup.find_all(\"span\",class_=\"mw-headline\")\n",
    "main_heading"
   ]
  },
  {
   "cell_type": "code",
   "execution_count": 5,
   "metadata": {},
   "outputs": [
    {
     "data": {
      "text/plain": [
       "[\"From today's featured article\",\n",
       " 'Did you know\\xa0...',\n",
       " 'In the news',\n",
       " 'On this day',\n",
       " \"Today's featured picture\",\n",
       " 'Other areas of Wikipedia',\n",
       " \"Wikipedia's sister projects\",\n",
       " 'Wikipedia languages']"
      ]
     },
     "execution_count": 5,
     "metadata": {},
     "output_type": "execute_result"
    }
   ],
   "source": [
    "heading = []\n",
    "for i in main_heading:\n",
    "    heading.append(i.text)\n",
    "heading"
   ]
  },
  {
   "cell_type": "markdown",
   "metadata": {},
   "source": [
    "###### 2)Write a python program to display IMDB’s Top rated 100 movies’ data (i.e. Name, IMDB rating, Year of release) and make data frame."
   ]
  },
  {
   "cell_type": "code",
   "execution_count": 6,
   "metadata": {},
   "outputs": [
    {
     "data": {
      "text/plain": [
       "<Response [200]>"
      ]
     },
     "execution_count": 6,
     "metadata": {},
     "output_type": "execute_result"
    }
   ],
   "source": [
    "page = requests.get(\"https://www.imdb.com/list/ls091520106/\")\n",
    "page"
   ]
  },
  {
   "cell_type": "code",
   "execution_count": 7,
   "metadata": {},
   "outputs": [],
   "source": [
    "soup = BeautifulSoup(page.content)"
   ]
  },
  {
   "cell_type": "code",
   "execution_count": 8,
   "metadata": {},
   "outputs": [],
   "source": [
    "name = soup.find_all('h3',class_='lister-item-header')"
   ]
  },
  {
   "cell_type": "code",
   "execution_count": 9,
   "metadata": {},
   "outputs": [
    {
     "data": {
      "text/plain": [
       "['The Shawshank Redemption',\n",
       " 'The Godfather',\n",
       " 'The Godfather: Part II',\n",
       " 'The Dark Knight',\n",
       " '12 Angry Men',\n",
       " \"Schindler's List\",\n",
       " 'The Lord of the Rings: The Return of the King',\n",
       " 'Pulp Fiction',\n",
       " 'Il buono, il brutto, il cattivo',\n",
       " 'Fight Club',\n",
       " 'Joker',\n",
       " 'The Lord of the Rings: The Fellowship of the Ring',\n",
       " 'Forrest Gump',\n",
       " 'Inception',\n",
       " 'Star Wars: Episode V - The Empire Strikes Back',\n",
       " 'The Lord of the Rings: The Two Towers',\n",
       " 'The Matrix',\n",
       " \"One Flew Over the Cuckoo's Nest\",\n",
       " 'Goodfellas',\n",
       " 'Shichinin no samurai',\n",
       " 'Se7en',\n",
       " 'Cidade de Deus',\n",
       " 'La vita è bella',\n",
       " 'The Silence of the Lambs',\n",
       " 'Star Wars',\n",
       " \"It's a Wonderful Life\",\n",
       " 'Saving Private Ryan',\n",
       " 'Sen to Chihiro no kamikakushi',\n",
       " 'The Green Mile',\n",
       " 'Léon',\n",
       " 'Seppuku',\n",
       " 'Interstellar',\n",
       " 'The Usual Suspects',\n",
       " 'The Lion King',\n",
       " 'American History X',\n",
       " 'Back to the Future',\n",
       " 'The Pianist',\n",
       " 'Modern Times',\n",
       " 'Terminator 2: Judgment Day',\n",
       " 'The Intouchables',\n",
       " 'Psycho',\n",
       " 'Gladiator',\n",
       " 'City Lights',\n",
       " 'The Departed',\n",
       " 'Whiplash',\n",
       " 'Once Upon a Time in the West',\n",
       " 'The Prestige',\n",
       " 'Avengers: Endgame',\n",
       " 'Casablanca',\n",
       " 'Hotaru no haka',\n",
       " 'Rear Window',\n",
       " 'Nuovo Cinema Paradiso',\n",
       " 'Alien',\n",
       " 'Raiders of the Lost Ark',\n",
       " 'Memento',\n",
       " 'Apocalypse Now',\n",
       " 'The Great Dictator',\n",
       " 'The Lives of Others',\n",
       " 'Avengers: Infinity War',\n",
       " 'Django Unchained',\n",
       " 'Spider-Man: Into the Spider-Verse',\n",
       " 'The Shining',\n",
       " 'Paths of Glory',\n",
       " 'WALL·E',\n",
       " 'Sunset Blvd.',\n",
       " 'Dr. Strangelove or: How I Learned to Stop Worrying and Love the Bomb',\n",
       " 'Mononoke-hime',\n",
       " 'Oldeuboi',\n",
       " 'Witness for the Prosecution',\n",
       " 'The Dark Knight Rises',\n",
       " 'Once Upon a Time in America',\n",
       " 'Gisaengchung',\n",
       " 'Aliens',\n",
       " 'American Beauty',\n",
       " 'Coco',\n",
       " 'Kimi no na wa.',\n",
       " 'Braveheart',\n",
       " 'Das Boot',\n",
       " '3 Idiots',\n",
       " 'Taare Zameen Par',\n",
       " 'Star Wars: Episode VI - Return of the Jedi',\n",
       " 'Toy Story',\n",
       " 'Reservoir Dogs',\n",
       " 'Amadeus',\n",
       " 'Dangal',\n",
       " 'Good Will Hunting',\n",
       " 'Inglourious Basterds',\n",
       " 'M - Eine Stadt sucht einen Mörder',\n",
       " 'Requiem for a Dream',\n",
       " '2001: A Space Odyssey',\n",
       " 'Vertigo',\n",
       " 'Eternal Sunshine of the Spotless Mind',\n",
       " 'Citizen Kane',\n",
       " 'Full Metal Jacket',\n",
       " 'Jagten',\n",
       " 'North by Northwest',\n",
       " 'A Clockwork Orange',\n",
       " 'Snatch',\n",
       " \"Le fabuleux destin d'Amélie Poulain\",\n",
       " 'The Kid']"
      ]
     },
     "execution_count": 9,
     "metadata": {},
     "output_type": "execute_result"
    }
   ],
   "source": [
    "titles = [movie.find('a').text for movie in name]\n",
    "titles"
   ]
  },
  {
   "cell_type": "code",
   "execution_count": 10,
   "metadata": {},
   "outputs": [
    {
     "data": {
      "text/plain": [
       "[<div class=\"ipl-rating-star small\">\n",
       " <span class=\"ipl-rating-star__star\">\n",
       " <svg class=\"ipl-icon ipl-star-icon\" fill=\"#000000\" height=\"24\" viewbox=\"0 0 24 24\" width=\"24\" xmlns=\"http://www.w3.org/2000/svg\">\n",
       " <path d=\"M0 0h24v24H0z\" fill=\"none\"></path>\n",
       " <path d=\"M12 17.27L18.18 21l-1.64-7.03L22 9.24l-7.19-.61L12 2 9.19 8.63 2 9.24l5.46 4.73L5.82 21z\"></path>\n",
       " <path d=\"M0 0h24v24H0z\" fill=\"none\"></path>\n",
       " </svg>\n",
       " </span>\n",
       " <span class=\"ipl-rating-star__rating\">9.3</span>\n",
       " </div>,\n",
       " <div class=\"ipl-rating-star small\">\n",
       " <span class=\"ipl-rating-star__star\">\n",
       " <svg class=\"ipl-icon ipl-star-icon\" fill=\"#000000\" height=\"24\" viewbox=\"0 0 24 24\" width=\"24\" xmlns=\"http://www.w3.org/2000/svg\">\n",
       " <path d=\"M0 0h24v24H0z\" fill=\"none\"></path>\n",
       " <path d=\"M12 17.27L18.18 21l-1.64-7.03L22 9.24l-7.19-.61L12 2 9.19 8.63 2 9.24l5.46 4.73L5.82 21z\"></path>\n",
       " <path d=\"M0 0h24v24H0z\" fill=\"none\"></path>\n",
       " </svg>\n",
       " </span>\n",
       " <span class=\"ipl-rating-star__rating\">9.2</span>\n",
       " </div>,\n",
       " <div class=\"ipl-rating-star small\">\n",
       " <span class=\"ipl-rating-star__star\">\n",
       " <svg class=\"ipl-icon ipl-star-icon\" fill=\"#000000\" height=\"24\" viewbox=\"0 0 24 24\" width=\"24\" xmlns=\"http://www.w3.org/2000/svg\">\n",
       " <path d=\"M0 0h24v24H0z\" fill=\"none\"></path>\n",
       " <path d=\"M12 17.27L18.18 21l-1.64-7.03L22 9.24l-7.19-.61L12 2 9.19 8.63 2 9.24l5.46 4.73L5.82 21z\"></path>\n",
       " <path d=\"M0 0h24v24H0z\" fill=\"none\"></path>\n",
       " </svg>\n",
       " </span>\n",
       " <span class=\"ipl-rating-star__rating\">9</span>\n",
       " </div>,\n",
       " <div class=\"ipl-rating-star small\">\n",
       " <span class=\"ipl-rating-star__star\">\n",
       " <svg class=\"ipl-icon ipl-star-icon\" fill=\"#000000\" height=\"24\" viewbox=\"0 0 24 24\" width=\"24\" xmlns=\"http://www.w3.org/2000/svg\">\n",
       " <path d=\"M0 0h24v24H0z\" fill=\"none\"></path>\n",
       " <path d=\"M12 17.27L18.18 21l-1.64-7.03L22 9.24l-7.19-.61L12 2 9.19 8.63 2 9.24l5.46 4.73L5.82 21z\"></path>\n",
       " <path d=\"M0 0h24v24H0z\" fill=\"none\"></path>\n",
       " </svg>\n",
       " </span>\n",
       " <span class=\"ipl-rating-star__rating\">9</span>\n",
       " </div>,\n",
       " <div class=\"ipl-rating-star small\">\n",
       " <span class=\"ipl-rating-star__star\">\n",
       " <svg class=\"ipl-icon ipl-star-icon\" fill=\"#000000\" height=\"24\" viewbox=\"0 0 24 24\" width=\"24\" xmlns=\"http://www.w3.org/2000/svg\">\n",
       " <path d=\"M0 0h24v24H0z\" fill=\"none\"></path>\n",
       " <path d=\"M12 17.27L18.18 21l-1.64-7.03L22 9.24l-7.19-.61L12 2 9.19 8.63 2 9.24l5.46 4.73L5.82 21z\"></path>\n",
       " <path d=\"M0 0h24v24H0z\" fill=\"none\"></path>\n",
       " </svg>\n",
       " </span>\n",
       " <span class=\"ipl-rating-star__rating\">9</span>\n",
       " </div>,\n",
       " <div class=\"ipl-rating-star small\">\n",
       " <span class=\"ipl-rating-star__star\">\n",
       " <svg class=\"ipl-icon ipl-star-icon\" fill=\"#000000\" height=\"24\" viewbox=\"0 0 24 24\" width=\"24\" xmlns=\"http://www.w3.org/2000/svg\">\n",
       " <path d=\"M0 0h24v24H0z\" fill=\"none\"></path>\n",
       " <path d=\"M12 17.27L18.18 21l-1.64-7.03L22 9.24l-7.19-.61L12 2 9.19 8.63 2 9.24l5.46 4.73L5.82 21z\"></path>\n",
       " <path d=\"M0 0h24v24H0z\" fill=\"none\"></path>\n",
       " </svg>\n",
       " </span>\n",
       " <span class=\"ipl-rating-star__rating\">8.9</span>\n",
       " </div>,\n",
       " <div class=\"ipl-rating-star small\">\n",
       " <span class=\"ipl-rating-star__star\">\n",
       " <svg class=\"ipl-icon ipl-star-icon\" fill=\"#000000\" height=\"24\" viewbox=\"0 0 24 24\" width=\"24\" xmlns=\"http://www.w3.org/2000/svg\">\n",
       " <path d=\"M0 0h24v24H0z\" fill=\"none\"></path>\n",
       " <path d=\"M12 17.27L18.18 21l-1.64-7.03L22 9.24l-7.19-.61L12 2 9.19 8.63 2 9.24l5.46 4.73L5.82 21z\"></path>\n",
       " <path d=\"M0 0h24v24H0z\" fill=\"none\"></path>\n",
       " </svg>\n",
       " </span>\n",
       " <span class=\"ipl-rating-star__rating\">8.9</span>\n",
       " </div>,\n",
       " <div class=\"ipl-rating-star small\">\n",
       " <span class=\"ipl-rating-star__star\">\n",
       " <svg class=\"ipl-icon ipl-star-icon\" fill=\"#000000\" height=\"24\" viewbox=\"0 0 24 24\" width=\"24\" xmlns=\"http://www.w3.org/2000/svg\">\n",
       " <path d=\"M0 0h24v24H0z\" fill=\"none\"></path>\n",
       " <path d=\"M12 17.27L18.18 21l-1.64-7.03L22 9.24l-7.19-.61L12 2 9.19 8.63 2 9.24l5.46 4.73L5.82 21z\"></path>\n",
       " <path d=\"M0 0h24v24H0z\" fill=\"none\"></path>\n",
       " </svg>\n",
       " </span>\n",
       " <span class=\"ipl-rating-star__rating\">8.9</span>\n",
       " </div>,\n",
       " <div class=\"ipl-rating-star small\">\n",
       " <span class=\"ipl-rating-star__star\">\n",
       " <svg class=\"ipl-icon ipl-star-icon\" fill=\"#000000\" height=\"24\" viewbox=\"0 0 24 24\" width=\"24\" xmlns=\"http://www.w3.org/2000/svg\">\n",
       " <path d=\"M0 0h24v24H0z\" fill=\"none\"></path>\n",
       " <path d=\"M12 17.27L18.18 21l-1.64-7.03L22 9.24l-7.19-.61L12 2 9.19 8.63 2 9.24l5.46 4.73L5.82 21z\"></path>\n",
       " <path d=\"M0 0h24v24H0z\" fill=\"none\"></path>\n",
       " </svg>\n",
       " </span>\n",
       " <span class=\"ipl-rating-star__rating\">8.8</span>\n",
       " </div>,\n",
       " <div class=\"ipl-rating-star small\">\n",
       " <span class=\"ipl-rating-star__star\">\n",
       " <svg class=\"ipl-icon ipl-star-icon\" fill=\"#000000\" height=\"24\" viewbox=\"0 0 24 24\" width=\"24\" xmlns=\"http://www.w3.org/2000/svg\">\n",
       " <path d=\"M0 0h24v24H0z\" fill=\"none\"></path>\n",
       " <path d=\"M12 17.27L18.18 21l-1.64-7.03L22 9.24l-7.19-.61L12 2 9.19 8.63 2 9.24l5.46 4.73L5.82 21z\"></path>\n",
       " <path d=\"M0 0h24v24H0z\" fill=\"none\"></path>\n",
       " </svg>\n",
       " </span>\n",
       " <span class=\"ipl-rating-star__rating\">8.8</span>\n",
       " </div>,\n",
       " <div class=\"ipl-rating-star small\">\n",
       " <span class=\"ipl-rating-star__star\">\n",
       " <svg class=\"ipl-icon ipl-star-icon\" fill=\"#000000\" height=\"24\" viewbox=\"0 0 24 24\" width=\"24\" xmlns=\"http://www.w3.org/2000/svg\">\n",
       " <path d=\"M0 0h24v24H0z\" fill=\"none\"></path>\n",
       " <path d=\"M12 17.27L18.18 21l-1.64-7.03L22 9.24l-7.19-.61L12 2 9.19 8.63 2 9.24l5.46 4.73L5.82 21z\"></path>\n",
       " <path d=\"M0 0h24v24H0z\" fill=\"none\"></path>\n",
       " </svg>\n",
       " </span>\n",
       " <span class=\"ipl-rating-star__rating\">8.4</span>\n",
       " </div>,\n",
       " <div class=\"ipl-rating-star small\">\n",
       " <span class=\"ipl-rating-star__star\">\n",
       " <svg class=\"ipl-icon ipl-star-icon\" fill=\"#000000\" height=\"24\" viewbox=\"0 0 24 24\" width=\"24\" xmlns=\"http://www.w3.org/2000/svg\">\n",
       " <path d=\"M0 0h24v24H0z\" fill=\"none\"></path>\n",
       " <path d=\"M12 17.27L18.18 21l-1.64-7.03L22 9.24l-7.19-.61L12 2 9.19 8.63 2 9.24l5.46 4.73L5.82 21z\"></path>\n",
       " <path d=\"M0 0h24v24H0z\" fill=\"none\"></path>\n",
       " </svg>\n",
       " </span>\n",
       " <span class=\"ipl-rating-star__rating\">8.8</span>\n",
       " </div>,\n",
       " <div class=\"ipl-rating-star small\">\n",
       " <span class=\"ipl-rating-star__star\">\n",
       " <svg class=\"ipl-icon ipl-star-icon\" fill=\"#000000\" height=\"24\" viewbox=\"0 0 24 24\" width=\"24\" xmlns=\"http://www.w3.org/2000/svg\">\n",
       " <path d=\"M0 0h24v24H0z\" fill=\"none\"></path>\n",
       " <path d=\"M12 17.27L18.18 21l-1.64-7.03L22 9.24l-7.19-.61L12 2 9.19 8.63 2 9.24l5.46 4.73L5.82 21z\"></path>\n",
       " <path d=\"M0 0h24v24H0z\" fill=\"none\"></path>\n",
       " </svg>\n",
       " </span>\n",
       " <span class=\"ipl-rating-star__rating\">8.8</span>\n",
       " </div>,\n",
       " <div class=\"ipl-rating-star small\">\n",
       " <span class=\"ipl-rating-star__star\">\n",
       " <svg class=\"ipl-icon ipl-star-icon\" fill=\"#000000\" height=\"24\" viewbox=\"0 0 24 24\" width=\"24\" xmlns=\"http://www.w3.org/2000/svg\">\n",
       " <path d=\"M0 0h24v24H0z\" fill=\"none\"></path>\n",
       " <path d=\"M12 17.27L18.18 21l-1.64-7.03L22 9.24l-7.19-.61L12 2 9.19 8.63 2 9.24l5.46 4.73L5.82 21z\"></path>\n",
       " <path d=\"M0 0h24v24H0z\" fill=\"none\"></path>\n",
       " </svg>\n",
       " </span>\n",
       " <span class=\"ipl-rating-star__rating\">8.8</span>\n",
       " </div>,\n",
       " <div class=\"ipl-rating-star small\">\n",
       " <span class=\"ipl-rating-star__star\">\n",
       " <svg class=\"ipl-icon ipl-star-icon\" fill=\"#000000\" height=\"24\" viewbox=\"0 0 24 24\" width=\"24\" xmlns=\"http://www.w3.org/2000/svg\">\n",
       " <path d=\"M0 0h24v24H0z\" fill=\"none\"></path>\n",
       " <path d=\"M12 17.27L18.18 21l-1.64-7.03L22 9.24l-7.19-.61L12 2 9.19 8.63 2 9.24l5.46 4.73L5.82 21z\"></path>\n",
       " <path d=\"M0 0h24v24H0z\" fill=\"none\"></path>\n",
       " </svg>\n",
       " </span>\n",
       " <span class=\"ipl-rating-star__rating\">8.7</span>\n",
       " </div>,\n",
       " <div class=\"ipl-rating-star small\">\n",
       " <span class=\"ipl-rating-star__star\">\n",
       " <svg class=\"ipl-icon ipl-star-icon\" fill=\"#000000\" height=\"24\" viewbox=\"0 0 24 24\" width=\"24\" xmlns=\"http://www.w3.org/2000/svg\">\n",
       " <path d=\"M0 0h24v24H0z\" fill=\"none\"></path>\n",
       " <path d=\"M12 17.27L18.18 21l-1.64-7.03L22 9.24l-7.19-.61L12 2 9.19 8.63 2 9.24l5.46 4.73L5.82 21z\"></path>\n",
       " <path d=\"M0 0h24v24H0z\" fill=\"none\"></path>\n",
       " </svg>\n",
       " </span>\n",
       " <span class=\"ipl-rating-star__rating\">8.7</span>\n",
       " </div>,\n",
       " <div class=\"ipl-rating-star small\">\n",
       " <span class=\"ipl-rating-star__star\">\n",
       " <svg class=\"ipl-icon ipl-star-icon\" fill=\"#000000\" height=\"24\" viewbox=\"0 0 24 24\" width=\"24\" xmlns=\"http://www.w3.org/2000/svg\">\n",
       " <path d=\"M0 0h24v24H0z\" fill=\"none\"></path>\n",
       " <path d=\"M12 17.27L18.18 21l-1.64-7.03L22 9.24l-7.19-.61L12 2 9.19 8.63 2 9.24l5.46 4.73L5.82 21z\"></path>\n",
       " <path d=\"M0 0h24v24H0z\" fill=\"none\"></path>\n",
       " </svg>\n",
       " </span>\n",
       " <span class=\"ipl-rating-star__rating\">8.7</span>\n",
       " </div>,\n",
       " <div class=\"ipl-rating-star small\">\n",
       " <span class=\"ipl-rating-star__star\">\n",
       " <svg class=\"ipl-icon ipl-star-icon\" fill=\"#000000\" height=\"24\" viewbox=\"0 0 24 24\" width=\"24\" xmlns=\"http://www.w3.org/2000/svg\">\n",
       " <path d=\"M0 0h24v24H0z\" fill=\"none\"></path>\n",
       " <path d=\"M12 17.27L18.18 21l-1.64-7.03L22 9.24l-7.19-.61L12 2 9.19 8.63 2 9.24l5.46 4.73L5.82 21z\"></path>\n",
       " <path d=\"M0 0h24v24H0z\" fill=\"none\"></path>\n",
       " </svg>\n",
       " </span>\n",
       " <span class=\"ipl-rating-star__rating\">8.7</span>\n",
       " </div>,\n",
       " <div class=\"ipl-rating-star small\">\n",
       " <span class=\"ipl-rating-star__star\">\n",
       " <svg class=\"ipl-icon ipl-star-icon\" fill=\"#000000\" height=\"24\" viewbox=\"0 0 24 24\" width=\"24\" xmlns=\"http://www.w3.org/2000/svg\">\n",
       " <path d=\"M0 0h24v24H0z\" fill=\"none\"></path>\n",
       " <path d=\"M12 17.27L18.18 21l-1.64-7.03L22 9.24l-7.19-.61L12 2 9.19 8.63 2 9.24l5.46 4.73L5.82 21z\"></path>\n",
       " <path d=\"M0 0h24v24H0z\" fill=\"none\"></path>\n",
       " </svg>\n",
       " </span>\n",
       " <span class=\"ipl-rating-star__rating\">8.7</span>\n",
       " </div>,\n",
       " <div class=\"ipl-rating-star small\">\n",
       " <span class=\"ipl-rating-star__star\">\n",
       " <svg class=\"ipl-icon ipl-star-icon\" fill=\"#000000\" height=\"24\" viewbox=\"0 0 24 24\" width=\"24\" xmlns=\"http://www.w3.org/2000/svg\">\n",
       " <path d=\"M0 0h24v24H0z\" fill=\"none\"></path>\n",
       " <path d=\"M12 17.27L18.18 21l-1.64-7.03L22 9.24l-7.19-.61L12 2 9.19 8.63 2 9.24l5.46 4.73L5.82 21z\"></path>\n",
       " <path d=\"M0 0h24v24H0z\" fill=\"none\"></path>\n",
       " </svg>\n",
       " </span>\n",
       " <span class=\"ipl-rating-star__rating\">8.6</span>\n",
       " </div>,\n",
       " <div class=\"ipl-rating-star small\">\n",
       " <span class=\"ipl-rating-star__star\">\n",
       " <svg class=\"ipl-icon ipl-star-icon\" fill=\"#000000\" height=\"24\" viewbox=\"0 0 24 24\" width=\"24\" xmlns=\"http://www.w3.org/2000/svg\">\n",
       " <path d=\"M0 0h24v24H0z\" fill=\"none\"></path>\n",
       " <path d=\"M12 17.27L18.18 21l-1.64-7.03L22 9.24l-7.19-.61L12 2 9.19 8.63 2 9.24l5.46 4.73L5.82 21z\"></path>\n",
       " <path d=\"M0 0h24v24H0z\" fill=\"none\"></path>\n",
       " </svg>\n",
       " </span>\n",
       " <span class=\"ipl-rating-star__rating\">8.6</span>\n",
       " </div>,\n",
       " <div class=\"ipl-rating-star small\">\n",
       " <span class=\"ipl-rating-star__star\">\n",
       " <svg class=\"ipl-icon ipl-star-icon\" fill=\"#000000\" height=\"24\" viewbox=\"0 0 24 24\" width=\"24\" xmlns=\"http://www.w3.org/2000/svg\">\n",
       " <path d=\"M0 0h24v24H0z\" fill=\"none\"></path>\n",
       " <path d=\"M12 17.27L18.18 21l-1.64-7.03L22 9.24l-7.19-.61L12 2 9.19 8.63 2 9.24l5.46 4.73L5.82 21z\"></path>\n",
       " <path d=\"M0 0h24v24H0z\" fill=\"none\"></path>\n",
       " </svg>\n",
       " </span>\n",
       " <span class=\"ipl-rating-star__rating\">8.6</span>\n",
       " </div>,\n",
       " <div class=\"ipl-rating-star small\">\n",
       " <span class=\"ipl-rating-star__star\">\n",
       " <svg class=\"ipl-icon ipl-star-icon\" fill=\"#000000\" height=\"24\" viewbox=\"0 0 24 24\" width=\"24\" xmlns=\"http://www.w3.org/2000/svg\">\n",
       " <path d=\"M0 0h24v24H0z\" fill=\"none\"></path>\n",
       " <path d=\"M12 17.27L18.18 21l-1.64-7.03L22 9.24l-7.19-.61L12 2 9.19 8.63 2 9.24l5.46 4.73L5.82 21z\"></path>\n",
       " <path d=\"M0 0h24v24H0z\" fill=\"none\"></path>\n",
       " </svg>\n",
       " </span>\n",
       " <span class=\"ipl-rating-star__rating\">8.6</span>\n",
       " </div>,\n",
       " <div class=\"ipl-rating-star small\">\n",
       " <span class=\"ipl-rating-star__star\">\n",
       " <svg class=\"ipl-icon ipl-star-icon\" fill=\"#000000\" height=\"24\" viewbox=\"0 0 24 24\" width=\"24\" xmlns=\"http://www.w3.org/2000/svg\">\n",
       " <path d=\"M0 0h24v24H0z\" fill=\"none\"></path>\n",
       " <path d=\"M12 17.27L18.18 21l-1.64-7.03L22 9.24l-7.19-.61L12 2 9.19 8.63 2 9.24l5.46 4.73L5.82 21z\"></path>\n",
       " <path d=\"M0 0h24v24H0z\" fill=\"none\"></path>\n",
       " </svg>\n",
       " </span>\n",
       " <span class=\"ipl-rating-star__rating\">8.6</span>\n",
       " </div>,\n",
       " <div class=\"ipl-rating-star small\">\n",
       " <span class=\"ipl-rating-star__star\">\n",
       " <svg class=\"ipl-icon ipl-star-icon\" fill=\"#000000\" height=\"24\" viewbox=\"0 0 24 24\" width=\"24\" xmlns=\"http://www.w3.org/2000/svg\">\n",
       " <path d=\"M0 0h24v24H0z\" fill=\"none\"></path>\n",
       " <path d=\"M12 17.27L18.18 21l-1.64-7.03L22 9.24l-7.19-.61L12 2 9.19 8.63 2 9.24l5.46 4.73L5.82 21z\"></path>\n",
       " <path d=\"M0 0h24v24H0z\" fill=\"none\"></path>\n",
       " </svg>\n",
       " </span>\n",
       " <span class=\"ipl-rating-star__rating\">8.6</span>\n",
       " </div>,\n",
       " <div class=\"ipl-rating-star small\">\n",
       " <span class=\"ipl-rating-star__star\">\n",
       " <svg class=\"ipl-icon ipl-star-icon\" fill=\"#000000\" height=\"24\" viewbox=\"0 0 24 24\" width=\"24\" xmlns=\"http://www.w3.org/2000/svg\">\n",
       " <path d=\"M0 0h24v24H0z\" fill=\"none\"></path>\n",
       " <path d=\"M12 17.27L18.18 21l-1.64-7.03L22 9.24l-7.19-.61L12 2 9.19 8.63 2 9.24l5.46 4.73L5.82 21z\"></path>\n",
       " <path d=\"M0 0h24v24H0z\" fill=\"none\"></path>\n",
       " </svg>\n",
       " </span>\n",
       " <span class=\"ipl-rating-star__rating\">8.6</span>\n",
       " </div>,\n",
       " <div class=\"ipl-rating-star small\">\n",
       " <span class=\"ipl-rating-star__star\">\n",
       " <svg class=\"ipl-icon ipl-star-icon\" fill=\"#000000\" height=\"24\" viewbox=\"0 0 24 24\" width=\"24\" xmlns=\"http://www.w3.org/2000/svg\">\n",
       " <path d=\"M0 0h24v24H0z\" fill=\"none\"></path>\n",
       " <path d=\"M12 17.27L18.18 21l-1.64-7.03L22 9.24l-7.19-.61L12 2 9.19 8.63 2 9.24l5.46 4.73L5.82 21z\"></path>\n",
       " <path d=\"M0 0h24v24H0z\" fill=\"none\"></path>\n",
       " </svg>\n",
       " </span>\n",
       " <span class=\"ipl-rating-star__rating\">8.6</span>\n",
       " </div>,\n",
       " <div class=\"ipl-rating-star small\">\n",
       " <span class=\"ipl-rating-star__star\">\n",
       " <svg class=\"ipl-icon ipl-star-icon\" fill=\"#000000\" height=\"24\" viewbox=\"0 0 24 24\" width=\"24\" xmlns=\"http://www.w3.org/2000/svg\">\n",
       " <path d=\"M0 0h24v24H0z\" fill=\"none\"></path>\n",
       " <path d=\"M12 17.27L18.18 21l-1.64-7.03L22 9.24l-7.19-.61L12 2 9.19 8.63 2 9.24l5.46 4.73L5.82 21z\"></path>\n",
       " <path d=\"M0 0h24v24H0z\" fill=\"none\"></path>\n",
       " </svg>\n",
       " </span>\n",
       " <span class=\"ipl-rating-star__rating\">8.6</span>\n",
       " </div>,\n",
       " <div class=\"ipl-rating-star small\">\n",
       " <span class=\"ipl-rating-star__star\">\n",
       " <svg class=\"ipl-icon ipl-star-icon\" fill=\"#000000\" height=\"24\" viewbox=\"0 0 24 24\" width=\"24\" xmlns=\"http://www.w3.org/2000/svg\">\n",
       " <path d=\"M0 0h24v24H0z\" fill=\"none\"></path>\n",
       " <path d=\"M12 17.27L18.18 21l-1.64-7.03L22 9.24l-7.19-.61L12 2 9.19 8.63 2 9.24l5.46 4.73L5.82 21z\"></path>\n",
       " <path d=\"M0 0h24v24H0z\" fill=\"none\"></path>\n",
       " </svg>\n",
       " </span>\n",
       " <span class=\"ipl-rating-star__rating\">8.6</span>\n",
       " </div>,\n",
       " <div class=\"ipl-rating-star small\">\n",
       " <span class=\"ipl-rating-star__star\">\n",
       " <svg class=\"ipl-icon ipl-star-icon\" fill=\"#000000\" height=\"24\" viewbox=\"0 0 24 24\" width=\"24\" xmlns=\"http://www.w3.org/2000/svg\">\n",
       " <path d=\"M0 0h24v24H0z\" fill=\"none\"></path>\n",
       " <path d=\"M12 17.27L18.18 21l-1.64-7.03L22 9.24l-7.19-.61L12 2 9.19 8.63 2 9.24l5.46 4.73L5.82 21z\"></path>\n",
       " <path d=\"M0 0h24v24H0z\" fill=\"none\"></path>\n",
       " </svg>\n",
       " </span>\n",
       " <span class=\"ipl-rating-star__rating\">8.5</span>\n",
       " </div>,\n",
       " <div class=\"ipl-rating-star small\">\n",
       " <span class=\"ipl-rating-star__star\">\n",
       " <svg class=\"ipl-icon ipl-star-icon\" fill=\"#000000\" height=\"24\" viewbox=\"0 0 24 24\" width=\"24\" xmlns=\"http://www.w3.org/2000/svg\">\n",
       " <path d=\"M0 0h24v24H0z\" fill=\"none\"></path>\n",
       " <path d=\"M12 17.27L18.18 21l-1.64-7.03L22 9.24l-7.19-.61L12 2 9.19 8.63 2 9.24l5.46 4.73L5.82 21z\"></path>\n",
       " <path d=\"M0 0h24v24H0z\" fill=\"none\"></path>\n",
       " </svg>\n",
       " </span>\n",
       " <span class=\"ipl-rating-star__rating\">8.6</span>\n",
       " </div>,\n",
       " <div class=\"ipl-rating-star small\">\n",
       " <span class=\"ipl-rating-star__star\">\n",
       " <svg class=\"ipl-icon ipl-star-icon\" fill=\"#000000\" height=\"24\" viewbox=\"0 0 24 24\" width=\"24\" xmlns=\"http://www.w3.org/2000/svg\">\n",
       " <path d=\"M0 0h24v24H0z\" fill=\"none\"></path>\n",
       " <path d=\"M12 17.27L18.18 21l-1.64-7.03L22 9.24l-7.19-.61L12 2 9.19 8.63 2 9.24l5.46 4.73L5.82 21z\"></path>\n",
       " <path d=\"M0 0h24v24H0z\" fill=\"none\"></path>\n",
       " </svg>\n",
       " </span>\n",
       " <span class=\"ipl-rating-star__rating\">8.6</span>\n",
       " </div>,\n",
       " <div class=\"ipl-rating-star small\">\n",
       " <span class=\"ipl-rating-star__star\">\n",
       " <svg class=\"ipl-icon ipl-star-icon\" fill=\"#000000\" height=\"24\" viewbox=\"0 0 24 24\" width=\"24\" xmlns=\"http://www.w3.org/2000/svg\">\n",
       " <path d=\"M0 0h24v24H0z\" fill=\"none\"></path>\n",
       " <path d=\"M12 17.27L18.18 21l-1.64-7.03L22 9.24l-7.19-.61L12 2 9.19 8.63 2 9.24l5.46 4.73L5.82 21z\"></path>\n",
       " <path d=\"M0 0h24v24H0z\" fill=\"none\"></path>\n",
       " </svg>\n",
       " </span>\n",
       " <span class=\"ipl-rating-star__rating\">8.5</span>\n",
       " </div>,\n",
       " <div class=\"ipl-rating-star small\">\n",
       " <span class=\"ipl-rating-star__star\">\n",
       " <svg class=\"ipl-icon ipl-star-icon\" fill=\"#000000\" height=\"24\" viewbox=\"0 0 24 24\" width=\"24\" xmlns=\"http://www.w3.org/2000/svg\">\n",
       " <path d=\"M0 0h24v24H0z\" fill=\"none\"></path>\n",
       " <path d=\"M12 17.27L18.18 21l-1.64-7.03L22 9.24l-7.19-.61L12 2 9.19 8.63 2 9.24l5.46 4.73L5.82 21z\"></path>\n",
       " <path d=\"M0 0h24v24H0z\" fill=\"none\"></path>\n",
       " </svg>\n",
       " </span>\n",
       " <span class=\"ipl-rating-star__rating\">8.5</span>\n",
       " </div>,\n",
       " <div class=\"ipl-rating-star small\">\n",
       " <span class=\"ipl-rating-star__star\">\n",
       " <svg class=\"ipl-icon ipl-star-icon\" fill=\"#000000\" height=\"24\" viewbox=\"0 0 24 24\" width=\"24\" xmlns=\"http://www.w3.org/2000/svg\">\n",
       " <path d=\"M0 0h24v24H0z\" fill=\"none\"></path>\n",
       " <path d=\"M12 17.27L18.18 21l-1.64-7.03L22 9.24l-7.19-.61L12 2 9.19 8.63 2 9.24l5.46 4.73L5.82 21z\"></path>\n",
       " <path d=\"M0 0h24v24H0z\" fill=\"none\"></path>\n",
       " </svg>\n",
       " </span>\n",
       " <span class=\"ipl-rating-star__rating\">8.5</span>\n",
       " </div>,\n",
       " <div class=\"ipl-rating-star small\">\n",
       " <span class=\"ipl-rating-star__star\">\n",
       " <svg class=\"ipl-icon ipl-star-icon\" fill=\"#000000\" height=\"24\" viewbox=\"0 0 24 24\" width=\"24\" xmlns=\"http://www.w3.org/2000/svg\">\n",
       " <path d=\"M0 0h24v24H0z\" fill=\"none\"></path>\n",
       " <path d=\"M12 17.27L18.18 21l-1.64-7.03L22 9.24l-7.19-.61L12 2 9.19 8.63 2 9.24l5.46 4.73L5.82 21z\"></path>\n",
       " <path d=\"M0 0h24v24H0z\" fill=\"none\"></path>\n",
       " </svg>\n",
       " </span>\n",
       " <span class=\"ipl-rating-star__rating\">8.5</span>\n",
       " </div>,\n",
       " <div class=\"ipl-rating-star small\">\n",
       " <span class=\"ipl-rating-star__star\">\n",
       " <svg class=\"ipl-icon ipl-star-icon\" fill=\"#000000\" height=\"24\" viewbox=\"0 0 24 24\" width=\"24\" xmlns=\"http://www.w3.org/2000/svg\">\n",
       " <path d=\"M0 0h24v24H0z\" fill=\"none\"></path>\n",
       " <path d=\"M12 17.27L18.18 21l-1.64-7.03L22 9.24l-7.19-.61L12 2 9.19 8.63 2 9.24l5.46 4.73L5.82 21z\"></path>\n",
       " <path d=\"M0 0h24v24H0z\" fill=\"none\"></path>\n",
       " </svg>\n",
       " </span>\n",
       " <span class=\"ipl-rating-star__rating\">8.5</span>\n",
       " </div>,\n",
       " <div class=\"ipl-rating-star small\">\n",
       " <span class=\"ipl-rating-star__star\">\n",
       " <svg class=\"ipl-icon ipl-star-icon\" fill=\"#000000\" height=\"24\" viewbox=\"0 0 24 24\" width=\"24\" xmlns=\"http://www.w3.org/2000/svg\">\n",
       " <path d=\"M0 0h24v24H0z\" fill=\"none\"></path>\n",
       " <path d=\"M12 17.27L18.18 21l-1.64-7.03L22 9.24l-7.19-.61L12 2 9.19 8.63 2 9.24l5.46 4.73L5.82 21z\"></path>\n",
       " <path d=\"M0 0h24v24H0z\" fill=\"none\"></path>\n",
       " </svg>\n",
       " </span>\n",
       " <span class=\"ipl-rating-star__rating\">8.5</span>\n",
       " </div>,\n",
       " <div class=\"ipl-rating-star small\">\n",
       " <span class=\"ipl-rating-star__star\">\n",
       " <svg class=\"ipl-icon ipl-star-icon\" fill=\"#000000\" height=\"24\" viewbox=\"0 0 24 24\" width=\"24\" xmlns=\"http://www.w3.org/2000/svg\">\n",
       " <path d=\"M0 0h24v24H0z\" fill=\"none\"></path>\n",
       " <path d=\"M12 17.27L18.18 21l-1.64-7.03L22 9.24l-7.19-.61L12 2 9.19 8.63 2 9.24l5.46 4.73L5.82 21z\"></path>\n",
       " <path d=\"M0 0h24v24H0z\" fill=\"none\"></path>\n",
       " </svg>\n",
       " </span>\n",
       " <span class=\"ipl-rating-star__rating\">8.5</span>\n",
       " </div>,\n",
       " <div class=\"ipl-rating-star small\">\n",
       " <span class=\"ipl-rating-star__star\">\n",
       " <svg class=\"ipl-icon ipl-star-icon\" fill=\"#000000\" height=\"24\" viewbox=\"0 0 24 24\" width=\"24\" xmlns=\"http://www.w3.org/2000/svg\">\n",
       " <path d=\"M0 0h24v24H0z\" fill=\"none\"></path>\n",
       " <path d=\"M12 17.27L18.18 21l-1.64-7.03L22 9.24l-7.19-.61L12 2 9.19 8.63 2 9.24l5.46 4.73L5.82 21z\"></path>\n",
       " <path d=\"M0 0h24v24H0z\" fill=\"none\"></path>\n",
       " </svg>\n",
       " </span>\n",
       " <span class=\"ipl-rating-star__rating\">8.5</span>\n",
       " </div>,\n",
       " <div class=\"ipl-rating-star small\">\n",
       " <span class=\"ipl-rating-star__star\">\n",
       " <svg class=\"ipl-icon ipl-star-icon\" fill=\"#000000\" height=\"24\" viewbox=\"0 0 24 24\" width=\"24\" xmlns=\"http://www.w3.org/2000/svg\">\n",
       " <path d=\"M0 0h24v24H0z\" fill=\"none\"></path>\n",
       " <path d=\"M12 17.27L18.18 21l-1.64-7.03L22 9.24l-7.19-.61L12 2 9.19 8.63 2 9.24l5.46 4.73L5.82 21z\"></path>\n",
       " <path d=\"M0 0h24v24H0z\" fill=\"none\"></path>\n",
       " </svg>\n",
       " </span>\n",
       " <span class=\"ipl-rating-star__rating\">8.5</span>\n",
       " </div>,\n",
       " <div class=\"ipl-rating-star small\">\n",
       " <span class=\"ipl-rating-star__star\">\n",
       " <svg class=\"ipl-icon ipl-star-icon\" fill=\"#000000\" height=\"24\" viewbox=\"0 0 24 24\" width=\"24\" xmlns=\"http://www.w3.org/2000/svg\">\n",
       " <path d=\"M0 0h24v24H0z\" fill=\"none\"></path>\n",
       " <path d=\"M12 17.27L18.18 21l-1.64-7.03L22 9.24l-7.19-.61L12 2 9.19 8.63 2 9.24l5.46 4.73L5.82 21z\"></path>\n",
       " <path d=\"M0 0h24v24H0z\" fill=\"none\"></path>\n",
       " </svg>\n",
       " </span>\n",
       " <span class=\"ipl-rating-star__rating\">8.5</span>\n",
       " </div>,\n",
       " <div class=\"ipl-rating-star small\">\n",
       " <span class=\"ipl-rating-star__star\">\n",
       " <svg class=\"ipl-icon ipl-star-icon\" fill=\"#000000\" height=\"24\" viewbox=\"0 0 24 24\" width=\"24\" xmlns=\"http://www.w3.org/2000/svg\">\n",
       " <path d=\"M0 0h24v24H0z\" fill=\"none\"></path>\n",
       " <path d=\"M12 17.27L18.18 21l-1.64-7.03L22 9.24l-7.19-.61L12 2 9.19 8.63 2 9.24l5.46 4.73L5.82 21z\"></path>\n",
       " <path d=\"M0 0h24v24H0z\" fill=\"none\"></path>\n",
       " </svg>\n",
       " </span>\n",
       " <span class=\"ipl-rating-star__rating\">8.5</span>\n",
       " </div>,\n",
       " <div class=\"ipl-rating-star small\">\n",
       " <span class=\"ipl-rating-star__star\">\n",
       " <svg class=\"ipl-icon ipl-star-icon\" fill=\"#000000\" height=\"24\" viewbox=\"0 0 24 24\" width=\"24\" xmlns=\"http://www.w3.org/2000/svg\">\n",
       " <path d=\"M0 0h24v24H0z\" fill=\"none\"></path>\n",
       " <path d=\"M12 17.27L18.18 21l-1.64-7.03L22 9.24l-7.19-.61L12 2 9.19 8.63 2 9.24l5.46 4.73L5.82 21z\"></path>\n",
       " <path d=\"M0 0h24v24H0z\" fill=\"none\"></path>\n",
       " </svg>\n",
       " </span>\n",
       " <span class=\"ipl-rating-star__rating\">8.5</span>\n",
       " </div>,\n",
       " <div class=\"ipl-rating-star small\">\n",
       " <span class=\"ipl-rating-star__star\">\n",
       " <svg class=\"ipl-icon ipl-star-icon\" fill=\"#000000\" height=\"24\" viewbox=\"0 0 24 24\" width=\"24\" xmlns=\"http://www.w3.org/2000/svg\">\n",
       " <path d=\"M0 0h24v24H0z\" fill=\"none\"></path>\n",
       " <path d=\"M12 17.27L18.18 21l-1.64-7.03L22 9.24l-7.19-.61L12 2 9.19 8.63 2 9.24l5.46 4.73L5.82 21z\"></path>\n",
       " <path d=\"M0 0h24v24H0z\" fill=\"none\"></path>\n",
       " </svg>\n",
       " </span>\n",
       " <span class=\"ipl-rating-star__rating\">8.5</span>\n",
       " </div>,\n",
       " <div class=\"ipl-rating-star small\">\n",
       " <span class=\"ipl-rating-star__star\">\n",
       " <svg class=\"ipl-icon ipl-star-icon\" fill=\"#000000\" height=\"24\" viewbox=\"0 0 24 24\" width=\"24\" xmlns=\"http://www.w3.org/2000/svg\">\n",
       " <path d=\"M0 0h24v24H0z\" fill=\"none\"></path>\n",
       " <path d=\"M12 17.27L18.18 21l-1.64-7.03L22 9.24l-7.19-.61L12 2 9.19 8.63 2 9.24l5.46 4.73L5.82 21z\"></path>\n",
       " <path d=\"M0 0h24v24H0z\" fill=\"none\"></path>\n",
       " </svg>\n",
       " </span>\n",
       " <span class=\"ipl-rating-star__rating\">8.5</span>\n",
       " </div>,\n",
       " <div class=\"ipl-rating-star small\">\n",
       " <span class=\"ipl-rating-star__star\">\n",
       " <svg class=\"ipl-icon ipl-star-icon\" fill=\"#000000\" height=\"24\" viewbox=\"0 0 24 24\" width=\"24\" xmlns=\"http://www.w3.org/2000/svg\">\n",
       " <path d=\"M0 0h24v24H0z\" fill=\"none\"></path>\n",
       " <path d=\"M12 17.27L18.18 21l-1.64-7.03L22 9.24l-7.19-.61L12 2 9.19 8.63 2 9.24l5.46 4.73L5.82 21z\"></path>\n",
       " <path d=\"M0 0h24v24H0z\" fill=\"none\"></path>\n",
       " </svg>\n",
       " </span>\n",
       " <span class=\"ipl-rating-star__rating\">8.5</span>\n",
       " </div>,\n",
       " <div class=\"ipl-rating-star small\">\n",
       " <span class=\"ipl-rating-star__star\">\n",
       " <svg class=\"ipl-icon ipl-star-icon\" fill=\"#000000\" height=\"24\" viewbox=\"0 0 24 24\" width=\"24\" xmlns=\"http://www.w3.org/2000/svg\">\n",
       " <path d=\"M0 0h24v24H0z\" fill=\"none\"></path>\n",
       " <path d=\"M12 17.27L18.18 21l-1.64-7.03L22 9.24l-7.19-.61L12 2 9.19 8.63 2 9.24l5.46 4.73L5.82 21z\"></path>\n",
       " <path d=\"M0 0h24v24H0z\" fill=\"none\"></path>\n",
       " </svg>\n",
       " </span>\n",
       " <span class=\"ipl-rating-star__rating\">8.4</span>\n",
       " </div>,\n",
       " <div class=\"ipl-rating-star small\">\n",
       " <span class=\"ipl-rating-star__star\">\n",
       " <svg class=\"ipl-icon ipl-star-icon\" fill=\"#000000\" height=\"24\" viewbox=\"0 0 24 24\" width=\"24\" xmlns=\"http://www.w3.org/2000/svg\">\n",
       " <path d=\"M0 0h24v24H0z\" fill=\"none\"></path>\n",
       " <path d=\"M12 17.27L18.18 21l-1.64-7.03L22 9.24l-7.19-.61L12 2 9.19 8.63 2 9.24l5.46 4.73L5.82 21z\"></path>\n",
       " <path d=\"M0 0h24v24H0z\" fill=\"none\"></path>\n",
       " </svg>\n",
       " </span>\n",
       " <span class=\"ipl-rating-star__rating\">8.5</span>\n",
       " </div>,\n",
       " <div class=\"ipl-rating-star small\">\n",
       " <span class=\"ipl-rating-star__star\">\n",
       " <svg class=\"ipl-icon ipl-star-icon\" fill=\"#000000\" height=\"24\" viewbox=\"0 0 24 24\" width=\"24\" xmlns=\"http://www.w3.org/2000/svg\">\n",
       " <path d=\"M0 0h24v24H0z\" fill=\"none\"></path>\n",
       " <path d=\"M12 17.27L18.18 21l-1.64-7.03L22 9.24l-7.19-.61L12 2 9.19 8.63 2 9.24l5.46 4.73L5.82 21z\"></path>\n",
       " <path d=\"M0 0h24v24H0z\" fill=\"none\"></path>\n",
       " </svg>\n",
       " </span>\n",
       " <span class=\"ipl-rating-star__rating\">8.5</span>\n",
       " </div>,\n",
       " <div class=\"ipl-rating-star small\">\n",
       " <span class=\"ipl-rating-star__star\">\n",
       " <svg class=\"ipl-icon ipl-star-icon\" fill=\"#000000\" height=\"24\" viewbox=\"0 0 24 24\" width=\"24\" xmlns=\"http://www.w3.org/2000/svg\">\n",
       " <path d=\"M0 0h24v24H0z\" fill=\"none\"></path>\n",
       " <path d=\"M12 17.27L18.18 21l-1.64-7.03L22 9.24l-7.19-.61L12 2 9.19 8.63 2 9.24l5.46 4.73L5.82 21z\"></path>\n",
       " <path d=\"M0 0h24v24H0z\" fill=\"none\"></path>\n",
       " </svg>\n",
       " </span>\n",
       " <span class=\"ipl-rating-star__rating\">8.5</span>\n",
       " </div>,\n",
       " <div class=\"ipl-rating-star small\">\n",
       " <span class=\"ipl-rating-star__star\">\n",
       " <svg class=\"ipl-icon ipl-star-icon\" fill=\"#000000\" height=\"24\" viewbox=\"0 0 24 24\" width=\"24\" xmlns=\"http://www.w3.org/2000/svg\">\n",
       " <path d=\"M0 0h24v24H0z\" fill=\"none\"></path>\n",
       " <path d=\"M12 17.27L18.18 21l-1.64-7.03L22 9.24l-7.19-.61L12 2 9.19 8.63 2 9.24l5.46 4.73L5.82 21z\"></path>\n",
       " <path d=\"M0 0h24v24H0z\" fill=\"none\"></path>\n",
       " </svg>\n",
       " </span>\n",
       " <span class=\"ipl-rating-star__rating\">8.5</span>\n",
       " </div>,\n",
       " <div class=\"ipl-rating-star small\">\n",
       " <span class=\"ipl-rating-star__star\">\n",
       " <svg class=\"ipl-icon ipl-star-icon\" fill=\"#000000\" height=\"24\" viewbox=\"0 0 24 24\" width=\"24\" xmlns=\"http://www.w3.org/2000/svg\">\n",
       " <path d=\"M0 0h24v24H0z\" fill=\"none\"></path>\n",
       " <path d=\"M12 17.27L18.18 21l-1.64-7.03L22 9.24l-7.19-.61L12 2 9.19 8.63 2 9.24l5.46 4.73L5.82 21z\"></path>\n",
       " <path d=\"M0 0h24v24H0z\" fill=\"none\"></path>\n",
       " </svg>\n",
       " </span>\n",
       " <span class=\"ipl-rating-star__rating\">8.4</span>\n",
       " </div>,\n",
       " <div class=\"ipl-rating-star small\">\n",
       " <span class=\"ipl-rating-star__star\">\n",
       " <svg class=\"ipl-icon ipl-star-icon\" fill=\"#000000\" height=\"24\" viewbox=\"0 0 24 24\" width=\"24\" xmlns=\"http://www.w3.org/2000/svg\">\n",
       " <path d=\"M0 0h24v24H0z\" fill=\"none\"></path>\n",
       " <path d=\"M12 17.27L18.18 21l-1.64-7.03L22 9.24l-7.19-.61L12 2 9.19 8.63 2 9.24l5.46 4.73L5.82 21z\"></path>\n",
       " <path d=\"M0 0h24v24H0z\" fill=\"none\"></path>\n",
       " </svg>\n",
       " </span>\n",
       " <span class=\"ipl-rating-star__rating\">8.4</span>\n",
       " </div>,\n",
       " <div class=\"ipl-rating-star small\">\n",
       " <span class=\"ipl-rating-star__star\">\n",
       " <svg class=\"ipl-icon ipl-star-icon\" fill=\"#000000\" height=\"24\" viewbox=\"0 0 24 24\" width=\"24\" xmlns=\"http://www.w3.org/2000/svg\">\n",
       " <path d=\"M0 0h24v24H0z\" fill=\"none\"></path>\n",
       " <path d=\"M12 17.27L18.18 21l-1.64-7.03L22 9.24l-7.19-.61L12 2 9.19 8.63 2 9.24l5.46 4.73L5.82 21z\"></path>\n",
       " <path d=\"M0 0h24v24H0z\" fill=\"none\"></path>\n",
       " </svg>\n",
       " </span>\n",
       " <span class=\"ipl-rating-star__rating\">8.4</span>\n",
       " </div>,\n",
       " <div class=\"ipl-rating-star small\">\n",
       " <span class=\"ipl-rating-star__star\">\n",
       " <svg class=\"ipl-icon ipl-star-icon\" fill=\"#000000\" height=\"24\" viewbox=\"0 0 24 24\" width=\"24\" xmlns=\"http://www.w3.org/2000/svg\">\n",
       " <path d=\"M0 0h24v24H0z\" fill=\"none\"></path>\n",
       " <path d=\"M12 17.27L18.18 21l-1.64-7.03L22 9.24l-7.19-.61L12 2 9.19 8.63 2 9.24l5.46 4.73L5.82 21z\"></path>\n",
       " <path d=\"M0 0h24v24H0z\" fill=\"none\"></path>\n",
       " </svg>\n",
       " </span>\n",
       " <span class=\"ipl-rating-star__rating\">8.4</span>\n",
       " </div>,\n",
       " <div class=\"ipl-rating-star small\">\n",
       " <span class=\"ipl-rating-star__star\">\n",
       " <svg class=\"ipl-icon ipl-star-icon\" fill=\"#000000\" height=\"24\" viewbox=\"0 0 24 24\" width=\"24\" xmlns=\"http://www.w3.org/2000/svg\">\n",
       " <path d=\"M0 0h24v24H0z\" fill=\"none\"></path>\n",
       " <path d=\"M12 17.27L18.18 21l-1.64-7.03L22 9.24l-7.19-.61L12 2 9.19 8.63 2 9.24l5.46 4.73L5.82 21z\"></path>\n",
       " <path d=\"M0 0h24v24H0z\" fill=\"none\"></path>\n",
       " </svg>\n",
       " </span>\n",
       " <span class=\"ipl-rating-star__rating\">8.4</span>\n",
       " </div>,\n",
       " <div class=\"ipl-rating-star small\">\n",
       " <span class=\"ipl-rating-star__star\">\n",
       " <svg class=\"ipl-icon ipl-star-icon\" fill=\"#000000\" height=\"24\" viewbox=\"0 0 24 24\" width=\"24\" xmlns=\"http://www.w3.org/2000/svg\">\n",
       " <path d=\"M0 0h24v24H0z\" fill=\"none\"></path>\n",
       " <path d=\"M12 17.27L18.18 21l-1.64-7.03L22 9.24l-7.19-.61L12 2 9.19 8.63 2 9.24l5.46 4.73L5.82 21z\"></path>\n",
       " <path d=\"M0 0h24v24H0z\" fill=\"none\"></path>\n",
       " </svg>\n",
       " </span>\n",
       " <span class=\"ipl-rating-star__rating\">8.4</span>\n",
       " </div>,\n",
       " <div class=\"ipl-rating-star small\">\n",
       " <span class=\"ipl-rating-star__star\">\n",
       " <svg class=\"ipl-icon ipl-star-icon\" fill=\"#000000\" height=\"24\" viewbox=\"0 0 24 24\" width=\"24\" xmlns=\"http://www.w3.org/2000/svg\">\n",
       " <path d=\"M0 0h24v24H0z\" fill=\"none\"></path>\n",
       " <path d=\"M12 17.27L18.18 21l-1.64-7.03L22 9.24l-7.19-.61L12 2 9.19 8.63 2 9.24l5.46 4.73L5.82 21z\"></path>\n",
       " <path d=\"M0 0h24v24H0z\" fill=\"none\"></path>\n",
       " </svg>\n",
       " </span>\n",
       " <span class=\"ipl-rating-star__rating\">8.4</span>\n",
       " </div>,\n",
       " <div class=\"ipl-rating-star small\">\n",
       " <span class=\"ipl-rating-star__star\">\n",
       " <svg class=\"ipl-icon ipl-star-icon\" fill=\"#000000\" height=\"24\" viewbox=\"0 0 24 24\" width=\"24\" xmlns=\"http://www.w3.org/2000/svg\">\n",
       " <path d=\"M0 0h24v24H0z\" fill=\"none\"></path>\n",
       " <path d=\"M12 17.27L18.18 21l-1.64-7.03L22 9.24l-7.19-.61L12 2 9.19 8.63 2 9.24l5.46 4.73L5.82 21z\"></path>\n",
       " <path d=\"M0 0h24v24H0z\" fill=\"none\"></path>\n",
       " </svg>\n",
       " </span>\n",
       " <span class=\"ipl-rating-star__rating\">8.4</span>\n",
       " </div>,\n",
       " <div class=\"ipl-rating-star small\">\n",
       " <span class=\"ipl-rating-star__star\">\n",
       " <svg class=\"ipl-icon ipl-star-icon\" fill=\"#000000\" height=\"24\" viewbox=\"0 0 24 24\" width=\"24\" xmlns=\"http://www.w3.org/2000/svg\">\n",
       " <path d=\"M0 0h24v24H0z\" fill=\"none\"></path>\n",
       " <path d=\"M12 17.27L18.18 21l-1.64-7.03L22 9.24l-7.19-.61L12 2 9.19 8.63 2 9.24l5.46 4.73L5.82 21z\"></path>\n",
       " <path d=\"M0 0h24v24H0z\" fill=\"none\"></path>\n",
       " </svg>\n",
       " </span>\n",
       " <span class=\"ipl-rating-star__rating\">8.4</span>\n",
       " </div>,\n",
       " <div class=\"ipl-rating-star small\">\n",
       " <span class=\"ipl-rating-star__star\">\n",
       " <svg class=\"ipl-icon ipl-star-icon\" fill=\"#000000\" height=\"24\" viewbox=\"0 0 24 24\" width=\"24\" xmlns=\"http://www.w3.org/2000/svg\">\n",
       " <path d=\"M0 0h24v24H0z\" fill=\"none\"></path>\n",
       " <path d=\"M12 17.27L18.18 21l-1.64-7.03L22 9.24l-7.19-.61L12 2 9.19 8.63 2 9.24l5.46 4.73L5.82 21z\"></path>\n",
       " <path d=\"M0 0h24v24H0z\" fill=\"none\"></path>\n",
       " </svg>\n",
       " </span>\n",
       " <span class=\"ipl-rating-star__rating\">8.4</span>\n",
       " </div>,\n",
       " <div class=\"ipl-rating-star small\">\n",
       " <span class=\"ipl-rating-star__star\">\n",
       " <svg class=\"ipl-icon ipl-star-icon\" fill=\"#000000\" height=\"24\" viewbox=\"0 0 24 24\" width=\"24\" xmlns=\"http://www.w3.org/2000/svg\">\n",
       " <path d=\"M0 0h24v24H0z\" fill=\"none\"></path>\n",
       " <path d=\"M12 17.27L18.18 21l-1.64-7.03L22 9.24l-7.19-.61L12 2 9.19 8.63 2 9.24l5.46 4.73L5.82 21z\"></path>\n",
       " <path d=\"M0 0h24v24H0z\" fill=\"none\"></path>\n",
       " </svg>\n",
       " </span>\n",
       " <span class=\"ipl-rating-star__rating\">8.4</span>\n",
       " </div>,\n",
       " <div class=\"ipl-rating-star small\">\n",
       " <span class=\"ipl-rating-star__star\">\n",
       " <svg class=\"ipl-icon ipl-star-icon\" fill=\"#000000\" height=\"24\" viewbox=\"0 0 24 24\" width=\"24\" xmlns=\"http://www.w3.org/2000/svg\">\n",
       " <path d=\"M0 0h24v24H0z\" fill=\"none\"></path>\n",
       " <path d=\"M12 17.27L18.18 21l-1.64-7.03L22 9.24l-7.19-.61L12 2 9.19 8.63 2 9.24l5.46 4.73L5.82 21z\"></path>\n",
       " <path d=\"M0 0h24v24H0z\" fill=\"none\"></path>\n",
       " </svg>\n",
       " </span>\n",
       " <span class=\"ipl-rating-star__rating\">8.4</span>\n",
       " </div>,\n",
       " <div class=\"ipl-rating-star small\">\n",
       " <span class=\"ipl-rating-star__star\">\n",
       " <svg class=\"ipl-icon ipl-star-icon\" fill=\"#000000\" height=\"24\" viewbox=\"0 0 24 24\" width=\"24\" xmlns=\"http://www.w3.org/2000/svg\">\n",
       " <path d=\"M0 0h24v24H0z\" fill=\"none\"></path>\n",
       " <path d=\"M12 17.27L18.18 21l-1.64-7.03L22 9.24l-7.19-.61L12 2 9.19 8.63 2 9.24l5.46 4.73L5.82 21z\"></path>\n",
       " <path d=\"M0 0h24v24H0z\" fill=\"none\"></path>\n",
       " </svg>\n",
       " </span>\n",
       " <span class=\"ipl-rating-star__rating\">8.4</span>\n",
       " </div>,\n",
       " <div class=\"ipl-rating-star small\">\n",
       " <span class=\"ipl-rating-star__star\">\n",
       " <svg class=\"ipl-icon ipl-star-icon\" fill=\"#000000\" height=\"24\" viewbox=\"0 0 24 24\" width=\"24\" xmlns=\"http://www.w3.org/2000/svg\">\n",
       " <path d=\"M0 0h24v24H0z\" fill=\"none\"></path>\n",
       " <path d=\"M12 17.27L18.18 21l-1.64-7.03L22 9.24l-7.19-.61L12 2 9.19 8.63 2 9.24l5.46 4.73L5.82 21z\"></path>\n",
       " <path d=\"M0 0h24v24H0z\" fill=\"none\"></path>\n",
       " </svg>\n",
       " </span>\n",
       " <span class=\"ipl-rating-star__rating\">8.4</span>\n",
       " </div>,\n",
       " <div class=\"ipl-rating-star small\">\n",
       " <span class=\"ipl-rating-star__star\">\n",
       " <svg class=\"ipl-icon ipl-star-icon\" fill=\"#000000\" height=\"24\" viewbox=\"0 0 24 24\" width=\"24\" xmlns=\"http://www.w3.org/2000/svg\">\n",
       " <path d=\"M0 0h24v24H0z\" fill=\"none\"></path>\n",
       " <path d=\"M12 17.27L18.18 21l-1.64-7.03L22 9.24l-7.19-.61L12 2 9.19 8.63 2 9.24l5.46 4.73L5.82 21z\"></path>\n",
       " <path d=\"M0 0h24v24H0z\" fill=\"none\"></path>\n",
       " </svg>\n",
       " </span>\n",
       " <span class=\"ipl-rating-star__rating\">8.4</span>\n",
       " </div>,\n",
       " <div class=\"ipl-rating-star small\">\n",
       " <span class=\"ipl-rating-star__star\">\n",
       " <svg class=\"ipl-icon ipl-star-icon\" fill=\"#000000\" height=\"24\" viewbox=\"0 0 24 24\" width=\"24\" xmlns=\"http://www.w3.org/2000/svg\">\n",
       " <path d=\"M0 0h24v24H0z\" fill=\"none\"></path>\n",
       " <path d=\"M12 17.27L18.18 21l-1.64-7.03L22 9.24l-7.19-.61L12 2 9.19 8.63 2 9.24l5.46 4.73L5.82 21z\"></path>\n",
       " <path d=\"M0 0h24v24H0z\" fill=\"none\"></path>\n",
       " </svg>\n",
       " </span>\n",
       " <span class=\"ipl-rating-star__rating\">8.4</span>\n",
       " </div>,\n",
       " <div class=\"ipl-rating-star small\">\n",
       " <span class=\"ipl-rating-star__star\">\n",
       " <svg class=\"ipl-icon ipl-star-icon\" fill=\"#000000\" height=\"24\" viewbox=\"0 0 24 24\" width=\"24\" xmlns=\"http://www.w3.org/2000/svg\">\n",
       " <path d=\"M0 0h24v24H0z\" fill=\"none\"></path>\n",
       " <path d=\"M12 17.27L18.18 21l-1.64-7.03L22 9.24l-7.19-.61L12 2 9.19 8.63 2 9.24l5.46 4.73L5.82 21z\"></path>\n",
       " <path d=\"M0 0h24v24H0z\" fill=\"none\"></path>\n",
       " </svg>\n",
       " </span>\n",
       " <span class=\"ipl-rating-star__rating\">8.4</span>\n",
       " </div>,\n",
       " <div class=\"ipl-rating-star small\">\n",
       " <span class=\"ipl-rating-star__star\">\n",
       " <svg class=\"ipl-icon ipl-star-icon\" fill=\"#000000\" height=\"24\" viewbox=\"0 0 24 24\" width=\"24\" xmlns=\"http://www.w3.org/2000/svg\">\n",
       " <path d=\"M0 0h24v24H0z\" fill=\"none\"></path>\n",
       " <path d=\"M12 17.27L18.18 21l-1.64-7.03L22 9.24l-7.19-.61L12 2 9.19 8.63 2 9.24l5.46 4.73L5.82 21z\"></path>\n",
       " <path d=\"M0 0h24v24H0z\" fill=\"none\"></path>\n",
       " </svg>\n",
       " </span>\n",
       " <span class=\"ipl-rating-star__rating\">8.4</span>\n",
       " </div>,\n",
       " <div class=\"ipl-rating-star small\">\n",
       " <span class=\"ipl-rating-star__star\">\n",
       " <svg class=\"ipl-icon ipl-star-icon\" fill=\"#000000\" height=\"24\" viewbox=\"0 0 24 24\" width=\"24\" xmlns=\"http://www.w3.org/2000/svg\">\n",
       " <path d=\"M0 0h24v24H0z\" fill=\"none\"></path>\n",
       " <path d=\"M12 17.27L18.18 21l-1.64-7.03L22 9.24l-7.19-.61L12 2 9.19 8.63 2 9.24l5.46 4.73L5.82 21z\"></path>\n",
       " <path d=\"M0 0h24v24H0z\" fill=\"none\"></path>\n",
       " </svg>\n",
       " </span>\n",
       " <span class=\"ipl-rating-star__rating\">8.4</span>\n",
       " </div>,\n",
       " <div class=\"ipl-rating-star small\">\n",
       " <span class=\"ipl-rating-star__star\">\n",
       " <svg class=\"ipl-icon ipl-star-icon\" fill=\"#000000\" height=\"24\" viewbox=\"0 0 24 24\" width=\"24\" xmlns=\"http://www.w3.org/2000/svg\">\n",
       " <path d=\"M0 0h24v24H0z\" fill=\"none\"></path>\n",
       " <path d=\"M12 17.27L18.18 21l-1.64-7.03L22 9.24l-7.19-.61L12 2 9.19 8.63 2 9.24l5.46 4.73L5.82 21z\"></path>\n",
       " <path d=\"M0 0h24v24H0z\" fill=\"none\"></path>\n",
       " </svg>\n",
       " </span>\n",
       " <span class=\"ipl-rating-star__rating\">8.6</span>\n",
       " </div>,\n",
       " <div class=\"ipl-rating-star small\">\n",
       " <span class=\"ipl-rating-star__star\">\n",
       " <svg class=\"ipl-icon ipl-star-icon\" fill=\"#000000\" height=\"24\" viewbox=\"0 0 24 24\" width=\"24\" xmlns=\"http://www.w3.org/2000/svg\">\n",
       " <path d=\"M0 0h24v24H0z\" fill=\"none\"></path>\n",
       " <path d=\"M12 17.27L18.18 21l-1.64-7.03L22 9.24l-7.19-.61L12 2 9.19 8.63 2 9.24l5.46 4.73L5.82 21z\"></path>\n",
       " <path d=\"M0 0h24v24H0z\" fill=\"none\"></path>\n",
       " </svg>\n",
       " </span>\n",
       " <span class=\"ipl-rating-star__rating\">8.3</span>\n",
       " </div>,\n",
       " <div class=\"ipl-rating-star small\">\n",
       " <span class=\"ipl-rating-star__star\">\n",
       " <svg class=\"ipl-icon ipl-star-icon\" fill=\"#000000\" height=\"24\" viewbox=\"0 0 24 24\" width=\"24\" xmlns=\"http://www.w3.org/2000/svg\">\n",
       " <path d=\"M0 0h24v24H0z\" fill=\"none\"></path>\n",
       " <path d=\"M12 17.27L18.18 21l-1.64-7.03L22 9.24l-7.19-.61L12 2 9.19 8.63 2 9.24l5.46 4.73L5.82 21z\"></path>\n",
       " <path d=\"M0 0h24v24H0z\" fill=\"none\"></path>\n",
       " </svg>\n",
       " </span>\n",
       " <span class=\"ipl-rating-star__rating\">8.3</span>\n",
       " </div>,\n",
       " <div class=\"ipl-rating-star small\">\n",
       " <span class=\"ipl-rating-star__star\">\n",
       " <svg class=\"ipl-icon ipl-star-icon\" fill=\"#000000\" height=\"24\" viewbox=\"0 0 24 24\" width=\"24\" xmlns=\"http://www.w3.org/2000/svg\">\n",
       " <path d=\"M0 0h24v24H0z\" fill=\"none\"></path>\n",
       " <path d=\"M12 17.27L18.18 21l-1.64-7.03L22 9.24l-7.19-.61L12 2 9.19 8.63 2 9.24l5.46 4.73L5.82 21z\"></path>\n",
       " <path d=\"M0 0h24v24H0z\" fill=\"none\"></path>\n",
       " </svg>\n",
       " </span>\n",
       " <span class=\"ipl-rating-star__rating\">8.4</span>\n",
       " </div>,\n",
       " <div class=\"ipl-rating-star small\">\n",
       " <span class=\"ipl-rating-star__star\">\n",
       " <svg class=\"ipl-icon ipl-star-icon\" fill=\"#000000\" height=\"24\" viewbox=\"0 0 24 24\" width=\"24\" xmlns=\"http://www.w3.org/2000/svg\">\n",
       " <path d=\"M0 0h24v24H0z\" fill=\"none\"></path>\n",
       " <path d=\"M12 17.27L18.18 21l-1.64-7.03L22 9.24l-7.19-.61L12 2 9.19 8.63 2 9.24l5.46 4.73L5.82 21z\"></path>\n",
       " <path d=\"M0 0h24v24H0z\" fill=\"none\"></path>\n",
       " </svg>\n",
       " </span>\n",
       " <span class=\"ipl-rating-star__rating\">8.4</span>\n",
       " </div>,\n",
       " <div class=\"ipl-rating-star small\">\n",
       " <span class=\"ipl-rating-star__star\">\n",
       " <svg class=\"ipl-icon ipl-star-icon\" fill=\"#000000\" height=\"24\" viewbox=\"0 0 24 24\" width=\"24\" xmlns=\"http://www.w3.org/2000/svg\">\n",
       " <path d=\"M0 0h24v24H0z\" fill=\"none\"></path>\n",
       " <path d=\"M12 17.27L18.18 21l-1.64-7.03L22 9.24l-7.19-.61L12 2 9.19 8.63 2 9.24l5.46 4.73L5.82 21z\"></path>\n",
       " <path d=\"M0 0h24v24H0z\" fill=\"none\"></path>\n",
       " </svg>\n",
       " </span>\n",
       " <span class=\"ipl-rating-star__rating\">8.3</span>\n",
       " </div>,\n",
       " <div class=\"ipl-rating-star small\">\n",
       " <span class=\"ipl-rating-star__star\">\n",
       " <svg class=\"ipl-icon ipl-star-icon\" fill=\"#000000\" height=\"24\" viewbox=\"0 0 24 24\" width=\"24\" xmlns=\"http://www.w3.org/2000/svg\">\n",
       " <path d=\"M0 0h24v24H0z\" fill=\"none\"></path>\n",
       " <path d=\"M12 17.27L18.18 21l-1.64-7.03L22 9.24l-7.19-.61L12 2 9.19 8.63 2 9.24l5.46 4.73L5.82 21z\"></path>\n",
       " <path d=\"M0 0h24v24H0z\" fill=\"none\"></path>\n",
       " </svg>\n",
       " </span>\n",
       " <span class=\"ipl-rating-star__rating\">8.3</span>\n",
       " </div>,\n",
       " <div class=\"ipl-rating-star small\">\n",
       " <span class=\"ipl-rating-star__star\">\n",
       " <svg class=\"ipl-icon ipl-star-icon\" fill=\"#000000\" height=\"24\" viewbox=\"0 0 24 24\" width=\"24\" xmlns=\"http://www.w3.org/2000/svg\">\n",
       " <path d=\"M0 0h24v24H0z\" fill=\"none\"></path>\n",
       " <path d=\"M12 17.27L18.18 21l-1.64-7.03L22 9.24l-7.19-.61L12 2 9.19 8.63 2 9.24l5.46 4.73L5.82 21z\"></path>\n",
       " <path d=\"M0 0h24v24H0z\" fill=\"none\"></path>\n",
       " </svg>\n",
       " </span>\n",
       " <span class=\"ipl-rating-star__rating\">8.4</span>\n",
       " </div>,\n",
       " <div class=\"ipl-rating-star small\">\n",
       " <span class=\"ipl-rating-star__star\">\n",
       " <svg class=\"ipl-icon ipl-star-icon\" fill=\"#000000\" height=\"24\" viewbox=\"0 0 24 24\" width=\"24\" xmlns=\"http://www.w3.org/2000/svg\">\n",
       " <path d=\"M0 0h24v24H0z\" fill=\"none\"></path>\n",
       " <path d=\"M12 17.27L18.18 21l-1.64-7.03L22 9.24l-7.19-.61L12 2 9.19 8.63 2 9.24l5.46 4.73L5.82 21z\"></path>\n",
       " <path d=\"M0 0h24v24H0z\" fill=\"none\"></path>\n",
       " </svg>\n",
       " </span>\n",
       " <span class=\"ipl-rating-star__rating\">8.4</span>\n",
       " </div>,\n",
       " <div class=\"ipl-rating-star small\">\n",
       " <span class=\"ipl-rating-star__star\">\n",
       " <svg class=\"ipl-icon ipl-star-icon\" fill=\"#000000\" height=\"24\" viewbox=\"0 0 24 24\" width=\"24\" xmlns=\"http://www.w3.org/2000/svg\">\n",
       " <path d=\"M0 0h24v24H0z\" fill=\"none\"></path>\n",
       " <path d=\"M12 17.27L18.18 21l-1.64-7.03L22 9.24l-7.19-.61L12 2 9.19 8.63 2 9.24l5.46 4.73L5.82 21z\"></path>\n",
       " <path d=\"M0 0h24v24H0z\" fill=\"none\"></path>\n",
       " </svg>\n",
       " </span>\n",
       " <span class=\"ipl-rating-star__rating\">8.3</span>\n",
       " </div>,\n",
       " <div class=\"ipl-rating-star small\">\n",
       " <span class=\"ipl-rating-star__star\">\n",
       " <svg class=\"ipl-icon ipl-star-icon\" fill=\"#000000\" height=\"24\" viewbox=\"0 0 24 24\" width=\"24\" xmlns=\"http://www.w3.org/2000/svg\">\n",
       " <path d=\"M0 0h24v24H0z\" fill=\"none\"></path>\n",
       " <path d=\"M12 17.27L18.18 21l-1.64-7.03L22 9.24l-7.19-.61L12 2 9.19 8.63 2 9.24l5.46 4.73L5.82 21z\"></path>\n",
       " <path d=\"M0 0h24v24H0z\" fill=\"none\"></path>\n",
       " </svg>\n",
       " </span>\n",
       " <span class=\"ipl-rating-star__rating\">8.3</span>\n",
       " </div>,\n",
       " <div class=\"ipl-rating-star small\">\n",
       " <span class=\"ipl-rating-star__star\">\n",
       " <svg class=\"ipl-icon ipl-star-icon\" fill=\"#000000\" height=\"24\" viewbox=\"0 0 24 24\" width=\"24\" xmlns=\"http://www.w3.org/2000/svg\">\n",
       " <path d=\"M0 0h24v24H0z\" fill=\"none\"></path>\n",
       " <path d=\"M12 17.27L18.18 21l-1.64-7.03L22 9.24l-7.19-.61L12 2 9.19 8.63 2 9.24l5.46 4.73L5.82 21z\"></path>\n",
       " <path d=\"M0 0h24v24H0z\" fill=\"none\"></path>\n",
       " </svg>\n",
       " </span>\n",
       " <span class=\"ipl-rating-star__rating\">8.3</span>\n",
       " </div>,\n",
       " <div class=\"ipl-rating-star small\">\n",
       " <span class=\"ipl-rating-star__star\">\n",
       " <svg class=\"ipl-icon ipl-star-icon\" fill=\"#000000\" height=\"24\" viewbox=\"0 0 24 24\" width=\"24\" xmlns=\"http://www.w3.org/2000/svg\">\n",
       " <path d=\"M0 0h24v24H0z\" fill=\"none\"></path>\n",
       " <path d=\"M12 17.27L18.18 21l-1.64-7.03L22 9.24l-7.19-.61L12 2 9.19 8.63 2 9.24l5.46 4.73L5.82 21z\"></path>\n",
       " <path d=\"M0 0h24v24H0z\" fill=\"none\"></path>\n",
       " </svg>\n",
       " </span>\n",
       " <span class=\"ipl-rating-star__rating\">8.3</span>\n",
       " </div>,\n",
       " <div class=\"ipl-rating-star small\">\n",
       " <span class=\"ipl-rating-star__star\">\n",
       " <svg class=\"ipl-icon ipl-star-icon\" fill=\"#000000\" height=\"24\" viewbox=\"0 0 24 24\" width=\"24\" xmlns=\"http://www.w3.org/2000/svg\">\n",
       " <path d=\"M0 0h24v24H0z\" fill=\"none\"></path>\n",
       " <path d=\"M12 17.27L18.18 21l-1.64-7.03L22 9.24l-7.19-.61L12 2 9.19 8.63 2 9.24l5.46 4.73L5.82 21z\"></path>\n",
       " <path d=\"M0 0h24v24H0z\" fill=\"none\"></path>\n",
       " </svg>\n",
       " </span>\n",
       " <span class=\"ipl-rating-star__rating\">8.4</span>\n",
       " </div>,\n",
       " <div class=\"ipl-rating-star small\">\n",
       " <span class=\"ipl-rating-star__star\">\n",
       " <svg class=\"ipl-icon ipl-star-icon\" fill=\"#000000\" height=\"24\" viewbox=\"0 0 24 24\" width=\"24\" xmlns=\"http://www.w3.org/2000/svg\">\n",
       " <path d=\"M0 0h24v24H0z\" fill=\"none\"></path>\n",
       " <path d=\"M12 17.27L18.18 21l-1.64-7.03L22 9.24l-7.19-.61L12 2 9.19 8.63 2 9.24l5.46 4.73L5.82 21z\"></path>\n",
       " <path d=\"M0 0h24v24H0z\" fill=\"none\"></path>\n",
       " </svg>\n",
       " </span>\n",
       " <span class=\"ipl-rating-star__rating\">8.3</span>\n",
       " </div>,\n",
       " <div class=\"ipl-rating-star small\">\n",
       " <span class=\"ipl-rating-star__star\">\n",
       " <svg class=\"ipl-icon ipl-star-icon\" fill=\"#000000\" height=\"24\" viewbox=\"0 0 24 24\" width=\"24\" xmlns=\"http://www.w3.org/2000/svg\">\n",
       " <path d=\"M0 0h24v24H0z\" fill=\"none\"></path>\n",
       " <path d=\"M12 17.27L18.18 21l-1.64-7.03L22 9.24l-7.19-.61L12 2 9.19 8.63 2 9.24l5.46 4.73L5.82 21z\"></path>\n",
       " <path d=\"M0 0h24v24H0z\" fill=\"none\"></path>\n",
       " </svg>\n",
       " </span>\n",
       " <span class=\"ipl-rating-star__rating\">8.3</span>\n",
       " </div>,\n",
       " <div class=\"ipl-rating-star small\">\n",
       " <span class=\"ipl-rating-star__star\">\n",
       " <svg class=\"ipl-icon ipl-star-icon\" fill=\"#000000\" height=\"24\" viewbox=\"0 0 24 24\" width=\"24\" xmlns=\"http://www.w3.org/2000/svg\">\n",
       " <path d=\"M0 0h24v24H0z\" fill=\"none\"></path>\n",
       " <path d=\"M12 17.27L18.18 21l-1.64-7.03L22 9.24l-7.19-.61L12 2 9.19 8.63 2 9.24l5.46 4.73L5.82 21z\"></path>\n",
       " <path d=\"M0 0h24v24H0z\" fill=\"none\"></path>\n",
       " </svg>\n",
       " </span>\n",
       " <span class=\"ipl-rating-star__rating\">8.3</span>\n",
       " </div>,\n",
       " <div class=\"ipl-rating-star small\">\n",
       " <span class=\"ipl-rating-star__star\">\n",
       " <svg class=\"ipl-icon ipl-star-icon\" fill=\"#000000\" height=\"24\" viewbox=\"0 0 24 24\" width=\"24\" xmlns=\"http://www.w3.org/2000/svg\">\n",
       " <path d=\"M0 0h24v24H0z\" fill=\"none\"></path>\n",
       " <path d=\"M12 17.27L18.18 21l-1.64-7.03L22 9.24l-7.19-.61L12 2 9.19 8.63 2 9.24l5.46 4.73L5.82 21z\"></path>\n",
       " <path d=\"M0 0h24v24H0z\" fill=\"none\"></path>\n",
       " </svg>\n",
       " </span>\n",
       " <span class=\"ipl-rating-star__rating\">8.3</span>\n",
       " </div>,\n",
       " <div class=\"ipl-rating-star small\">\n",
       " <span class=\"ipl-rating-star__star\">\n",
       " <svg class=\"ipl-icon ipl-star-icon\" fill=\"#000000\" height=\"24\" viewbox=\"0 0 24 24\" width=\"24\" xmlns=\"http://www.w3.org/2000/svg\">\n",
       " <path d=\"M0 0h24v24H0z\" fill=\"none\"></path>\n",
       " <path d=\"M12 17.27L18.18 21l-1.64-7.03L22 9.24l-7.19-.61L12 2 9.19 8.63 2 9.24l5.46 4.73L5.82 21z\"></path>\n",
       " <path d=\"M0 0h24v24H0z\" fill=\"none\"></path>\n",
       " </svg>\n",
       " </span>\n",
       " <span class=\"ipl-rating-star__rating\">8.3</span>\n",
       " </div>,\n",
       " <div class=\"ipl-rating-star small\">\n",
       " <span class=\"ipl-rating-star__star\">\n",
       " <svg class=\"ipl-icon ipl-star-icon\" fill=\"#000000\" height=\"24\" viewbox=\"0 0 24 24\" width=\"24\" xmlns=\"http://www.w3.org/2000/svg\">\n",
       " <path d=\"M0 0h24v24H0z\" fill=\"none\"></path>\n",
       " <path d=\"M12 17.27L18.18 21l-1.64-7.03L22 9.24l-7.19-.61L12 2 9.19 8.63 2 9.24l5.46 4.73L5.82 21z\"></path>\n",
       " <path d=\"M0 0h24v24H0z\" fill=\"none\"></path>\n",
       " </svg>\n",
       " </span>\n",
       " <span class=\"ipl-rating-star__rating\">8.3</span>\n",
       " </div>,\n",
       " <div class=\"ipl-rating-star small\">\n",
       " <span class=\"ipl-rating-star__star\">\n",
       " <svg class=\"ipl-icon ipl-star-icon\" fill=\"#000000\" height=\"24\" viewbox=\"0 0 24 24\" width=\"24\" xmlns=\"http://www.w3.org/2000/svg\">\n",
       " <path d=\"M0 0h24v24H0z\" fill=\"none\"></path>\n",
       " <path d=\"M12 17.27L18.18 21l-1.64-7.03L22 9.24l-7.19-.61L12 2 9.19 8.63 2 9.24l5.46 4.73L5.82 21z\"></path>\n",
       " <path d=\"M0 0h24v24H0z\" fill=\"none\"></path>\n",
       " </svg>\n",
       " </span>\n",
       " <span class=\"ipl-rating-star__rating\">8.3</span>\n",
       " </div>,\n",
       " <div class=\"ipl-rating-star small\">\n",
       " <span class=\"ipl-rating-star__star\">\n",
       " <svg class=\"ipl-icon ipl-star-icon\" fill=\"#000000\" height=\"24\" viewbox=\"0 0 24 24\" width=\"24\" xmlns=\"http://www.w3.org/2000/svg\">\n",
       " <path d=\"M0 0h24v24H0z\" fill=\"none\"></path>\n",
       " <path d=\"M12 17.27L18.18 21l-1.64-7.03L22 9.24l-7.19-.61L12 2 9.19 8.63 2 9.24l5.46 4.73L5.82 21z\"></path>\n",
       " <path d=\"M0 0h24v24H0z\" fill=\"none\"></path>\n",
       " </svg>\n",
       " </span>\n",
       " <span class=\"ipl-rating-star__rating\">8.3</span>\n",
       " </div>,\n",
       " <div class=\"ipl-rating-star small\">\n",
       " <span class=\"ipl-rating-star__star\">\n",
       " <svg class=\"ipl-icon ipl-star-icon\" fill=\"#000000\" height=\"24\" viewbox=\"0 0 24 24\" width=\"24\" xmlns=\"http://www.w3.org/2000/svg\">\n",
       " <path d=\"M0 0h24v24H0z\" fill=\"none\"></path>\n",
       " <path d=\"M12 17.27L18.18 21l-1.64-7.03L22 9.24l-7.19-.61L12 2 9.19 8.63 2 9.24l5.46 4.73L5.82 21z\"></path>\n",
       " <path d=\"M0 0h24v24H0z\" fill=\"none\"></path>\n",
       " </svg>\n",
       " </span>\n",
       " <span class=\"ipl-rating-star__rating\">8.3</span>\n",
       " </div>,\n",
       " <div class=\"ipl-rating-star small\">\n",
       " <span class=\"ipl-rating-star__star\">\n",
       " <svg class=\"ipl-icon ipl-star-icon\" fill=\"#000000\" height=\"24\" viewbox=\"0 0 24 24\" width=\"24\" xmlns=\"http://www.w3.org/2000/svg\">\n",
       " <path d=\"M0 0h24v24H0z\" fill=\"none\"></path>\n",
       " <path d=\"M12 17.27L18.18 21l-1.64-7.03L22 9.24l-7.19-.61L12 2 9.19 8.63 2 9.24l5.46 4.73L5.82 21z\"></path>\n",
       " <path d=\"M0 0h24v24H0z\" fill=\"none\"></path>\n",
       " </svg>\n",
       " </span>\n",
       " <span class=\"ipl-rating-star__rating\">8.3</span>\n",
       " </div>,\n",
       " <div class=\"ipl-rating-star small\">\n",
       " <span class=\"ipl-rating-star__star\">\n",
       " <svg class=\"ipl-icon ipl-star-icon\" fill=\"#000000\" height=\"24\" viewbox=\"0 0 24 24\" width=\"24\" xmlns=\"http://www.w3.org/2000/svg\">\n",
       " <path d=\"M0 0h24v24H0z\" fill=\"none\"></path>\n",
       " <path d=\"M12 17.27L18.18 21l-1.64-7.03L22 9.24l-7.19-.61L12 2 9.19 8.63 2 9.24l5.46 4.73L5.82 21z\"></path>\n",
       " <path d=\"M0 0h24v24H0z\" fill=\"none\"></path>\n",
       " </svg>\n",
       " </span>\n",
       " <span class=\"ipl-rating-star__rating\">8.3</span>\n",
       " </div>,\n",
       " <div class=\"ipl-rating-star small\">\n",
       " <span class=\"ipl-rating-star__star\">\n",
       " <svg class=\"ipl-icon ipl-star-icon\" fill=\"#000000\" height=\"24\" viewbox=\"0 0 24 24\" width=\"24\" xmlns=\"http://www.w3.org/2000/svg\">\n",
       " <path d=\"M0 0h24v24H0z\" fill=\"none\"></path>\n",
       " <path d=\"M12 17.27L18.18 21l-1.64-7.03L22 9.24l-7.19-.61L12 2 9.19 8.63 2 9.24l5.46 4.73L5.82 21z\"></path>\n",
       " <path d=\"M0 0h24v24H0z\" fill=\"none\"></path>\n",
       " </svg>\n",
       " </span>\n",
       " <span class=\"ipl-rating-star__rating\">8.3</span>\n",
       " </div>,\n",
       " <div class=\"ipl-rating-star small\">\n",
       " <span class=\"ipl-rating-star__star\">\n",
       " <svg class=\"ipl-icon ipl-star-icon\" fill=\"#000000\" height=\"24\" viewbox=\"0 0 24 24\" width=\"24\" xmlns=\"http://www.w3.org/2000/svg\">\n",
       " <path d=\"M0 0h24v24H0z\" fill=\"none\"></path>\n",
       " <path d=\"M12 17.27L18.18 21l-1.64-7.03L22 9.24l-7.19-.61L12 2 9.19 8.63 2 9.24l5.46 4.73L5.82 21z\"></path>\n",
       " <path d=\"M0 0h24v24H0z\" fill=\"none\"></path>\n",
       " </svg>\n",
       " </span>\n",
       " <span class=\"ipl-rating-star__rating\">8.3</span>\n",
       " </div>,\n",
       " <div class=\"ipl-rating-star small\">\n",
       " <span class=\"ipl-rating-star__star\">\n",
       " <svg class=\"ipl-icon ipl-star-icon\" fill=\"#000000\" height=\"24\" viewbox=\"0 0 24 24\" width=\"24\" xmlns=\"http://www.w3.org/2000/svg\">\n",
       " <path d=\"M0 0h24v24H0z\" fill=\"none\"></path>\n",
       " <path d=\"M12 17.27L18.18 21l-1.64-7.03L22 9.24l-7.19-.61L12 2 9.19 8.63 2 9.24l5.46 4.73L5.82 21z\"></path>\n",
       " <path d=\"M0 0h24v24H0z\" fill=\"none\"></path>\n",
       " </svg>\n",
       " </span>\n",
       " <span class=\"ipl-rating-star__rating\">8.3</span>\n",
       " </div>,\n",
       " <div class=\"ipl-rating-star small\">\n",
       " <span class=\"ipl-rating-star__star\">\n",
       " <svg class=\"ipl-icon ipl-star-icon\" fill=\"#000000\" height=\"24\" viewbox=\"0 0 24 24\" width=\"24\" xmlns=\"http://www.w3.org/2000/svg\">\n",
       " <path d=\"M0 0h24v24H0z\" fill=\"none\"></path>\n",
       " <path d=\"M12 17.27L18.18 21l-1.64-7.03L22 9.24l-7.19-.61L12 2 9.19 8.63 2 9.24l5.46 4.73L5.82 21z\"></path>\n",
       " <path d=\"M0 0h24v24H0z\" fill=\"none\"></path>\n",
       " </svg>\n",
       " </span>\n",
       " <span class=\"ipl-rating-star__rating\">8.3</span>\n",
       " </div>]"
      ]
     },
     "execution_count": 10,
     "metadata": {},
     "output_type": "execute_result"
    }
   ],
   "source": [
    "rating = soup.find_all('div',class_='ipl-rating-star small')\n",
    "rating"
   ]
  },
  {
   "cell_type": "code",
   "execution_count": 11,
   "metadata": {},
   "outputs": [
    {
     "data": {
      "text/plain": [
       "['9.3',\n",
       " '9.2',\n",
       " '9',\n",
       " '9',\n",
       " '9',\n",
       " '8.9',\n",
       " '8.9',\n",
       " '8.9',\n",
       " '8.8',\n",
       " '8.8',\n",
       " '8.4',\n",
       " '8.8',\n",
       " '8.8',\n",
       " '8.8',\n",
       " '8.7',\n",
       " '8.7',\n",
       " '8.7',\n",
       " '8.7',\n",
       " '8.7',\n",
       " '8.6',\n",
       " '8.6',\n",
       " '8.6',\n",
       " '8.6',\n",
       " '8.6',\n",
       " '8.6',\n",
       " '8.6',\n",
       " '8.6',\n",
       " '8.6',\n",
       " '8.6',\n",
       " '8.5',\n",
       " '8.6',\n",
       " '8.6',\n",
       " '8.5',\n",
       " '8.5',\n",
       " '8.5',\n",
       " '8.5',\n",
       " '8.5',\n",
       " '8.5',\n",
       " '8.5',\n",
       " '8.5',\n",
       " '8.5',\n",
       " '8.5',\n",
       " '8.5',\n",
       " '8.5',\n",
       " '8.5',\n",
       " '8.5',\n",
       " '8.5',\n",
       " '8.4',\n",
       " '8.5',\n",
       " '8.5',\n",
       " '8.5',\n",
       " '8.5',\n",
       " '8.4',\n",
       " '8.4',\n",
       " '8.4',\n",
       " '8.4',\n",
       " '8.4',\n",
       " '8.4',\n",
       " '8.4',\n",
       " '8.4',\n",
       " '8.4',\n",
       " '8.4',\n",
       " '8.4',\n",
       " '8.4',\n",
       " '8.4',\n",
       " '8.4',\n",
       " '8.4',\n",
       " '8.4',\n",
       " '8.4',\n",
       " '8.4',\n",
       " '8.4',\n",
       " '8.6',\n",
       " '8.3',\n",
       " '8.3',\n",
       " '8.4',\n",
       " '8.4',\n",
       " '8.3',\n",
       " '8.3',\n",
       " '8.4',\n",
       " '8.4',\n",
       " '8.3',\n",
       " '8.3',\n",
       " '8.3',\n",
       " '8.3',\n",
       " '8.4',\n",
       " '8.3',\n",
       " '8.3',\n",
       " '8.3',\n",
       " '8.3',\n",
       " '8.3',\n",
       " '8.3',\n",
       " '8.3',\n",
       " '8.3',\n",
       " '8.3',\n",
       " '8.3',\n",
       " '8.3',\n",
       " '8.3',\n",
       " '8.3',\n",
       " '8.3',\n",
       " '8.3']"
      ]
     },
     "execution_count": 11,
     "metadata": {},
     "output_type": "execute_result"
    }
   ],
   "source": [
    "imdb_rating = []\n",
    "for i in rating:\n",
    "    imdb_rating.append(i.text.replace(\"\\n\",\"\"))\n",
    "imdb_rating"
   ]
  },
  {
   "cell_type": "code",
   "execution_count": 12,
   "metadata": {},
   "outputs": [
    {
     "data": {
      "text/plain": [
       "100"
      ]
     },
     "execution_count": 12,
     "metadata": {},
     "output_type": "execute_result"
    }
   ],
   "source": [
    "len(imdb_rating)"
   ]
  },
  {
   "cell_type": "code",
   "execution_count": 13,
   "metadata": {},
   "outputs": [],
   "source": [
    "year = soup.find_all('span',class_=\"lister-item-year text-muted unbold\")"
   ]
  },
  {
   "cell_type": "code",
   "execution_count": 14,
   "metadata": {},
   "outputs": [
    {
     "data": {
      "text/plain": [
       "['(1994)',\n",
       " '(1972)',\n",
       " '(1974)',\n",
       " '(2008)',\n",
       " '(1957)',\n",
       " '(1993)',\n",
       " '(2003)',\n",
       " '(1994)',\n",
       " '(1966)',\n",
       " '(1999)',\n",
       " '(2019)',\n",
       " '(2001)',\n",
       " '(1994)',\n",
       " '(2010)',\n",
       " '(1980)',\n",
       " '(2002)',\n",
       " '(1999)',\n",
       " '(1975)',\n",
       " '(1990)',\n",
       " '(1954)',\n",
       " '(1995)',\n",
       " '(2002)',\n",
       " '(1997)',\n",
       " '(1991)',\n",
       " '(1977)',\n",
       " '(1946)',\n",
       " '(1998)',\n",
       " '(2001)',\n",
       " '(1999)',\n",
       " '(1994)',\n",
       " '(1962)',\n",
       " '(2014)',\n",
       " '(1995)',\n",
       " '(1994)',\n",
       " '(1998)',\n",
       " '(1985)',\n",
       " '(2002)',\n",
       " '(1936)',\n",
       " '(1991)',\n",
       " '(2011)',\n",
       " '(1960)',\n",
       " '(2000)',\n",
       " '(1931)',\n",
       " '(2006)',\n",
       " '(2014)',\n",
       " '(1968)',\n",
       " '(2006)',\n",
       " '(2019)',\n",
       " '(1942)',\n",
       " '(1988)',\n",
       " '(1954)',\n",
       " '(1988)',\n",
       " '(1979)',\n",
       " '(1981)',\n",
       " '(2000)',\n",
       " '(1979)',\n",
       " '(1940)',\n",
       " '(2006)',\n",
       " '(2018)',\n",
       " '(2012)',\n",
       " '(2018)',\n",
       " '(1980)',\n",
       " '(1957)',\n",
       " '(2008)',\n",
       " '(1950)',\n",
       " '(1964)',\n",
       " '(1997)',\n",
       " '(2003)',\n",
       " '(1957)',\n",
       " '(2012)',\n",
       " '(1984)',\n",
       " '(2019)',\n",
       " '(1986)',\n",
       " '(1999)',\n",
       " '(I) (2017)',\n",
       " '(2016)',\n",
       " '(1995)',\n",
       " '(1981)',\n",
       " '(2009)',\n",
       " '(2007)',\n",
       " '(1983)',\n",
       " '(1995)',\n",
       " '(1992)',\n",
       " '(1984)',\n",
       " '(2016)',\n",
       " '(1997)',\n",
       " '(2009)',\n",
       " '(1931)',\n",
       " '(2000)',\n",
       " '(1968)',\n",
       " '(1958)',\n",
       " '(2004)',\n",
       " '(1941)',\n",
       " '(1987)',\n",
       " '(2012)',\n",
       " '(1959)',\n",
       " '(1971)',\n",
       " '(2000)',\n",
       " '(2001)',\n",
       " '(1921)']"
      ]
     },
     "execution_count": 14,
     "metadata": {},
     "output_type": "execute_result"
    }
   ],
   "source": [
    "rel_year = []\n",
    "for i in year:\n",
    "    rel_year.append(i.text.replace(\"\\n\",\"\"))\n",
    "rel_year"
   ]
  },
  {
   "cell_type": "code",
   "execution_count": 15,
   "metadata": {},
   "outputs": [
    {
     "data": {
      "text/plain": [
       "100"
      ]
     },
     "execution_count": 15,
     "metadata": {},
     "output_type": "execute_result"
    }
   ],
   "source": [
    "len(rel_year)"
   ]
  },
  {
   "cell_type": "code",
   "execution_count": 16,
   "metadata": {},
   "outputs": [
    {
     "data": {
      "text/html": [
       "<div>\n",
       "<style scoped>\n",
       "    .dataframe tbody tr th:only-of-type {\n",
       "        vertical-align: middle;\n",
       "    }\n",
       "\n",
       "    .dataframe tbody tr th {\n",
       "        vertical-align: top;\n",
       "    }\n",
       "\n",
       "    .dataframe thead th {\n",
       "        text-align: right;\n",
       "    }\n",
       "</style>\n",
       "<table border=\"1\" class=\"dataframe\">\n",
       "  <thead>\n",
       "    <tr style=\"text-align: right;\">\n",
       "      <th></th>\n",
       "      <th>Movie Name</th>\n",
       "      <th>Rating</th>\n",
       "      <th>Year</th>\n",
       "    </tr>\n",
       "  </thead>\n",
       "  <tbody>\n",
       "    <tr>\n",
       "      <th>0</th>\n",
       "      <td>The Shawshank Redemption</td>\n",
       "      <td>9.3</td>\n",
       "      <td>(1994)</td>\n",
       "    </tr>\n",
       "    <tr>\n",
       "      <th>1</th>\n",
       "      <td>The Godfather</td>\n",
       "      <td>9.2</td>\n",
       "      <td>(1972)</td>\n",
       "    </tr>\n",
       "    <tr>\n",
       "      <th>2</th>\n",
       "      <td>The Godfather: Part II</td>\n",
       "      <td>9</td>\n",
       "      <td>(1974)</td>\n",
       "    </tr>\n",
       "    <tr>\n",
       "      <th>3</th>\n",
       "      <td>The Dark Knight</td>\n",
       "      <td>9</td>\n",
       "      <td>(2008)</td>\n",
       "    </tr>\n",
       "    <tr>\n",
       "      <th>4</th>\n",
       "      <td>12 Angry Men</td>\n",
       "      <td>9</td>\n",
       "      <td>(1957)</td>\n",
       "    </tr>\n",
       "    <tr>\n",
       "      <th>...</th>\n",
       "      <td>...</td>\n",
       "      <td>...</td>\n",
       "      <td>...</td>\n",
       "    </tr>\n",
       "    <tr>\n",
       "      <th>95</th>\n",
       "      <td>North by Northwest</td>\n",
       "      <td>8.3</td>\n",
       "      <td>(1959)</td>\n",
       "    </tr>\n",
       "    <tr>\n",
       "      <th>96</th>\n",
       "      <td>A Clockwork Orange</td>\n",
       "      <td>8.3</td>\n",
       "      <td>(1971)</td>\n",
       "    </tr>\n",
       "    <tr>\n",
       "      <th>97</th>\n",
       "      <td>Snatch</td>\n",
       "      <td>8.3</td>\n",
       "      <td>(2000)</td>\n",
       "    </tr>\n",
       "    <tr>\n",
       "      <th>98</th>\n",
       "      <td>Le fabuleux destin d'Amélie Poulain</td>\n",
       "      <td>8.3</td>\n",
       "      <td>(2001)</td>\n",
       "    </tr>\n",
       "    <tr>\n",
       "      <th>99</th>\n",
       "      <td>The Kid</td>\n",
       "      <td>8.3</td>\n",
       "      <td>(1921)</td>\n",
       "    </tr>\n",
       "  </tbody>\n",
       "</table>\n",
       "<p>100 rows × 3 columns</p>\n",
       "</div>"
      ],
      "text/plain": [
       "                             Movie Name Rating    Year\n",
       "0              The Shawshank Redemption    9.3  (1994)\n",
       "1                         The Godfather    9.2  (1972)\n",
       "2                The Godfather: Part II      9  (1974)\n",
       "3                       The Dark Knight      9  (2008)\n",
       "4                          12 Angry Men      9  (1957)\n",
       "..                                  ...    ...     ...\n",
       "95                   North by Northwest    8.3  (1959)\n",
       "96                   A Clockwork Orange    8.3  (1971)\n",
       "97                               Snatch    8.3  (2000)\n",
       "98  Le fabuleux destin d'Amélie Poulain    8.3  (2001)\n",
       "99                              The Kid    8.3  (1921)\n",
       "\n",
       "[100 rows x 3 columns]"
      ]
     },
     "execution_count": 16,
     "metadata": {},
     "output_type": "execute_result"
    }
   ],
   "source": [
    "import pandas as pd\n",
    "movie = pd.DataFrame({})\n",
    "movie[\"Movie Name\"] = titles\n",
    "movie[\"Rating\"] = imdb_rating\n",
    "movie[\"Year\"] = rel_year\n",
    "movie"
   ]
  },
  {
   "cell_type": "markdown",
   "metadata": {},
   "source": [
    "###### 3) Write a python program to display IMDB’s Top rated 100 Indian movies"
   ]
  },
  {
   "cell_type": "code",
   "execution_count": 17,
   "metadata": {},
   "outputs": [
    {
     "data": {
      "text/plain": [
       "<Response [200]>"
      ]
     },
     "execution_count": 17,
     "metadata": {},
     "output_type": "execute_result"
    }
   ],
   "source": [
    "page = requests.get(\"https://www.imdb.com/india/top-rated-indian-movies/\")\n",
    "page"
   ]
  },
  {
   "cell_type": "code",
   "execution_count": 18,
   "metadata": {},
   "outputs": [],
   "source": [
    "soup = BeautifulSoup(page.content)"
   ]
  },
  {
   "cell_type": "code",
   "execution_count": 19,
   "metadata": {},
   "outputs": [],
   "source": [
    "name = soup.find_all('td',class_=\"titleColumn\")"
   ]
  },
  {
   "cell_type": "code",
   "execution_count": 20,
   "metadata": {},
   "outputs": [
    {
     "data": {
      "text/plain": [
       "['Pather Panchali',\n",
       " 'Nayakan',\n",
       " 'Pariyerum Perumal',\n",
       " 'Anbe Sivam',\n",
       " 'Golmaal',\n",
       " 'Apur Sansar',\n",
       " 'C/o Kancharapalem',\n",
       " 'Kireedam',\n",
       " 'Manichitrathazhu',\n",
       " 'Natsamrat',\n",
       " '96',\n",
       " 'Thevar Magan',\n",
       " 'Black Friday',\n",
       " 'Drishyam 2',\n",
       " 'Kumbalangi Nights',\n",
       " 'Visaaranai',\n",
       " '3 Idiots',\n",
       " 'Taare Zameen Par',\n",
       " 'Jersey',\n",
       " 'Soorarai Pottru',\n",
       " 'Ratsasan',\n",
       " 'Thalapathi',\n",
       " 'Dangal',\n",
       " 'Asuran',\n",
       " 'Kaithi',\n",
       " 'Devasuram',\n",
       " 'Aparajito',\n",
       " 'Jaane Bhi Do Yaaro',\n",
       " 'Peranbu',\n",
       " 'Vada Chennai',\n",
       " 'Pyaasa',\n",
       " 'Guide',\n",
       " 'Thani Oruvan',\n",
       " 'Kannathil Muthamittal',\n",
       " 'Chupke Chupke',\n",
       " 'Iruvar',\n",
       " 'Spadikam',\n",
       " 'Agent Sai Srinivasa Athreya',\n",
       " 'Super Deluxe',\n",
       " 'Drishyam',\n",
       " 'Vikram Vedha',\n",
       " 'Aruvi',\n",
       " 'Tumbbad',\n",
       " 'Mahanati',\n",
       " 'Khosla Ka Ghosla!',\n",
       " 'Pudhu Pettai',\n",
       " 'Anand',\n",
       " 'Premam',\n",
       " 'Anniyan',\n",
       " 'Kaakkaa Muttai',\n",
       " 'Andhadhun',\n",
       " 'Mudhalvan',\n",
       " 'Bangalore Days',\n",
       " 'Papanasam',\n",
       " 'Dhuruvangal Pathinaaru',\n",
       " 'Satya',\n",
       " 'Soodhu Kavvum',\n",
       " 'Shahid',\n",
       " 'Jigarthanda',\n",
       " 'Pithamagan',\n",
       " 'Gangs of Wasseypur',\n",
       " 'Paan Singh Tomar',\n",
       " 'Sairat',\n",
       " 'Bhaag Milkha Bhaag',\n",
       " 'Hera Pheri',\n",
       " 'Talvar',\n",
       " 'Swades: We, the People',\n",
       " 'Sholay',\n",
       " 'Black',\n",
       " 'Ustad Hotel',\n",
       " 'Chak De! India',\n",
       " 'Jo Jeeta Wohi Sikandar',\n",
       " 'Nil Battey Sannata',\n",
       " 'Drishyam',\n",
       " 'Mughal-E-Azam',\n",
       " 'Maheshinte Prathikaaram',\n",
       " 'Zindagi Na Milegi Dobara',\n",
       " 'Article 15',\n",
       " 'Charulata',\n",
       " 'Udaan',\n",
       " 'Theeran adhigaaram ondru',\n",
       " 'A Wednesday',\n",
       " 'Queen',\n",
       " 'Masaan',\n",
       " 'Alai Payuthey',\n",
       " 'Munna Bhai M.B.B.S.',\n",
       " 'Sarfarosh',\n",
       " 'Baasha',\n",
       " 'Dil Chahta Hai',\n",
       " 'Roja',\n",
       " 'OMG: Oh My God!',\n",
       " 'Rang De Basanti',\n",
       " 'Chhichhore',\n",
       " 'Lagaan: Once Upon a Time in India',\n",
       " 'Kahaani',\n",
       " 'Andaz Apna Apna',\n",
       " 'Uri: The Surgical Strike',\n",
       " 'Virumandi',\n",
       " 'PK',\n",
       " 'Lucia',\n",
       " 'Iqbal',\n",
       " 'The Legend of Bhagat Singh',\n",
       " 'Bommarillu',\n",
       " 'Barfi!',\n",
       " 'Pink',\n",
       " 'Maqbool',\n",
       " 'Bombay',\n",
       " 'Section 375',\n",
       " 'Omkara',\n",
       " 'Indian',\n",
       " 'Lage Raho Munna Bhai',\n",
       " 'The Great Indian Kitchen',\n",
       " 'Thadam',\n",
       " 'Pelli Choopulu',\n",
       " 'Baahubali 2: The Conclusion',\n",
       " 'Deewaar',\n",
       " 'Pranchiyettan and the Saint',\n",
       " 'Padosan',\n",
       " 'Gulaal',\n",
       " 'Naduvula Konjam Pakkatha Kaanom',\n",
       " 'Haider',\n",
       " 'Dilwale Dulhania Le Jayenge',\n",
       " 'Athadu',\n",
       " 'Rangasthalam',\n",
       " 'Take Off',\n",
       " 'Thondimuthalum Dhriksakshiyum',\n",
       " 'Ugly',\n",
       " 'Padayappa',\n",
       " 'Mother India',\n",
       " 'Special Chabbis',\n",
       " 'K.G.F: Chapter 1',\n",
       " 'Aadukalam',\n",
       " 'Vaaranam Aayiram',\n",
       " 'Ship of Theseus',\n",
       " 'Gully Boy',\n",
       " 'Ulidavaru Kandanthe',\n",
       " 'Badhaai ho',\n",
       " 'Dev.D',\n",
       " 'Bajrangi Bhaijaan',\n",
       " 'Vedam',\n",
       " 'Jalsaghar',\n",
       " 'Vaastav: The Reality',\n",
       " 'Karnan',\n",
       " 'Ankhon Dekhi',\n",
       " 'Company',\n",
       " 'Mukkabaaz',\n",
       " 'Deiva Thirumagal',\n",
       " 'Arjun Reddy',\n",
       " 'Manjhi: The Mountain Man',\n",
       " 'Pizza',\n",
       " 'My Name Is Khan',\n",
       " 'Memories',\n",
       " 'Dil Bechara',\n",
       " 'Charlie',\n",
       " 'Kal Ho Naa Ho',\n",
       " 'Jab We Met',\n",
       " 'Mumbai Police',\n",
       " 'Angamaly Diaries',\n",
       " 'Vinnaithaandi Varuvaayaa',\n",
       " 'Unnaipol Oruvan',\n",
       " 'Border',\n",
       " 'Super 30',\n",
       " 'Kaakha..Kaakha: The Police',\n",
       " 'Padman',\n",
       " 'Lakshya',\n",
       " 'Vettaiyaadu Vilaiyaadu',\n",
       " 'Dor',\n",
       " 'Bãhubali: The Beginning',\n",
       " 'Poove Unakkaga',\n",
       " 'Hey Ram',\n",
       " 'Baby',\n",
       " 'Ayyappanum Koshiyum',\n",
       " 'Sonchiriya',\n",
       " 'Airlift',\n",
       " 'Anjaam Pathiraa',\n",
       " 'Hindi Medium',\n",
       " 'Okkadu',\n",
       " 'English Vinglish',\n",
       " 'Gangaajal',\n",
       " 'Manam',\n",
       " 'The Lunchbox',\n",
       " 'Johnny Gaddaar',\n",
       " 'Ab Tak Chhappan',\n",
       " 'Joji',\n",
       " 'Badla',\n",
       " 'Secret Superstar',\n",
       " 'Pokiri',\n",
       " 'Nayak: The Real Hero',\n",
       " 'Vicky Donor',\n",
       " 'M.S. Dhoni: The Untold Story',\n",
       " 'Mr. India',\n",
       " 'Raazi',\n",
       " 'Udta Punjab',\n",
       " 'RangiTaranga',\n",
       " 'Stanley Ka Dabba',\n",
       " 'Don',\n",
       " 'Goodachari',\n",
       " 'Rock On!!',\n",
       " 'Veer-Zaara',\n",
       " 'Ko',\n",
       " 'Velaiilla Pattadhari',\n",
       " 'Dasvidaniya',\n",
       " 'Aligarh',\n",
       " 'Guru',\n",
       " 'Arya',\n",
       " 'Samsara',\n",
       " 'Thuppakki',\n",
       " 'Kai po che!',\n",
       " 'Oye Lucky! Lucky Oye!',\n",
       " 'Kaththi',\n",
       " '24',\n",
       " 'Mumbai Meri Jaan',\n",
       " 'Rockstar',\n",
       " 'Avane Srimannarayana',\n",
       " 'Eega',\n",
       " 'Ugramm',\n",
       " 'Kabhi Haan Kabhi Naa',\n",
       " 'Ghilli',\n",
       " 'Darr',\n",
       " 'Kapoor & Sons',\n",
       " 'Newton',\n",
       " 'Aamir',\n",
       " 'The Tashkent Files',\n",
       " 'Sir',\n",
       " 'Earth',\n",
       " 'Agneepath',\n",
       " 'Madras Cafe',\n",
       " 'Sarkar',\n",
       " 'Pyaar Ka Punchnama',\n",
       " 'Neerja',\n",
       " 'Bheja Fry',\n",
       " 'Detective Byomkesh Bakshy!',\n",
       " 'Highway',\n",
       " 'Kannum Kannum Kollaiyadithaal',\n",
       " 'Magadheera',\n",
       " 'Baazigar',\n",
       " 'Manorama: Six Feet Under',\n",
       " 'Tanu Weds Manu Returns',\n",
       " 'Saala Khadoos',\n",
       " 'Ludo',\n",
       " 'Wake Up Sid',\n",
       " 'Piku',\n",
       " '1 - Nenokkadine',\n",
       " 'Dhruva',\n",
       " 'Geetha Govindam',\n",
       " 'Kuch Kuch Hota Hai',\n",
       " 'Jodhaa Akbar',\n",
       " 'Trapped',\n",
       " 'Parmanu: The Story of Pokhran',\n",
       " 'Sanju']"
      ]
     },
     "execution_count": 20,
     "metadata": {},
     "output_type": "execute_result"
    }
   ],
   "source": [
    "titles = [movie.find('a').text for movie in name]\n",
    "titles"
   ]
  },
  {
   "cell_type": "code",
   "execution_count": 21,
   "metadata": {},
   "outputs": [],
   "source": [
    "title = []\n",
    "for i in range(0,100):\n",
    "    title.append(titles[i])"
   ]
  },
  {
   "cell_type": "code",
   "execution_count": 22,
   "metadata": {},
   "outputs": [
    {
     "data": {
      "text/plain": [
       "100"
      ]
     },
     "execution_count": 22,
     "metadata": {},
     "output_type": "execute_result"
    }
   ],
   "source": [
    "len(title)"
   ]
  },
  {
   "cell_type": "code",
   "execution_count": 23,
   "metadata": {},
   "outputs": [
    {
     "data": {
      "text/plain": [
       "['Pather Panchali',\n",
       " 'Nayakan',\n",
       " 'Pariyerum Perumal',\n",
       " 'Anbe Sivam',\n",
       " 'Golmaal',\n",
       " 'Apur Sansar',\n",
       " 'C/o Kancharapalem',\n",
       " 'Kireedam',\n",
       " 'Manichitrathazhu',\n",
       " 'Natsamrat',\n",
       " '96',\n",
       " 'Thevar Magan',\n",
       " 'Black Friday',\n",
       " 'Drishyam 2',\n",
       " 'Kumbalangi Nights',\n",
       " 'Visaaranai',\n",
       " '3 Idiots',\n",
       " 'Taare Zameen Par',\n",
       " 'Jersey',\n",
       " 'Soorarai Pottru',\n",
       " 'Ratsasan',\n",
       " 'Thalapathi',\n",
       " 'Dangal',\n",
       " 'Asuran',\n",
       " 'Kaithi',\n",
       " 'Devasuram',\n",
       " 'Aparajito',\n",
       " 'Jaane Bhi Do Yaaro',\n",
       " 'Peranbu',\n",
       " 'Vada Chennai',\n",
       " 'Pyaasa',\n",
       " 'Guide',\n",
       " 'Thani Oruvan',\n",
       " 'Kannathil Muthamittal',\n",
       " 'Chupke Chupke',\n",
       " 'Iruvar',\n",
       " 'Spadikam',\n",
       " 'Agent Sai Srinivasa Athreya',\n",
       " 'Super Deluxe',\n",
       " 'Drishyam',\n",
       " 'Vikram Vedha',\n",
       " 'Aruvi',\n",
       " 'Tumbbad',\n",
       " 'Mahanati',\n",
       " 'Khosla Ka Ghosla!',\n",
       " 'Pudhu Pettai',\n",
       " 'Anand',\n",
       " 'Premam',\n",
       " 'Anniyan',\n",
       " 'Kaakkaa Muttai',\n",
       " 'Andhadhun',\n",
       " 'Mudhalvan',\n",
       " 'Bangalore Days',\n",
       " 'Papanasam',\n",
       " 'Dhuruvangal Pathinaaru',\n",
       " 'Satya',\n",
       " 'Soodhu Kavvum',\n",
       " 'Shahid',\n",
       " 'Jigarthanda',\n",
       " 'Pithamagan',\n",
       " 'Gangs of Wasseypur',\n",
       " 'Paan Singh Tomar',\n",
       " 'Sairat',\n",
       " 'Bhaag Milkha Bhaag',\n",
       " 'Hera Pheri',\n",
       " 'Talvar',\n",
       " 'Swades: We, the People',\n",
       " 'Sholay',\n",
       " 'Black',\n",
       " 'Ustad Hotel',\n",
       " 'Chak De! India',\n",
       " 'Jo Jeeta Wohi Sikandar',\n",
       " 'Nil Battey Sannata',\n",
       " 'Drishyam',\n",
       " 'Mughal-E-Azam',\n",
       " 'Maheshinte Prathikaaram',\n",
       " 'Zindagi Na Milegi Dobara',\n",
       " 'Article 15',\n",
       " 'Charulata',\n",
       " 'Udaan',\n",
       " 'Theeran adhigaaram ondru',\n",
       " 'A Wednesday',\n",
       " 'Queen',\n",
       " 'Masaan',\n",
       " 'Alai Payuthey',\n",
       " 'Munna Bhai M.B.B.S.',\n",
       " 'Sarfarosh',\n",
       " 'Baasha',\n",
       " 'Dil Chahta Hai',\n",
       " 'Roja',\n",
       " 'OMG: Oh My God!',\n",
       " 'Rang De Basanti',\n",
       " 'Chhichhore',\n",
       " 'Lagaan: Once Upon a Time in India',\n",
       " 'Kahaani',\n",
       " 'Andaz Apna Apna',\n",
       " 'Uri: The Surgical Strike',\n",
       " 'Virumandi',\n",
       " 'PK',\n",
       " 'Lucia']"
      ]
     },
     "execution_count": 23,
     "metadata": {},
     "output_type": "execute_result"
    }
   ],
   "source": [
    "title"
   ]
  },
  {
   "cell_type": "code",
   "execution_count": 24,
   "metadata": {
    "scrolled": false
   },
   "outputs": [],
   "source": [
    "movie_rating = soup.find_all('td',class_=\"ratingColumn imdbRating\")"
   ]
  },
  {
   "cell_type": "code",
   "execution_count": 25,
   "metadata": {},
   "outputs": [
    {
     "data": {
      "text/plain": [
       "['8.5',\n",
       " '8.5',\n",
       " '8.5',\n",
       " '8.5',\n",
       " '8.5',\n",
       " '8.5',\n",
       " '8.5',\n",
       " '8.4',\n",
       " '8.4',\n",
       " '8.4',\n",
       " '8.4',\n",
       " '8.4',\n",
       " '8.4',\n",
       " '8.4',\n",
       " '8.4',\n",
       " '8.4',\n",
       " '8.3',\n",
       " '8.3',\n",
       " '8.3',\n",
       " '8.3',\n",
       " '8.3',\n",
       " '8.3',\n",
       " '8.3',\n",
       " '8.3',\n",
       " '8.3',\n",
       " '8.3',\n",
       " '8.3',\n",
       " '8.3',\n",
       " '8.3',\n",
       " '8.3',\n",
       " '8.3',\n",
       " '8.3',\n",
       " '8.3',\n",
       " '8.2',\n",
       " '8.2',\n",
       " '8.2',\n",
       " '8.2',\n",
       " '8.2',\n",
       " '8.2',\n",
       " '8.2',\n",
       " '8.2',\n",
       " '8.2',\n",
       " '8.2',\n",
       " '8.2',\n",
       " '8.2',\n",
       " '8.2',\n",
       " '8.2',\n",
       " '8.2',\n",
       " '8.2',\n",
       " '8.2',\n",
       " '8.2',\n",
       " '8.2',\n",
       " '8.2',\n",
       " '8.2',\n",
       " '8.2',\n",
       " '8.2',\n",
       " '8.2',\n",
       " '8.2',\n",
       " '8.1',\n",
       " '8.1',\n",
       " '8.1',\n",
       " '8.1',\n",
       " '8.1',\n",
       " '8.1',\n",
       " '8.1',\n",
       " '8.1',\n",
       " '8.1',\n",
       " '8.1',\n",
       " '8.1',\n",
       " '8.1',\n",
       " '8.1',\n",
       " '8.1',\n",
       " '8.1',\n",
       " '8.1',\n",
       " '8.1',\n",
       " '8.1',\n",
       " '8.1',\n",
       " '8.1',\n",
       " '8.1',\n",
       " '8.1',\n",
       " '8.1',\n",
       " '8.1',\n",
       " '8.1',\n",
       " '8.1',\n",
       " '8.1',\n",
       " '8.1',\n",
       " '8.1',\n",
       " '8.1',\n",
       " '8.1',\n",
       " '8.1',\n",
       " '8.1',\n",
       " '8.1',\n",
       " '8.1',\n",
       " '8.1',\n",
       " '8.1',\n",
       " '8.1',\n",
       " '8.1',\n",
       " '8.1',\n",
       " '8.1',\n",
       " '8.1',\n",
       " '8.1',\n",
       " '8.1',\n",
       " '8.1',\n",
       " '8.0',\n",
       " '8.0',\n",
       " '8.0',\n",
       " '8.0',\n",
       " '8.0',\n",
       " '8.0',\n",
       " '8.0',\n",
       " '8.0',\n",
       " '8.0',\n",
       " '8.0',\n",
       " '8.0',\n",
       " '8.0',\n",
       " '8.0',\n",
       " '8.0',\n",
       " '8.0',\n",
       " '8.0',\n",
       " '8.0',\n",
       " '8.0',\n",
       " '8.0',\n",
       " '8.0',\n",
       " '8.0',\n",
       " '8.0',\n",
       " '8.0',\n",
       " '8.0',\n",
       " '8.0',\n",
       " '8.0',\n",
       " '7.9',\n",
       " '7.9',\n",
       " '7.9',\n",
       " '7.9',\n",
       " '7.9',\n",
       " '7.9',\n",
       " '7.9',\n",
       " '7.9',\n",
       " '7.9',\n",
       " '7.9',\n",
       " '7.9',\n",
       " '7.9',\n",
       " '7.9',\n",
       " '7.9',\n",
       " '7.9',\n",
       " '7.9',\n",
       " '7.9',\n",
       " '7.9',\n",
       " '7.9',\n",
       " '7.9',\n",
       " '7.9',\n",
       " '7.9',\n",
       " '7.9',\n",
       " '7.9',\n",
       " '7.9',\n",
       " '7.9',\n",
       " '7.9',\n",
       " '7.9',\n",
       " '7.8',\n",
       " '7.8',\n",
       " '7.8',\n",
       " '7.8',\n",
       " '7.8',\n",
       " '7.8',\n",
       " '7.8',\n",
       " '7.8',\n",
       " '7.8',\n",
       " '7.8',\n",
       " '7.8',\n",
       " '7.8',\n",
       " '7.8',\n",
       " '7.8',\n",
       " '7.8',\n",
       " '7.8',\n",
       " '7.8',\n",
       " '7.8',\n",
       " '7.8',\n",
       " '7.8',\n",
       " '7.8',\n",
       " '7.8',\n",
       " '7.8',\n",
       " '7.8',\n",
       " '7.8',\n",
       " '7.8',\n",
       " '7.8',\n",
       " '7.8',\n",
       " '7.8',\n",
       " '7.7',\n",
       " '7.7',\n",
       " '7.7',\n",
       " '7.7',\n",
       " '7.7',\n",
       " '7.7',\n",
       " '7.7',\n",
       " '7.7',\n",
       " '7.7',\n",
       " '7.7',\n",
       " '7.7',\n",
       " '7.7',\n",
       " '7.7',\n",
       " '7.7',\n",
       " '7.7',\n",
       " '7.7',\n",
       " '7.7',\n",
       " '7.7',\n",
       " '7.7',\n",
       " '7.7',\n",
       " '7.7',\n",
       " '7.7',\n",
       " '7.7',\n",
       " '7.7',\n",
       " '7.7',\n",
       " '7.7',\n",
       " '7.6',\n",
       " '7.6',\n",
       " '7.6',\n",
       " '7.6',\n",
       " '7.6',\n",
       " '7.6',\n",
       " '7.6',\n",
       " '7.6',\n",
       " '7.6',\n",
       " '7.6',\n",
       " '7.6',\n",
       " '7.6',\n",
       " '7.6',\n",
       " '7.6',\n",
       " '7.6',\n",
       " '7.6',\n",
       " '7.6',\n",
       " '7.6',\n",
       " '7.6',\n",
       " '7.6',\n",
       " '7.6',\n",
       " '7.6',\n",
       " '7.6',\n",
       " '7.6',\n",
       " '7.6',\n",
       " '7.6',\n",
       " '7.6',\n",
       " '7.6',\n",
       " '7.6',\n",
       " '7.6',\n",
       " '7.6',\n",
       " '7.5',\n",
       " '7.5',\n",
       " '7.5',\n",
       " '7.5',\n",
       " '7.5',\n",
       " '7.5',\n",
       " '7.5']"
      ]
     },
     "execution_count": 25,
     "metadata": {},
     "output_type": "execute_result"
    }
   ],
   "source": [
    "rating = []\n",
    "for i in movie_rating:\n",
    "    rating.append(i.text.replace(\"\\n\",\"\"))\n",
    "rating"
   ]
  },
  {
   "cell_type": "code",
   "execution_count": 26,
   "metadata": {},
   "outputs": [],
   "source": [
    "rate = []\n",
    "for i in range(0,100):\n",
    "    rate.append(rating[i])"
   ]
  },
  {
   "cell_type": "code",
   "execution_count": 27,
   "metadata": {},
   "outputs": [
    {
     "data": {
      "text/plain": [
       "100"
      ]
     },
     "execution_count": 27,
     "metadata": {},
     "output_type": "execute_result"
    }
   ],
   "source": [
    "len(rate)"
   ]
  },
  {
   "cell_type": "code",
   "execution_count": 28,
   "metadata": {},
   "outputs": [
    {
     "data": {
      "text/plain": [
       "['(1955)',\n",
       " '(1987)',\n",
       " '(2018)',\n",
       " '(2003)',\n",
       " '(1979)',\n",
       " '(1959)',\n",
       " '(2018)',\n",
       " '(1989)',\n",
       " '(1993)',\n",
       " '(2016)',\n",
       " '(2018)',\n",
       " '(1992)',\n",
       " '(2004)',\n",
       " '(2021)',\n",
       " '(2019)',\n",
       " '(2015)',\n",
       " '(2009)',\n",
       " '(2007)',\n",
       " '(2019)',\n",
       " '(2020)',\n",
       " '(2018)',\n",
       " '(1991)',\n",
       " '(2016)',\n",
       " '(2019)',\n",
       " '(2019)',\n",
       " '(1993)',\n",
       " '(1956)',\n",
       " '(1983)',\n",
       " '(2018)',\n",
       " '(2018)',\n",
       " '(1957)',\n",
       " '(1965)',\n",
       " '(2015)',\n",
       " '(2002)',\n",
       " '(1975)',\n",
       " '(1997)',\n",
       " '(1995)',\n",
       " '(2019)',\n",
       " '(2019)',\n",
       " '(2013)',\n",
       " '(2017)',\n",
       " '(2016)',\n",
       " '(2018)',\n",
       " '(2018)',\n",
       " '(2006)',\n",
       " '(2006)',\n",
       " '(1971)',\n",
       " '(2015)',\n",
       " '(2005)',\n",
       " '(2014)',\n",
       " '(2018)',\n",
       " '(1999)',\n",
       " '(2014)',\n",
       " '(2015)',\n",
       " '(2016)',\n",
       " '(1998)',\n",
       " '(2013)',\n",
       " '(2012)',\n",
       " '(2014)',\n",
       " '(2003)',\n",
       " '(2012)',\n",
       " '(2012)',\n",
       " '(2016)',\n",
       " '(2013)',\n",
       " '(2000)',\n",
       " '(2015)',\n",
       " '(2004)',\n",
       " '(1975)',\n",
       " '(2005)',\n",
       " '(2012)',\n",
       " '(2007)',\n",
       " '(1992)',\n",
       " '(2015)',\n",
       " '(2015)',\n",
       " '(1960)',\n",
       " '(2016)',\n",
       " '(2011)',\n",
       " '(2019)',\n",
       " '(1964)',\n",
       " '(2010)',\n",
       " '(2017)',\n",
       " '(2008)',\n",
       " '(2013)',\n",
       " '(2015)',\n",
       " '(2000)',\n",
       " '(2003)',\n",
       " '(1999)',\n",
       " '(1995)',\n",
       " '(2001)',\n",
       " '(1992)',\n",
       " '(2012)',\n",
       " '(2006)',\n",
       " '(2019)',\n",
       " '(2001)',\n",
       " '(2012)',\n",
       " '(1994)',\n",
       " '(2018)',\n",
       " '(2004)',\n",
       " '(2014)',\n",
       " '(2013)',\n",
       " '(2005)',\n",
       " '(2002)',\n",
       " '(2006)',\n",
       " '(2012)',\n",
       " '(2016)',\n",
       " '(2003)',\n",
       " '(1995)',\n",
       " '(2019)',\n",
       " '(2006)',\n",
       " '(1996)',\n",
       " '(2006)',\n",
       " '(2021)',\n",
       " '(2019)',\n",
       " '(2016)',\n",
       " '(2017)',\n",
       " '(1975)',\n",
       " '(2010)',\n",
       " '(1968)',\n",
       " '(2009)',\n",
       " '(2012)',\n",
       " '(2014)',\n",
       " '(1995)',\n",
       " '(2005)',\n",
       " '(2018)',\n",
       " '(2017)',\n",
       " '(2017)',\n",
       " '(2013)',\n",
       " '(1999)',\n",
       " '(1957)',\n",
       " '(2013)',\n",
       " '(2018)',\n",
       " '(2011)',\n",
       " '(2008)',\n",
       " '(2012)',\n",
       " '(2019)',\n",
       " '(2014)',\n",
       " '(2018)',\n",
       " '(2009)',\n",
       " '(2015)',\n",
       " '(2010)',\n",
       " '(1958)',\n",
       " '(1999)',\n",
       " '(2021)',\n",
       " '(2013)',\n",
       " '(2002)',\n",
       " '(2017)',\n",
       " '(2011)',\n",
       " '(2017)',\n",
       " '(2015)',\n",
       " '(2012)',\n",
       " '(2010)',\n",
       " '(2013)',\n",
       " '(2020)',\n",
       " '(2015)',\n",
       " '(2003)',\n",
       " '(2007)',\n",
       " '(2013)',\n",
       " '(2017)',\n",
       " '(2010)',\n",
       " '(2009)',\n",
       " '(1997)',\n",
       " '(2019)',\n",
       " '(2003)',\n",
       " '(2018)',\n",
       " '(2004)',\n",
       " '(2006)',\n",
       " '(2006)',\n",
       " '(2015)',\n",
       " '(1996)',\n",
       " '(2000)',\n",
       " '(2015)',\n",
       " '(2020)',\n",
       " '(2019)',\n",
       " '(2016)',\n",
       " '(2020)',\n",
       " '(2017)',\n",
       " '(2003)',\n",
       " '(2012)',\n",
       " '(2003)',\n",
       " '(2014)',\n",
       " '(2013)',\n",
       " '(2007)',\n",
       " '(2004)',\n",
       " '(2021)',\n",
       " '(2019)',\n",
       " '(2017)',\n",
       " '(2006)',\n",
       " '(2001)',\n",
       " '(2012)',\n",
       " '(2016)',\n",
       " '(1987)',\n",
       " '(2018)',\n",
       " '(2016)',\n",
       " '(2015)',\n",
       " '(2011)',\n",
       " '(1978)',\n",
       " '(2018)',\n",
       " '(2008)',\n",
       " '(2004)',\n",
       " '(2011)',\n",
       " '(2014)',\n",
       " '(2008)',\n",
       " '(2015)',\n",
       " '(2007)',\n",
       " '(2004)',\n",
       " '(2001)',\n",
       " '(2012)',\n",
       " '(2013)',\n",
       " '(2008)',\n",
       " '(2014)',\n",
       " '(2016)',\n",
       " '(2008)',\n",
       " '(2011)',\n",
       " '(2019)',\n",
       " '(2012)',\n",
       " '(2014)',\n",
       " '(1994)',\n",
       " '(2004)',\n",
       " '(1993)',\n",
       " '(2016)',\n",
       " '(2017)',\n",
       " '(2008)',\n",
       " '(2019)',\n",
       " '(2018)',\n",
       " '(1998)',\n",
       " '(1990)',\n",
       " '(2013)',\n",
       " '(2005)',\n",
       " '(2011)',\n",
       " '(2016)',\n",
       " '(2007)',\n",
       " '(2015)',\n",
       " '(2014)',\n",
       " '(2020)',\n",
       " '(2009)',\n",
       " '(1993)',\n",
       " '(2007)',\n",
       " '(2015)',\n",
       " '(2016)',\n",
       " '(2020)',\n",
       " '(2009)',\n",
       " '(2015)',\n",
       " '(2014)',\n",
       " '(2016)',\n",
       " '(2018)',\n",
       " '(1998)',\n",
       " '(2008)',\n",
       " '(2016)',\n",
       " '(2018)',\n",
       " '(2018)']"
      ]
     },
     "execution_count": 28,
     "metadata": {},
     "output_type": "execute_result"
    }
   ],
   "source": [
    "rel_year = soup.find_all('span',class_=\"secondaryInfo\")\n",
    "year = []\n",
    "for i in rel_year:\n",
    "    year.append(i.text.replace(\"\\n\",\"\"))\n",
    "year"
   ]
  },
  {
   "cell_type": "code",
   "execution_count": 29,
   "metadata": {},
   "outputs": [],
   "source": [
    "release_year = []\n",
    "for i in range(0,100):\n",
    "    release_year.append(year[i])"
   ]
  },
  {
   "cell_type": "code",
   "execution_count": 30,
   "metadata": {},
   "outputs": [
    {
     "data": {
      "text/plain": [
       "100"
      ]
     },
     "execution_count": 30,
     "metadata": {},
     "output_type": "execute_result"
    }
   ],
   "source": [
    "len(release_year)"
   ]
  },
  {
   "cell_type": "code",
   "execution_count": 31,
   "metadata": {},
   "outputs": [
    {
     "data": {
      "text/html": [
       "<div>\n",
       "<style scoped>\n",
       "    .dataframe tbody tr th:only-of-type {\n",
       "        vertical-align: middle;\n",
       "    }\n",
       "\n",
       "    .dataframe tbody tr th {\n",
       "        vertical-align: top;\n",
       "    }\n",
       "\n",
       "    .dataframe thead th {\n",
       "        text-align: right;\n",
       "    }\n",
       "</style>\n",
       "<table border=\"1\" class=\"dataframe\">\n",
       "  <thead>\n",
       "    <tr style=\"text-align: right;\">\n",
       "      <th></th>\n",
       "      <th>Name</th>\n",
       "      <th>Rating</th>\n",
       "      <th>Year</th>\n",
       "    </tr>\n",
       "  </thead>\n",
       "  <tbody>\n",
       "    <tr>\n",
       "      <th>0</th>\n",
       "      <td>Pather Panchali</td>\n",
       "      <td>8.5</td>\n",
       "      <td>(1955)</td>\n",
       "    </tr>\n",
       "    <tr>\n",
       "      <th>1</th>\n",
       "      <td>Nayakan</td>\n",
       "      <td>8.5</td>\n",
       "      <td>(1987)</td>\n",
       "    </tr>\n",
       "    <tr>\n",
       "      <th>2</th>\n",
       "      <td>Pariyerum Perumal</td>\n",
       "      <td>8.5</td>\n",
       "      <td>(2018)</td>\n",
       "    </tr>\n",
       "    <tr>\n",
       "      <th>3</th>\n",
       "      <td>Anbe Sivam</td>\n",
       "      <td>8.5</td>\n",
       "      <td>(2003)</td>\n",
       "    </tr>\n",
       "    <tr>\n",
       "      <th>4</th>\n",
       "      <td>Golmaal</td>\n",
       "      <td>8.5</td>\n",
       "      <td>(1979)</td>\n",
       "    </tr>\n",
       "    <tr>\n",
       "      <th>...</th>\n",
       "      <td>...</td>\n",
       "      <td>...</td>\n",
       "      <td>...</td>\n",
       "    </tr>\n",
       "    <tr>\n",
       "      <th>95</th>\n",
       "      <td>Andaz Apna Apna</td>\n",
       "      <td>8.1</td>\n",
       "      <td>(1994)</td>\n",
       "    </tr>\n",
       "    <tr>\n",
       "      <th>96</th>\n",
       "      <td>Uri: The Surgical Strike</td>\n",
       "      <td>8.1</td>\n",
       "      <td>(2018)</td>\n",
       "    </tr>\n",
       "    <tr>\n",
       "      <th>97</th>\n",
       "      <td>Virumandi</td>\n",
       "      <td>8.1</td>\n",
       "      <td>(2004)</td>\n",
       "    </tr>\n",
       "    <tr>\n",
       "      <th>98</th>\n",
       "      <td>PK</td>\n",
       "      <td>8.1</td>\n",
       "      <td>(2014)</td>\n",
       "    </tr>\n",
       "    <tr>\n",
       "      <th>99</th>\n",
       "      <td>Lucia</td>\n",
       "      <td>8.1</td>\n",
       "      <td>(2013)</td>\n",
       "    </tr>\n",
       "  </tbody>\n",
       "</table>\n",
       "<p>100 rows × 3 columns</p>\n",
       "</div>"
      ],
      "text/plain": [
       "                        Name Rating    Year\n",
       "0            Pather Panchali    8.5  (1955)\n",
       "1                    Nayakan    8.5  (1987)\n",
       "2          Pariyerum Perumal    8.5  (2018)\n",
       "3                 Anbe Sivam    8.5  (2003)\n",
       "4                    Golmaal    8.5  (1979)\n",
       "..                       ...    ...     ...\n",
       "95           Andaz Apna Apna    8.1  (1994)\n",
       "96  Uri: The Surgical Strike    8.1  (2018)\n",
       "97                 Virumandi    8.1  (2004)\n",
       "98                        PK    8.1  (2014)\n",
       "99                     Lucia    8.1  (2013)\n",
       "\n",
       "[100 rows x 3 columns]"
      ]
     },
     "execution_count": 31,
     "metadata": {},
     "output_type": "execute_result"
    }
   ],
   "source": [
    "indian_movies = pd.DataFrame({})\n",
    "indian_movies[\"Name\"] = title\n",
    "indian_movies[\"Rating\"] = rate\n",
    "indian_movies[\"Year\"] = release_year\n",
    "indian_movies"
   ]
  },
  {
   "cell_type": "markdown",
   "metadata": {},
   "source": [
    "###### 4) Write a python program to scrap book name, author name, genre and book review of any 5 books from ‘www.bookpage.com’"
   ]
  },
  {
   "cell_type": "code",
   "execution_count": 32,
   "metadata": {},
   "outputs": [
    {
     "data": {
      "text/plain": [
       "<Response [200]>"
      ]
     },
     "execution_count": 32,
     "metadata": {},
     "output_type": "execute_result"
    }
   ],
   "source": [
    "page = requests.get(\"https://bookpage.com/reviews\")\n",
    "page"
   ]
  },
  {
   "cell_type": "code",
   "execution_count": 33,
   "metadata": {},
   "outputs": [],
   "source": [
    "soup = BeautifulSoup(page.content)"
   ]
  },
  {
   "cell_type": "code",
   "execution_count": 34,
   "metadata": {},
   "outputs": [
    {
     "data": {
      "text/plain": [
       "['The Rose Code',\n",
       " 'The Damage',\n",
       " ' ★ Blackout',\n",
       " ' ★ The Sweetness of Water',\n",
       " 'The Killing Hills',\n",
       " ' ★ The Outlier',\n",
       " ' ★ Ahmed Aziz’s Epic Year',\n",
       " ' ★ Cultish',\n",
       " ' ★ The Tangleroot Palace',\n",
       " ' ★ Bath Haus']"
      ]
     },
     "execution_count": 34,
     "metadata": {},
     "output_type": "execute_result"
    }
   ],
   "source": [
    "name = soup.find_all('h4',class_=\"italic\")\n",
    "book_name = []\n",
    "for i in name:\n",
    "    book_name.append(i.text.replace(\"\\n\",\"\"))\n",
    "book_name"
   ]
  },
  {
   "cell_type": "code",
   "execution_count": 35,
   "metadata": {},
   "outputs": [
    {
     "data": {
      "text/plain": [
       "['The Rose Code',\n",
       " 'The Damage',\n",
       " ' ★ Blackout',\n",
       " ' ★ The Sweetness of Water',\n",
       " 'The Killing Hills']"
      ]
     },
     "execution_count": 35,
     "metadata": {},
     "output_type": "execute_result"
    }
   ],
   "source": [
    "names = []\n",
    "for i in range(0,5):\n",
    "    names.append(book_name[i])\n",
    "names"
   ]
  },
  {
   "cell_type": "code",
   "execution_count": 36,
   "metadata": {},
   "outputs": [
    {
     "data": {
      "text/plain": [
       "['Kate Quinn, Saskia Maarleveld',\n",
       " 'Caitlin Wahrer',\n",
       " 'Dhonielle Clayton, Tiffany D. Jackson, Nic Stone, Angie Thomas, Ashley Woodfolk, Nicola Yoon',\n",
       " 'Nathan Harris',\n",
       " 'Chris Offutt',\n",
       " 'Kai Bird',\n",
       " 'Nina Hamza',\n",
       " 'Amanda Montell',\n",
       " 'Marjorie Liu',\n",
       " 'P.J. Vernon']"
      ]
     },
     "execution_count": 36,
     "metadata": {},
     "output_type": "execute_result"
    }
   ],
   "source": [
    "author = soup.find_all('p',class_=\"sans bold\")\n",
    "author_n = []\n",
    "for i in author:\n",
    "    author_n.append(i.text.replace(\"\\n\",\"\"))\n",
    "author_n"
   ]
  },
  {
   "cell_type": "code",
   "execution_count": 37,
   "metadata": {},
   "outputs": [
    {
     "data": {
      "text/plain": [
       "['Kate Quinn, Saskia Maarleveld',\n",
       " 'Caitlin Wahrer',\n",
       " 'Dhonielle Clayton, Tiffany D. Jackson, Nic Stone, Angie Thomas, Ashley Woodfolk, Nicola Yoon',\n",
       " 'Nathan Harris',\n",
       " 'Chris Offutt']"
      ]
     },
     "execution_count": 37,
     "metadata": {},
     "output_type": "execute_result"
    }
   ],
   "source": [
    "author_names = []\n",
    "for i in range(0,5):\n",
    "    author_names.append(author_n[i])\n",
    "author_names"
   ]
  },
  {
   "cell_type": "code",
   "execution_count": 38,
   "metadata": {},
   "outputs": [
    {
     "data": {
      "text/plain": [
       "['Audio / Fiction / Historical Fiction',\n",
       " 'Mystery & Suspense / Suspense',\n",
       " 'YA / YA Fiction',\n",
       " 'Fiction / Historical Fiction',\n",
       " 'Fiction / Crime Fiction']"
      ]
     },
     "execution_count": 38,
     "metadata": {},
     "output_type": "execute_result"
    }
   ],
   "source": [
    "gen = soup.find_all('p',class_=\"genre-links hidden-phone\")\n",
    "genr = []\n",
    "for i in gen:\n",
    "    genr.append(i.text.replace(\"\\n\",\"\"))\n",
    "genre = []\n",
    "for i in range(0,5):\n",
    "    genre.append(genr[i])\n",
    "genre"
   ]
  },
  {
   "cell_type": "code",
   "execution_count": 39,
   "metadata": {},
   "outputs": [
    {
     "data": {
      "text/plain": [
       "['The Rose Code is a terrific story, brilliantly performed by Saskia Maarleveld. Or as Osla would say, it’s a real corker!',\n",
       " '',\n",
       " '',\n",
       " 'Nathan Harris’ Civil War-set debut novel celebrates all manner of relationships that combat hate.',\n",
       " 'A rural noir with attitude to spare, The Killing Hills moves as briskly as a well-constructed miniseries.']"
      ]
     },
     "execution_count": 39,
     "metadata": {},
     "output_type": "execute_result"
    }
   ],
   "source": [
    "rev = soup.find_all('p',class_=\"excerpt\")\n",
    "revi = []\n",
    "for i in rev:\n",
    "    revi.append(i.text.replace(\"\\n\",\"\"))\n",
    "review = []\n",
    "for i in range(0,5):\n",
    "    review.append(revi[i])\n",
    "review"
   ]
  },
  {
   "cell_type": "code",
   "execution_count": 40,
   "metadata": {},
   "outputs": [
    {
     "data": {
      "text/html": [
       "<div>\n",
       "<style scoped>\n",
       "    .dataframe tbody tr th:only-of-type {\n",
       "        vertical-align: middle;\n",
       "    }\n",
       "\n",
       "    .dataframe tbody tr th {\n",
       "        vertical-align: top;\n",
       "    }\n",
       "\n",
       "    .dataframe thead th {\n",
       "        text-align: right;\n",
       "    }\n",
       "</style>\n",
       "<table border=\"1\" class=\"dataframe\">\n",
       "  <thead>\n",
       "    <tr style=\"text-align: right;\">\n",
       "      <th></th>\n",
       "      <th>Book Name</th>\n",
       "      <th>Author's Name</th>\n",
       "      <th>Genre</th>\n",
       "      <th>Review</th>\n",
       "    </tr>\n",
       "  </thead>\n",
       "  <tbody>\n",
       "    <tr>\n",
       "      <th>0</th>\n",
       "      <td>The Rose Code</td>\n",
       "      <td>Kate Quinn, Saskia Maarleveld</td>\n",
       "      <td>Audio / Fiction / Historical Fiction</td>\n",
       "      <td>The Rose Code is a terrific story, brilliantly...</td>\n",
       "    </tr>\n",
       "    <tr>\n",
       "      <th>1</th>\n",
       "      <td>The Damage</td>\n",
       "      <td>Caitlin Wahrer</td>\n",
       "      <td>Mystery &amp; Suspense / Suspense</td>\n",
       "      <td></td>\n",
       "    </tr>\n",
       "    <tr>\n",
       "      <th>2</th>\n",
       "      <td>★ Blackout</td>\n",
       "      <td>Dhonielle Clayton, Tiffany D. Jackson, Nic Sto...</td>\n",
       "      <td>YA / YA Fiction</td>\n",
       "      <td></td>\n",
       "    </tr>\n",
       "    <tr>\n",
       "      <th>3</th>\n",
       "      <td>★ The Sweetness of Water</td>\n",
       "      <td>Nathan Harris</td>\n",
       "      <td>Fiction / Historical Fiction</td>\n",
       "      <td>Nathan Harris’ Civil War-set debut novel celeb...</td>\n",
       "    </tr>\n",
       "    <tr>\n",
       "      <th>4</th>\n",
       "      <td>The Killing Hills</td>\n",
       "      <td>Chris Offutt</td>\n",
       "      <td>Fiction / Crime Fiction</td>\n",
       "      <td>A rural noir with attitude to spare, The Killi...</td>\n",
       "    </tr>\n",
       "  </tbody>\n",
       "</table>\n",
       "</div>"
      ],
      "text/plain": [
       "                   Book Name  \\\n",
       "0              The Rose Code   \n",
       "1                 The Damage   \n",
       "2                 ★ Blackout   \n",
       "3   ★ The Sweetness of Water   \n",
       "4          The Killing Hills   \n",
       "\n",
       "                                       Author's Name  \\\n",
       "0                      Kate Quinn, Saskia Maarleveld   \n",
       "1                                     Caitlin Wahrer   \n",
       "2  Dhonielle Clayton, Tiffany D. Jackson, Nic Sto...   \n",
       "3                                      Nathan Harris   \n",
       "4                                       Chris Offutt   \n",
       "\n",
       "                                  Genre  \\\n",
       "0  Audio / Fiction / Historical Fiction   \n",
       "1         Mystery & Suspense / Suspense   \n",
       "2                       YA / YA Fiction   \n",
       "3          Fiction / Historical Fiction   \n",
       "4               Fiction / Crime Fiction   \n",
       "\n",
       "                                              Review  \n",
       "0  The Rose Code is a terrific story, brilliantly...  \n",
       "1                                                     \n",
       "2                                                     \n",
       "3  Nathan Harris’ Civil War-set debut novel celeb...  \n",
       "4  A rural noir with attitude to spare, The Killi...  "
      ]
     },
     "execution_count": 40,
     "metadata": {},
     "output_type": "execute_result"
    }
   ],
   "source": [
    "books = pd.DataFrame({})\n",
    "books[\"Book Name\"] = names\n",
    "books[\"Author's Name\"] = author_names\n",
    "books[\"Genre\"] = genre\n",
    "books[\"Review\"] = review\n",
    "books"
   ]
  },
  {
   "cell_type": "markdown",
   "metadata": {},
   "source": [
    "##### 5) Write a python program to scrape cricket rankings from ‘www.icc-cricket.com’. You have to scrape:\n",
    "###### i) Top 10 ODI teams in men’s cricket along with the records for matches, points and rating. \n",
    "###### ii) Top 10 ODI Batsmen in men along with the records of their team and rating. \n",
    "###### iii) Top 10 ODI bowlers along with the records of their team and rating"
   ]
  },
  {
   "cell_type": "code",
   "execution_count": 41,
   "metadata": {},
   "outputs": [
    {
     "data": {
      "text/plain": [
       "<Response [200]>"
      ]
     },
     "execution_count": 41,
     "metadata": {},
     "output_type": "execute_result"
    }
   ],
   "source": [
    "top_team = requests.get(\"https://www.icc-cricket.com/rankings/mens/team-rankings/odi\")\n",
    "top_team"
   ]
  },
  {
   "cell_type": "code",
   "execution_count": 42,
   "metadata": {},
   "outputs": [],
   "source": [
    "soup = BeautifulSoup(top_team.content)"
   ]
  },
  {
   "cell_type": "code",
   "execution_count": 43,
   "metadata": {},
   "outputs": [
    {
     "data": {
      "text/plain": [
       "['New Zealand',\n",
       " 'Australia',\n",
       " 'India',\n",
       " 'England',\n",
       " 'South Africa',\n",
       " 'Pakistan',\n",
       " 'Bangladesh',\n",
       " 'West Indies',\n",
       " 'Sri Lanka',\n",
       " 'Afghanistan']"
      ]
     },
     "execution_count": 43,
     "metadata": {},
     "output_type": "execute_result"
    }
   ],
   "source": [
    "team = soup.find_all('span',class_='u-hide-phablet')\n",
    "teams = []\n",
    "for i in team:\n",
    "    teams.append(i.text.replace(\"\\n\",\"\"))\n",
    "top_ten_team = []\n",
    "for i in range(0,10):\n",
    "    top_ten_team.append(teams[i])\n",
    "top_ten_team"
   ]
  },
  {
   "cell_type": "code",
   "execution_count": 44,
   "metadata": {},
   "outputs": [
    {
     "data": {
      "text/plain": [
       "['17']"
      ]
     },
     "execution_count": 44,
     "metadata": {},
     "output_type": "execute_result"
    }
   ],
   "source": [
    "mat1 = soup.find('td',class_=\"rankings-block__banner--matches\")\n",
    "matc = []\n",
    "matc.append(mat1.text.replace(\"\\n\",\"\"))\n",
    "matc"
   ]
  },
  {
   "cell_type": "code",
   "execution_count": 45,
   "metadata": {},
   "outputs": [],
   "source": [
    "mat = soup.find_all('td',class_='table-body__cell u-center-text')\n",
    "match = []\n",
    "for i in mat:\n",
    "    match.append(i.text.replace(\"\\n\",\"\"))"
   ]
  },
  {
   "cell_type": "code",
   "execution_count": 46,
   "metadata": {},
   "outputs": [
    {
     "data": {
      "text/plain": [
       "['25', '29', '27', '20', '24', '27', '27', '24', '17']"
      ]
     },
     "execution_count": 46,
     "metadata": {},
     "output_type": "execute_result"
    }
   ],
   "source": [
    "matches = []\n",
    "for i in range(0,18,2):\n",
    "    matches.append(match[i])\n",
    "matches"
   ]
  },
  {
   "cell_type": "code",
   "execution_count": 47,
   "metadata": {},
   "outputs": [
    {
     "data": {
      "text/plain": [
       "['17', '25', '29', '27', '20', '24', '27', '27', '24', '17']"
      ]
     },
     "execution_count": 47,
     "metadata": {},
     "output_type": "execute_result"
    }
   ],
   "source": [
    "matches.insert(0,matc[0])\n",
    "matches"
   ]
  },
  {
   "cell_type": "code",
   "execution_count": 48,
   "metadata": {},
   "outputs": [
    {
     "data": {
      "text/plain": [
       "['2,054']"
      ]
     },
     "execution_count": 48,
     "metadata": {},
     "output_type": "execute_result"
    }
   ],
   "source": [
    "p1 = soup.find('td',class_=\"rankings-block__banner--points\")\n",
    "po1 = []\n",
    "po1.append(p1.text.replace(\"\\n\",\"\"))\n",
    "po1"
   ]
  },
  {
   "cell_type": "code",
   "execution_count": 49,
   "metadata": {},
   "outputs": [],
   "source": [
    "point = soup.find_all('td',class_='table-body__cell u-center-text')\n",
    "poin = []\n",
    "for i in point:\n",
    "    poin.append(i.text.replace(\"\\n\",\"\"))"
   ]
  },
  {
   "cell_type": "code",
   "execution_count": 50,
   "metadata": {},
   "outputs": [
    {
     "data": {
      "text/plain": [
       "['2,945',\n",
       " '3,344',\n",
       " '3,100',\n",
       " '2,137',\n",
       " '2,323',\n",
       " '2,438',\n",
       " '2,222',\n",
       " '1,876',\n",
       " '1,054']"
      ]
     },
     "execution_count": 50,
     "metadata": {},
     "output_type": "execute_result"
    }
   ],
   "source": [
    "poin_top = []\n",
    "for i in range(1,18,2):\n",
    "    poin_top.append(poin[i])\n",
    "poin_top"
   ]
  },
  {
   "cell_type": "code",
   "execution_count": 51,
   "metadata": {},
   "outputs": [
    {
     "data": {
      "text/plain": [
       "['2,054',\n",
       " '2,945',\n",
       " '3,344',\n",
       " '3,100',\n",
       " '2,137',\n",
       " '2,323',\n",
       " '2,438',\n",
       " '2,222',\n",
       " '1,876',\n",
       " '1,054']"
      ]
     },
     "execution_count": 51,
     "metadata": {},
     "output_type": "execute_result"
    }
   ],
   "source": [
    "poin_top.insert(0,po1[0])\n",
    "poin_top"
   ]
  },
  {
   "cell_type": "code",
   "execution_count": 52,
   "metadata": {},
   "outputs": [
    {
     "data": {
      "text/plain": [
       "['                            121                            ']"
      ]
     },
     "execution_count": 52,
     "metadata": {},
     "output_type": "execute_result"
    }
   ],
   "source": [
    "rat = soup.find('td',class_=\"rankings-block__banner--rating u-text-right\")\n",
    "rat\n",
    "rat1 = []\n",
    "rat1.append(rat.text.replace(\"\\n\",\"\"))\n",
    "rat1"
   ]
  },
  {
   "cell_type": "code",
   "execution_count": 53,
   "metadata": {},
   "outputs": [
    {
     "data": {
      "text/plain": [
       "['118', '115', '115', '107', '97', '90', '82', '78', '62']"
      ]
     },
     "execution_count": 53,
     "metadata": {},
     "output_type": "execute_result"
    }
   ],
   "source": [
    "rate = soup.find_all(\"td\",class_=\"table-body__cell u-text-right rating\")\n",
    "rate1 = []\n",
    "for i in rate:\n",
    "    rate1.append(i.text.replace(\"\\n\",\"\"))\n",
    "rati = []\n",
    "for i in range(0,9):\n",
    "    rati.append(rate1[i])\n",
    "rati"
   ]
  },
  {
   "cell_type": "code",
   "execution_count": 54,
   "metadata": {},
   "outputs": [
    {
     "data": {
      "text/plain": [
       "['                            121                            ',\n",
       " '118',\n",
       " '115',\n",
       " '115',\n",
       " '107',\n",
       " '97',\n",
       " '90',\n",
       " '82',\n",
       " '78',\n",
       " '62']"
      ]
     },
     "execution_count": 54,
     "metadata": {},
     "output_type": "execute_result"
    }
   ],
   "source": [
    "rati.insert(0,rat1[0])\n",
    "rati"
   ]
  },
  {
   "cell_type": "code",
   "execution_count": 55,
   "metadata": {},
   "outputs": [
    {
     "data": {
      "text/html": [
       "<div>\n",
       "<style scoped>\n",
       "    .dataframe tbody tr th:only-of-type {\n",
       "        vertical-align: middle;\n",
       "    }\n",
       "\n",
       "    .dataframe tbody tr th {\n",
       "        vertical-align: top;\n",
       "    }\n",
       "\n",
       "    .dataframe thead th {\n",
       "        text-align: right;\n",
       "    }\n",
       "</style>\n",
       "<table border=\"1\" class=\"dataframe\">\n",
       "  <thead>\n",
       "    <tr style=\"text-align: right;\">\n",
       "      <th></th>\n",
       "      <th>Team</th>\n",
       "      <th>Matches</th>\n",
       "      <th>Points</th>\n",
       "      <th>Rating</th>\n",
       "    </tr>\n",
       "  </thead>\n",
       "  <tbody>\n",
       "    <tr>\n",
       "      <th>0</th>\n",
       "      <td>New Zealand</td>\n",
       "      <td>17</td>\n",
       "      <td>2,054</td>\n",
       "      <td>121               ...</td>\n",
       "    </tr>\n",
       "    <tr>\n",
       "      <th>1</th>\n",
       "      <td>Australia</td>\n",
       "      <td>25</td>\n",
       "      <td>2,945</td>\n",
       "      <td>118</td>\n",
       "    </tr>\n",
       "    <tr>\n",
       "      <th>2</th>\n",
       "      <td>India</td>\n",
       "      <td>29</td>\n",
       "      <td>3,344</td>\n",
       "      <td>115</td>\n",
       "    </tr>\n",
       "    <tr>\n",
       "      <th>3</th>\n",
       "      <td>England</td>\n",
       "      <td>27</td>\n",
       "      <td>3,100</td>\n",
       "      <td>115</td>\n",
       "    </tr>\n",
       "    <tr>\n",
       "      <th>4</th>\n",
       "      <td>South Africa</td>\n",
       "      <td>20</td>\n",
       "      <td>2,137</td>\n",
       "      <td>107</td>\n",
       "    </tr>\n",
       "    <tr>\n",
       "      <th>5</th>\n",
       "      <td>Pakistan</td>\n",
       "      <td>24</td>\n",
       "      <td>2,323</td>\n",
       "      <td>97</td>\n",
       "    </tr>\n",
       "    <tr>\n",
       "      <th>6</th>\n",
       "      <td>Bangladesh</td>\n",
       "      <td>27</td>\n",
       "      <td>2,438</td>\n",
       "      <td>90</td>\n",
       "    </tr>\n",
       "    <tr>\n",
       "      <th>7</th>\n",
       "      <td>West Indies</td>\n",
       "      <td>27</td>\n",
       "      <td>2,222</td>\n",
       "      <td>82</td>\n",
       "    </tr>\n",
       "    <tr>\n",
       "      <th>8</th>\n",
       "      <td>Sri Lanka</td>\n",
       "      <td>24</td>\n",
       "      <td>1,876</td>\n",
       "      <td>78</td>\n",
       "    </tr>\n",
       "    <tr>\n",
       "      <th>9</th>\n",
       "      <td>Afghanistan</td>\n",
       "      <td>17</td>\n",
       "      <td>1,054</td>\n",
       "      <td>62</td>\n",
       "    </tr>\n",
       "  </tbody>\n",
       "</table>\n",
       "</div>"
      ],
      "text/plain": [
       "           Team Matches Points  \\\n",
       "0   New Zealand      17  2,054   \n",
       "1     Australia      25  2,945   \n",
       "2         India      29  3,344   \n",
       "3       England      27  3,100   \n",
       "4  South Africa      20  2,137   \n",
       "5      Pakistan      24  2,323   \n",
       "6    Bangladesh      27  2,438   \n",
       "7   West Indies      27  2,222   \n",
       "8     Sri Lanka      24  1,876   \n",
       "9   Afghanistan      17  1,054   \n",
       "\n",
       "                                              Rating  \n",
       "0                              121               ...  \n",
       "1                                                118  \n",
       "2                                                115  \n",
       "3                                                115  \n",
       "4                                                107  \n",
       "5                                                 97  \n",
       "6                                                 90  \n",
       "7                                                 82  \n",
       "8                                                 78  \n",
       "9                                                 62  "
      ]
     },
     "execution_count": 55,
     "metadata": {},
     "output_type": "execute_result"
    }
   ],
   "source": [
    "top_ODI_teams = pd.DataFrame({})\n",
    "top_ODI_teams[\"Team\"] = top_ten_team\n",
    "top_ODI_teams[\"Matches\"] = matches\n",
    "top_ODI_teams[\"Points\"] = poin_top\n",
    "top_ODI_teams[\"Rating\"] = rati\n",
    "top_ODI_teams"
   ]
  },
  {
   "cell_type": "markdown",
   "metadata": {},
   "source": [
    "##### ii) Top 10 ODI Batsmen in men along with the records of their team and rating."
   ]
  },
  {
   "cell_type": "code",
   "execution_count": 56,
   "metadata": {},
   "outputs": [
    {
     "data": {
      "text/plain": [
       "<Response [200]>"
      ]
     },
     "execution_count": 56,
     "metadata": {},
     "output_type": "execute_result"
    }
   ],
   "source": [
    "page = requests.get(\"https://www.icc-cricket.com/rankings/mens/player-rankings/odi/batting\")\n",
    "page"
   ]
  },
  {
   "cell_type": "code",
   "execution_count": 57,
   "metadata": {},
   "outputs": [],
   "source": [
    "soup = BeautifulSoup(page.content)"
   ]
  },
  {
   "cell_type": "code",
   "execution_count": 58,
   "metadata": {},
   "outputs": [
    {
     "data": {
      "text/plain": [
       "['Babar Azam']"
      ]
     },
     "execution_count": 58,
     "metadata": {},
     "output_type": "execute_result"
    }
   ],
   "source": [
    "men = soup.find('div',class_=\"rankings-block__banner--name-large\")\n",
    "men1 = []\n",
    "men1.append(men.text.replace(\"\\n\",\"\"))\n",
    "men1"
   ]
  },
  {
   "cell_type": "code",
   "execution_count": 59,
   "metadata": {},
   "outputs": [
    {
     "data": {
      "text/plain": [
       "['Virat Kohli',\n",
       " 'Rohit Sharma',\n",
       " 'Ross Taylor',\n",
       " 'Aaron Finch',\n",
       " 'Jonny Bairstow',\n",
       " 'Fakhar Zaman',\n",
       " 'Francois du Plessis',\n",
       " 'David Warner',\n",
       " 'Shai Hope']"
      ]
     },
     "execution_count": 59,
     "metadata": {},
     "output_type": "execute_result"
    }
   ],
   "source": [
    "men2 = soup.find_all(\"td\",class_=\"table-body__cell rankings-table__name name\")\n",
    "mens2 = []\n",
    "for i in men2:\n",
    "    mens2.append(i.text.replace(\"\\n\",\"\"))\n",
    "top_men = []\n",
    "for i in range(0,9):\n",
    "    top_men.append(mens2[i])\n",
    "top_men"
   ]
  },
  {
   "cell_type": "code",
   "execution_count": 60,
   "metadata": {},
   "outputs": [
    {
     "data": {
      "text/plain": [
       "['Babar Azam',\n",
       " 'Virat Kohli',\n",
       " 'Rohit Sharma',\n",
       " 'Ross Taylor',\n",
       " 'Aaron Finch',\n",
       " 'Jonny Bairstow',\n",
       " 'Fakhar Zaman',\n",
       " 'Francois du Plessis',\n",
       " 'David Warner',\n",
       " 'Shai Hope']"
      ]
     },
     "execution_count": 60,
     "metadata": {},
     "output_type": "execute_result"
    }
   ],
   "source": [
    "top_men.insert(0,men1[0])\n",
    "top_men"
   ]
  },
  {
   "cell_type": "code",
   "execution_count": 61,
   "metadata": {},
   "outputs": [
    {
     "data": {
      "text/plain": [
       "['PAK                    ']"
      ]
     },
     "execution_count": 61,
     "metadata": {},
     "output_type": "execute_result"
    }
   ],
   "source": [
    "team = soup.find(\"div\",class_=\"rankings-block__banner--nationality\")\n",
    "team1 = []\n",
    "team1.append(team.text.replace(\"\\n\",\"\"))\n",
    "team1"
   ]
  },
  {
   "cell_type": "code",
   "execution_count": 62,
   "metadata": {},
   "outputs": [
    {
     "data": {
      "text/plain": [
       "['IND', 'IND', 'NZ', 'AUS', 'ENG', 'PAK', 'SA', 'AUS', 'WI']"
      ]
     },
     "execution_count": 62,
     "metadata": {},
     "output_type": "execute_result"
    }
   ],
   "source": [
    "team2 = soup.find_all(\"span\",class_=\"table-body__logo-text\")\n",
    "teams2 = []\n",
    "for i in team2:\n",
    "    teams2.append(i.text.replace(\"\\n\",\"\"))\n",
    "top_team = []\n",
    "for i in range(0,9):\n",
    "    top_team.append(teams2[i])\n",
    "top_team"
   ]
  },
  {
   "cell_type": "code",
   "execution_count": 63,
   "metadata": {},
   "outputs": [
    {
     "data": {
      "text/plain": [
       "['PAK                    ',\n",
       " 'IND',\n",
       " 'IND',\n",
       " 'NZ',\n",
       " 'AUS',\n",
       " 'ENG',\n",
       " 'PAK',\n",
       " 'SA',\n",
       " 'AUS',\n",
       " 'WI']"
      ]
     },
     "execution_count": 63,
     "metadata": {},
     "output_type": "execute_result"
    }
   ],
   "source": [
    "top_team.insert(0,team1[0])\n",
    "top_team"
   ]
  },
  {
   "cell_type": "code",
   "execution_count": 64,
   "metadata": {},
   "outputs": [
    {
     "data": {
      "text/plain": [
       "['865']"
      ]
     },
     "execution_count": 64,
     "metadata": {},
     "output_type": "execute_result"
    }
   ],
   "source": [
    "rate1 = soup.find(\"div\",class_=\"rankings-block__banner--rating\")\n",
    "rat1 = []\n",
    "rat1.append(rate1.text.replace(\"\\n\",\"\"))\n",
    "rat1"
   ]
  },
  {
   "cell_type": "code",
   "execution_count": 65,
   "metadata": {},
   "outputs": [
    {
     "data": {
      "text/plain": [
       "['857', '825', '801', '791', '785', '778', '778', '773', '773']"
      ]
     },
     "execution_count": 65,
     "metadata": {},
     "output_type": "execute_result"
    }
   ],
   "source": [
    "rate2 = soup.find_all(\"td\",class_=\"table-body__cell rating\")\n",
    "rates2=[]\n",
    "for i in rate2:\n",
    "    rates2.append(i.text.replace(\"\\n\",\"\"))\n",
    "top_rate = []\n",
    "for i in range(9):\n",
    "    top_rate.append(rates2[i])\n",
    "top_rate"
   ]
  },
  {
   "cell_type": "code",
   "execution_count": 66,
   "metadata": {},
   "outputs": [
    {
     "data": {
      "text/plain": [
       "['865', '857', '825', '801', '791', '785', '778', '778', '773', '773']"
      ]
     },
     "execution_count": 66,
     "metadata": {},
     "output_type": "execute_result"
    }
   ],
   "source": [
    "top_rate.insert(0,rat1[0])\n",
    "top_rate"
   ]
  },
  {
   "cell_type": "code",
   "execution_count": 67,
   "metadata": {},
   "outputs": [
    {
     "data": {
      "text/html": [
       "<div>\n",
       "<style scoped>\n",
       "    .dataframe tbody tr th:only-of-type {\n",
       "        vertical-align: middle;\n",
       "    }\n",
       "\n",
       "    .dataframe tbody tr th {\n",
       "        vertical-align: top;\n",
       "    }\n",
       "\n",
       "    .dataframe thead th {\n",
       "        text-align: right;\n",
       "    }\n",
       "</style>\n",
       "<table border=\"1\" class=\"dataframe\">\n",
       "  <thead>\n",
       "    <tr style=\"text-align: right;\">\n",
       "      <th></th>\n",
       "      <th>Name</th>\n",
       "      <th>Team</th>\n",
       "      <th>Rating</th>\n",
       "    </tr>\n",
       "  </thead>\n",
       "  <tbody>\n",
       "    <tr>\n",
       "      <th>0</th>\n",
       "      <td>Babar Azam</td>\n",
       "      <td>PAK</td>\n",
       "      <td>865</td>\n",
       "    </tr>\n",
       "    <tr>\n",
       "      <th>1</th>\n",
       "      <td>Virat Kohli</td>\n",
       "      <td>IND</td>\n",
       "      <td>857</td>\n",
       "    </tr>\n",
       "    <tr>\n",
       "      <th>2</th>\n",
       "      <td>Rohit Sharma</td>\n",
       "      <td>IND</td>\n",
       "      <td>825</td>\n",
       "    </tr>\n",
       "    <tr>\n",
       "      <th>3</th>\n",
       "      <td>Ross Taylor</td>\n",
       "      <td>NZ</td>\n",
       "      <td>801</td>\n",
       "    </tr>\n",
       "    <tr>\n",
       "      <th>4</th>\n",
       "      <td>Aaron Finch</td>\n",
       "      <td>AUS</td>\n",
       "      <td>791</td>\n",
       "    </tr>\n",
       "    <tr>\n",
       "      <th>5</th>\n",
       "      <td>Jonny Bairstow</td>\n",
       "      <td>ENG</td>\n",
       "      <td>785</td>\n",
       "    </tr>\n",
       "    <tr>\n",
       "      <th>6</th>\n",
       "      <td>Fakhar Zaman</td>\n",
       "      <td>PAK</td>\n",
       "      <td>778</td>\n",
       "    </tr>\n",
       "    <tr>\n",
       "      <th>7</th>\n",
       "      <td>Francois du Plessis</td>\n",
       "      <td>SA</td>\n",
       "      <td>778</td>\n",
       "    </tr>\n",
       "    <tr>\n",
       "      <th>8</th>\n",
       "      <td>David Warner</td>\n",
       "      <td>AUS</td>\n",
       "      <td>773</td>\n",
       "    </tr>\n",
       "    <tr>\n",
       "      <th>9</th>\n",
       "      <td>Shai Hope</td>\n",
       "      <td>WI</td>\n",
       "      <td>773</td>\n",
       "    </tr>\n",
       "  </tbody>\n",
       "</table>\n",
       "</div>"
      ],
      "text/plain": [
       "                  Name                     Team Rating\n",
       "0           Babar Azam  PAK                        865\n",
       "1          Virat Kohli                      IND    857\n",
       "2         Rohit Sharma                      IND    825\n",
       "3          Ross Taylor                       NZ    801\n",
       "4          Aaron Finch                      AUS    791\n",
       "5       Jonny Bairstow                      ENG    785\n",
       "6         Fakhar Zaman                      PAK    778\n",
       "7  Francois du Plessis                       SA    778\n",
       "8         David Warner                      AUS    773\n",
       "9            Shai Hope                       WI    773"
      ]
     },
     "execution_count": 67,
     "metadata": {},
     "output_type": "execute_result"
    }
   ],
   "source": [
    "Top_batsmen = pd.DataFrame({})\n",
    "Top_batsmen[\"Name\"] = top_men\n",
    "Top_batsmen[\"Team\"] = top_team\n",
    "Top_batsmen[\"Rating\"] = top_rate\n",
    "Top_batsmen"
   ]
  },
  {
   "cell_type": "markdown",
   "metadata": {},
   "source": [
    "###### iii) Top 10 ODI bowlers along with the records of their team and rating."
   ]
  },
  {
   "cell_type": "code",
   "execution_count": 68,
   "metadata": {},
   "outputs": [
    {
     "data": {
      "text/plain": [
       "<Response [200]>"
      ]
     },
     "execution_count": 68,
     "metadata": {},
     "output_type": "execute_result"
    }
   ],
   "source": [
    "page = requests.get(\"https://www.icc-cricket.com/rankings/mens/player-rankings/odi/bowling\")\n",
    "page"
   ]
  },
  {
   "cell_type": "code",
   "execution_count": 69,
   "metadata": {},
   "outputs": [],
   "source": [
    "soup = BeautifulSoup(page.content)"
   ]
  },
  {
   "cell_type": "code",
   "execution_count": 70,
   "metadata": {},
   "outputs": [
    {
     "data": {
      "text/plain": [
       "['Trent Boult']"
      ]
     },
     "execution_count": 70,
     "metadata": {},
     "output_type": "execute_result"
    }
   ],
   "source": [
    "nam = soup.find(\"div\",class_=\"rankings-block__banner--name-large\")\n",
    "name1 = []\n",
    "name1.append(nam.text.replace(\"\\n\",\"\"))\n",
    "name1"
   ]
  },
  {
   "cell_type": "code",
   "execution_count": 71,
   "metadata": {},
   "outputs": [
    {
     "data": {
      "text/plain": [
       "['Mehedi Hasan',\n",
       " 'Mujeeb Ur Rahman',\n",
       " 'Matt Henry',\n",
       " 'Jasprit Bumrah',\n",
       " 'Kagiso Rabada',\n",
       " 'Chris Woakes',\n",
       " 'Josh Hazlewood',\n",
       " 'Pat Cummins',\n",
       " 'Mustafizur Rahman']"
      ]
     },
     "execution_count": 71,
     "metadata": {},
     "output_type": "execute_result"
    }
   ],
   "source": [
    "name2 = soup.find_all(\"td\",class_=\"table-body__cell rankings-table__name name\")\n",
    "names2 = []\n",
    "for i in name2:\n",
    "    names2.append(i.text.replace(\"\\n\",\"\"))\n",
    "top_men = []\n",
    "for i in range(9):\n",
    "    top_men.append(names2[i])\n",
    "top_men"
   ]
  },
  {
   "cell_type": "code",
   "execution_count": 72,
   "metadata": {},
   "outputs": [
    {
     "data": {
      "text/plain": [
       "['Trent Boult',\n",
       " 'Mehedi Hasan',\n",
       " 'Mujeeb Ur Rahman',\n",
       " 'Matt Henry',\n",
       " 'Jasprit Bumrah',\n",
       " 'Kagiso Rabada',\n",
       " 'Chris Woakes',\n",
       " 'Josh Hazlewood',\n",
       " 'Pat Cummins',\n",
       " 'Mustafizur Rahman']"
      ]
     },
     "execution_count": 72,
     "metadata": {},
     "output_type": "execute_result"
    }
   ],
   "source": [
    "top_men.insert(0,name1[0])\n",
    "top_men"
   ]
  },
  {
   "cell_type": "code",
   "execution_count": 73,
   "metadata": {},
   "outputs": [
    {
     "data": {
      "text/plain": [
       "['NZ                    ']"
      ]
     },
     "execution_count": 73,
     "metadata": {},
     "output_type": "execute_result"
    }
   ],
   "source": [
    "team = soup.find(\"div\",class_=\"rankings-block__banner--nationality\")\n",
    "team1 = []\n",
    "team1.append(team.text.replace(\"\\n\",\"\"))\n",
    "team1"
   ]
  },
  {
   "cell_type": "code",
   "execution_count": 74,
   "metadata": {},
   "outputs": [
    {
     "data": {
      "text/plain": [
       "['BAN', 'AFG', 'NZ', 'IND', 'SA', 'ENG', 'AUS', 'AUS', 'BAN']"
      ]
     },
     "execution_count": 74,
     "metadata": {},
     "output_type": "execute_result"
    }
   ],
   "source": [
    "team2 = soup.find_all(\"span\",class_=\"table-body__logo-text\")\n",
    "teams = []\n",
    "for i in team2:\n",
    "    teams.append(i.text.replace(\"\\n\",\"\"))\n",
    "top_team = []\n",
    "for i in range(9):\n",
    "    top_team.append(teams[i])\n",
    "top_team"
   ]
  },
  {
   "cell_type": "code",
   "execution_count": 75,
   "metadata": {},
   "outputs": [
    {
     "data": {
      "text/plain": [
       "['NZ                    ',\n",
       " 'BAN',\n",
       " 'AFG',\n",
       " 'NZ',\n",
       " 'IND',\n",
       " 'SA',\n",
       " 'ENG',\n",
       " 'AUS',\n",
       " 'AUS',\n",
       " 'BAN']"
      ]
     },
     "execution_count": 75,
     "metadata": {},
     "output_type": "execute_result"
    }
   ],
   "source": [
    "top_team.insert(0,team1[0])\n",
    "top_team"
   ]
  },
  {
   "cell_type": "code",
   "execution_count": 76,
   "metadata": {},
   "outputs": [
    {
     "data": {
      "text/plain": [
       "['737']"
      ]
     },
     "execution_count": 76,
     "metadata": {},
     "output_type": "execute_result"
    }
   ],
   "source": [
    "rate = soup.find(\"div\",class_=\"rankings-block__banner--rating\")\n",
    "rate1 = []\n",
    "rate1.append(rate.text.replace(\"\\n\",\"\"))\n",
    "rate1"
   ]
  },
  {
   "cell_type": "code",
   "execution_count": 77,
   "metadata": {},
   "outputs": [
    {
     "data": {
      "text/plain": [
       "['713', '708', '691', '690', '666', '665', '660', '646', '645']"
      ]
     },
     "execution_count": 77,
     "metadata": {},
     "output_type": "execute_result"
    }
   ],
   "source": [
    "rate2 = soup.find_all(\"td\",class_=\"table-body__cell rating\")\n",
    "rating = []\n",
    "for i in rate2:\n",
    "    rating.append(i.text.replace(\"\\n\",\"\"))\n",
    "top_rate = []\n",
    "for i in range(9):\n",
    "    top_rate.append(rating[i])\n",
    "top_rate"
   ]
  },
  {
   "cell_type": "code",
   "execution_count": 78,
   "metadata": {},
   "outputs": [
    {
     "data": {
      "text/plain": [
       "['737', '713', '708', '691', '690', '666', '665', '660', '646', '645']"
      ]
     },
     "execution_count": 78,
     "metadata": {},
     "output_type": "execute_result"
    }
   ],
   "source": [
    "top_rate.insert(0,rate1[0])\n",
    "top_rate"
   ]
  },
  {
   "cell_type": "code",
   "execution_count": 79,
   "metadata": {},
   "outputs": [
    {
     "data": {
      "text/html": [
       "<div>\n",
       "<style scoped>\n",
       "    .dataframe tbody tr th:only-of-type {\n",
       "        vertical-align: middle;\n",
       "    }\n",
       "\n",
       "    .dataframe tbody tr th {\n",
       "        vertical-align: top;\n",
       "    }\n",
       "\n",
       "    .dataframe thead th {\n",
       "        text-align: right;\n",
       "    }\n",
       "</style>\n",
       "<table border=\"1\" class=\"dataframe\">\n",
       "  <thead>\n",
       "    <tr style=\"text-align: right;\">\n",
       "      <th></th>\n",
       "      <th>Name</th>\n",
       "      <th>Team</th>\n",
       "      <th>Rating</th>\n",
       "    </tr>\n",
       "  </thead>\n",
       "  <tbody>\n",
       "    <tr>\n",
       "      <th>0</th>\n",
       "      <td>Trent Boult</td>\n",
       "      <td>NZ</td>\n",
       "      <td>737</td>\n",
       "    </tr>\n",
       "    <tr>\n",
       "      <th>1</th>\n",
       "      <td>Mehedi Hasan</td>\n",
       "      <td>BAN</td>\n",
       "      <td>713</td>\n",
       "    </tr>\n",
       "    <tr>\n",
       "      <th>2</th>\n",
       "      <td>Mujeeb Ur Rahman</td>\n",
       "      <td>AFG</td>\n",
       "      <td>708</td>\n",
       "    </tr>\n",
       "    <tr>\n",
       "      <th>3</th>\n",
       "      <td>Matt Henry</td>\n",
       "      <td>NZ</td>\n",
       "      <td>691</td>\n",
       "    </tr>\n",
       "    <tr>\n",
       "      <th>4</th>\n",
       "      <td>Jasprit Bumrah</td>\n",
       "      <td>IND</td>\n",
       "      <td>690</td>\n",
       "    </tr>\n",
       "    <tr>\n",
       "      <th>5</th>\n",
       "      <td>Kagiso Rabada</td>\n",
       "      <td>SA</td>\n",
       "      <td>666</td>\n",
       "    </tr>\n",
       "    <tr>\n",
       "      <th>6</th>\n",
       "      <td>Chris Woakes</td>\n",
       "      <td>ENG</td>\n",
       "      <td>665</td>\n",
       "    </tr>\n",
       "    <tr>\n",
       "      <th>7</th>\n",
       "      <td>Josh Hazlewood</td>\n",
       "      <td>AUS</td>\n",
       "      <td>660</td>\n",
       "    </tr>\n",
       "    <tr>\n",
       "      <th>8</th>\n",
       "      <td>Pat Cummins</td>\n",
       "      <td>AUS</td>\n",
       "      <td>646</td>\n",
       "    </tr>\n",
       "    <tr>\n",
       "      <th>9</th>\n",
       "      <td>Mustafizur Rahman</td>\n",
       "      <td>BAN</td>\n",
       "      <td>645</td>\n",
       "    </tr>\n",
       "  </tbody>\n",
       "</table>\n",
       "</div>"
      ],
      "text/plain": [
       "                Name                    Team Rating\n",
       "0        Trent Boult  NZ                        737\n",
       "1       Mehedi Hasan                     BAN    713\n",
       "2   Mujeeb Ur Rahman                     AFG    708\n",
       "3         Matt Henry                      NZ    691\n",
       "4     Jasprit Bumrah                     IND    690\n",
       "5      Kagiso Rabada                      SA    666\n",
       "6       Chris Woakes                     ENG    665\n",
       "7     Josh Hazlewood                     AUS    660\n",
       "8        Pat Cummins                     AUS    646\n",
       "9  Mustafizur Rahman                     BAN    645"
      ]
     },
     "execution_count": 79,
     "metadata": {},
     "output_type": "execute_result"
    }
   ],
   "source": [
    "top_bowlers = pd.DataFrame({})\n",
    "top_bowlers[\"Name\"] = top_men\n",
    "top_bowlers[\"Team\"] = top_team\n",
    "top_bowlers[\"Rating\"] = top_rate\n",
    "top_bowlers"
   ]
  },
  {
   "cell_type": "markdown",
   "metadata": {},
   "source": [
    "######  Write a python program to scrape cricket rankings from ‘www.icc-cricket.com’. You have to scrape:\n",
    "###### i) Top 10 ODI teams in women’s cricket along with the records for matches, points and rating.\n",
    "###### ii) Top 10 women’s ODI players along with the records of their team and rating.\n",
    "###### iii) Top 10 women’s ODI all-rounder along with the records of their team and rating."
   ]
  },
  {
   "cell_type": "markdown",
   "metadata": {},
   "source": [
    "##### i) Top 10 ODI teams in women’s cricket along with the records for matches, points and rating."
   ]
  },
  {
   "cell_type": "code",
   "execution_count": 80,
   "metadata": {},
   "outputs": [
    {
     "data": {
      "text/plain": [
       "<Response [200]>"
      ]
     },
     "execution_count": 80,
     "metadata": {},
     "output_type": "execute_result"
    }
   ],
   "source": [
    "pages = requests.get(\"https://www.icc-cricket.com/rankings/womens/team-rankings/odi\")\n",
    "pages"
   ]
  },
  {
   "cell_type": "code",
   "execution_count": 81,
   "metadata": {},
   "outputs": [],
   "source": [
    "soup = BeautifulSoup(pages.content)"
   ]
  },
  {
   "cell_type": "code",
   "execution_count": 82,
   "metadata": {},
   "outputs": [
    {
     "data": {
      "text/plain": [
       "['Australia',\n",
       " 'South Africa',\n",
       " 'England',\n",
       " 'India',\n",
       " 'New Zealand',\n",
       " 'West Indies',\n",
       " 'Pakistan',\n",
       " 'Bangladesh',\n",
       " 'Sri Lanka',\n",
       " 'Ireland']"
      ]
     },
     "execution_count": 82,
     "metadata": {},
     "output_type": "execute_result"
    }
   ],
   "source": [
    "team = soup.find_all(\"span\",class_=\"u-hide-phablet\")\n",
    "team1 = []\n",
    "for i in team:\n",
    "    team1.append(i.text.replace(\"\\n\",\"\"))\n",
    "top_team = []\n",
    "for i in range(10):\n",
    "    top_team.append(team1[i])\n",
    "top_team"
   ]
  },
  {
   "cell_type": "code",
   "execution_count": 83,
   "metadata": {},
   "outputs": [
    {
     "data": {
      "text/plain": [
       "['18']"
      ]
     },
     "execution_count": 83,
     "metadata": {},
     "output_type": "execute_result"
    }
   ],
   "source": [
    "match_1 = soup.find(\"td\",class_=\"rankings-block__banner--matches\")\n",
    "match1 = []\n",
    "match1.append(match_1.text.replace(\"\\n\",\"\"))\n",
    "match1"
   ]
  },
  {
   "cell_type": "code",
   "execution_count": 84,
   "metadata": {},
   "outputs": [
    {
     "data": {
      "text/plain": [
       "['24', '17', '20', '21', '12', '15', '5', '11', '2']"
      ]
     },
     "execution_count": 84,
     "metadata": {},
     "output_type": "execute_result"
    }
   ],
   "source": [
    "matches = soup.find_all(\"td\",class_=\"table-body__cell u-center-text\")\n",
    "matches1 = []\n",
    "for i in matches:\n",
    "    matches1.append(i.text.replace(\"\\n\",\"\"))\n",
    "top_match = []\n",
    "for i in range(0,18,2):\n",
    "    top_match.append(matches1[i])\n",
    "top_match"
   ]
  },
  {
   "cell_type": "code",
   "execution_count": 85,
   "metadata": {},
   "outputs": [
    {
     "data": {
      "text/plain": [
       "['18', '24', '17', '20', '21', '12', '15', '5', '11', '2']"
      ]
     },
     "execution_count": 85,
     "metadata": {},
     "output_type": "execute_result"
    }
   ],
   "source": [
    "top_match.insert(0,match1[0])\n",
    "top_match"
   ]
  },
  {
   "cell_type": "code",
   "execution_count": 86,
   "metadata": {},
   "outputs": [
    {
     "data": {
      "text/plain": [
       "['2,955']"
      ]
     },
     "execution_count": 86,
     "metadata": {},
     "output_type": "execute_result"
    }
   ],
   "source": [
    "point_1 = soup.find(\"td\",class_=\"rankings-block__banner--points\")\n",
    "point1 = []\n",
    "point1.append(point_1.text.replace(\"\\n\",\"\"))\n",
    "point1"
   ]
  },
  {
   "cell_type": "code",
   "execution_count": 87,
   "metadata": {},
   "outputs": [
    {
     "data": {
      "text/plain": [
       "['2,828', '1,993', '2,226', '1,947', '1,025', '1,101', '306', '519', '25']"
      ]
     },
     "execution_count": 87,
     "metadata": {},
     "output_type": "execute_result"
    }
   ],
   "source": [
    "points = soup.find_all(\"td\",class_=\"table-body__cell u-center-text\")\n",
    "points1 = []\n",
    "for i in points:\n",
    "    points1.append(i.text.replace(\"\\n\",\"\"))\n",
    "top_point = []\n",
    "for i in range(1,18,2):\n",
    "    top_point.append(points1[i])\n",
    "top_point"
   ]
  },
  {
   "cell_type": "code",
   "execution_count": 88,
   "metadata": {},
   "outputs": [
    {
     "data": {
      "text/plain": [
       "['2,955',\n",
       " '2,828',\n",
       " '1,993',\n",
       " '2,226',\n",
       " '1,947',\n",
       " '1,025',\n",
       " '1,101',\n",
       " '306',\n",
       " '519',\n",
       " '25']"
      ]
     },
     "execution_count": 88,
     "metadata": {},
     "output_type": "execute_result"
    }
   ],
   "source": [
    "top_point.insert(0,point1[0])\n",
    "top_point"
   ]
  },
  {
   "cell_type": "code",
   "execution_count": 89,
   "metadata": {},
   "outputs": [
    {
     "data": {
      "text/plain": [
       "['                            164                            ']"
      ]
     },
     "execution_count": 89,
     "metadata": {},
     "output_type": "execute_result"
    }
   ],
   "source": [
    "rate = soup.find(\"td\",class_=\"rankings-block__banner--rating u-text-right\")\n",
    "rate1 = []\n",
    "rate1.append(rate.text.replace(\"\\n\",\"\"))\n",
    "rate1"
   ]
  },
  {
   "cell_type": "code",
   "execution_count": 90,
   "metadata": {},
   "outputs": [
    {
     "data": {
      "text/plain": [
       "['118', '117', '111', '93', '85', '73', '61', '47', '13']"
      ]
     },
     "execution_count": 90,
     "metadata": {},
     "output_type": "execute_result"
    }
   ],
   "source": [
    "rati = soup.find_all(\"td\",class_=\"table-body__cell u-text-right rating\")\n",
    "rating = []\n",
    "for i in rati:\n",
    "    rating.append(i.text.replace(\"\\n\",\"\"))\n",
    "top_rate = []\n",
    "for i in range(9):\n",
    "    top_rate.append(rating[i])\n",
    "top_rate"
   ]
  },
  {
   "cell_type": "code",
   "execution_count": 91,
   "metadata": {},
   "outputs": [
    {
     "data": {
      "text/plain": [
       "['                            164                            ',\n",
       " '118',\n",
       " '117',\n",
       " '111',\n",
       " '93',\n",
       " '85',\n",
       " '73',\n",
       " '61',\n",
       " '47',\n",
       " '13']"
      ]
     },
     "execution_count": 91,
     "metadata": {},
     "output_type": "execute_result"
    }
   ],
   "source": [
    "top_rate.insert(0,rate1[0])\n",
    "top_rate"
   ]
  },
  {
   "cell_type": "code",
   "execution_count": 92,
   "metadata": {},
   "outputs": [
    {
     "data": {
      "text/html": [
       "<div>\n",
       "<style scoped>\n",
       "    .dataframe tbody tr th:only-of-type {\n",
       "        vertical-align: middle;\n",
       "    }\n",
       "\n",
       "    .dataframe tbody tr th {\n",
       "        vertical-align: top;\n",
       "    }\n",
       "\n",
       "    .dataframe thead th {\n",
       "        text-align: right;\n",
       "    }\n",
       "</style>\n",
       "<table border=\"1\" class=\"dataframe\">\n",
       "  <thead>\n",
       "    <tr style=\"text-align: right;\">\n",
       "      <th></th>\n",
       "      <th>Teams</th>\n",
       "      <th>Matches</th>\n",
       "      <th>Points</th>\n",
       "      <th>Rating</th>\n",
       "    </tr>\n",
       "  </thead>\n",
       "  <tbody>\n",
       "    <tr>\n",
       "      <th>0</th>\n",
       "      <td>Australia</td>\n",
       "      <td>18</td>\n",
       "      <td>2,955</td>\n",
       "      <td>164               ...</td>\n",
       "    </tr>\n",
       "    <tr>\n",
       "      <th>1</th>\n",
       "      <td>South Africa</td>\n",
       "      <td>24</td>\n",
       "      <td>2,828</td>\n",
       "      <td>118</td>\n",
       "    </tr>\n",
       "    <tr>\n",
       "      <th>2</th>\n",
       "      <td>England</td>\n",
       "      <td>17</td>\n",
       "      <td>1,993</td>\n",
       "      <td>117</td>\n",
       "    </tr>\n",
       "    <tr>\n",
       "      <th>3</th>\n",
       "      <td>India</td>\n",
       "      <td>20</td>\n",
       "      <td>2,226</td>\n",
       "      <td>111</td>\n",
       "    </tr>\n",
       "    <tr>\n",
       "      <th>4</th>\n",
       "      <td>New Zealand</td>\n",
       "      <td>21</td>\n",
       "      <td>1,947</td>\n",
       "      <td>93</td>\n",
       "    </tr>\n",
       "    <tr>\n",
       "      <th>5</th>\n",
       "      <td>West Indies</td>\n",
       "      <td>12</td>\n",
       "      <td>1,025</td>\n",
       "      <td>85</td>\n",
       "    </tr>\n",
       "    <tr>\n",
       "      <th>6</th>\n",
       "      <td>Pakistan</td>\n",
       "      <td>15</td>\n",
       "      <td>1,101</td>\n",
       "      <td>73</td>\n",
       "    </tr>\n",
       "    <tr>\n",
       "      <th>7</th>\n",
       "      <td>Bangladesh</td>\n",
       "      <td>5</td>\n",
       "      <td>306</td>\n",
       "      <td>61</td>\n",
       "    </tr>\n",
       "    <tr>\n",
       "      <th>8</th>\n",
       "      <td>Sri Lanka</td>\n",
       "      <td>11</td>\n",
       "      <td>519</td>\n",
       "      <td>47</td>\n",
       "    </tr>\n",
       "    <tr>\n",
       "      <th>9</th>\n",
       "      <td>Ireland</td>\n",
       "      <td>2</td>\n",
       "      <td>25</td>\n",
       "      <td>13</td>\n",
       "    </tr>\n",
       "  </tbody>\n",
       "</table>\n",
       "</div>"
      ],
      "text/plain": [
       "          Teams Matches Points  \\\n",
       "0     Australia      18  2,955   \n",
       "1  South Africa      24  2,828   \n",
       "2       England      17  1,993   \n",
       "3         India      20  2,226   \n",
       "4   New Zealand      21  1,947   \n",
       "5   West Indies      12  1,025   \n",
       "6      Pakistan      15  1,101   \n",
       "7    Bangladesh       5    306   \n",
       "8     Sri Lanka      11    519   \n",
       "9       Ireland       2     25   \n",
       "\n",
       "                                              Rating  \n",
       "0                              164               ...  \n",
       "1                                                118  \n",
       "2                                                117  \n",
       "3                                                111  \n",
       "4                                                 93  \n",
       "5                                                 85  \n",
       "6                                                 73  \n",
       "7                                                 61  \n",
       "8                                                 47  \n",
       "9                                                 13  "
      ]
     },
     "execution_count": 92,
     "metadata": {},
     "output_type": "execute_result"
    }
   ],
   "source": [
    "import pandas as pd\n",
    "top_ODI_teams = pd.DataFrame({})\n",
    "top_ODI_teams[\"Teams\"] = top_team\n",
    "top_ODI_teams[\"Matches\"] = top_match\n",
    "top_ODI_teams[\"Points\"] = top_point\n",
    "top_ODI_teams[\"Rating\"] = top_rate\n",
    "top_ODI_teams"
   ]
  },
  {
   "cell_type": "markdown",
   "metadata": {},
   "source": [
    "###### ii)Top 10 women’s ODI players along with the records of their team and rating"
   ]
  },
  {
   "cell_type": "code",
   "execution_count": 115,
   "metadata": {},
   "outputs": [
    {
     "data": {
      "text/plain": [
       "<Response [200]>"
      ]
     },
     "execution_count": 115,
     "metadata": {},
     "output_type": "execute_result"
    }
   ],
   "source": [
    "womenpages = requests.get(\"https://www.icc-cricket.com/rankings/womens/player-rankings/odi/batting\")\n",
    "womenpages"
   ]
  },
  {
   "cell_type": "code",
   "execution_count": 116,
   "metadata": {},
   "outputs": [],
   "source": [
    "soup = BeautifulSoup(womenpages.content)"
   ]
  },
  {
   "cell_type": "code",
   "execution_count": 117,
   "metadata": {},
   "outputs": [
    {
     "data": {
      "text/plain": [
       "['Tammy Beaumont']"
      ]
     },
     "execution_count": 117,
     "metadata": {},
     "output_type": "execute_result"
    }
   ],
   "source": [
    "womenname1 = soup.find(\"div\",class_=\"rankings-block__banner--name-large\")\n",
    "womenname1\n",
    "womenname = []\n",
    "womenname.append(womenname1.text.replace(\"\\n\",\"\"))\n",
    "womenname"
   ]
  },
  {
   "cell_type": "code",
   "execution_count": 118,
   "metadata": {},
   "outputs": [],
   "source": [
    "names = soup.find_all(\"td\",class_=\"table-body__cell rankings-table__name name\")"
   ]
  },
  {
   "cell_type": "code",
   "execution_count": 119,
   "metadata": {},
   "outputs": [
    {
     "data": {
      "text/plain": [
       "['Lizelle Lee',\n",
       " 'Alyssa Healy',\n",
       " 'Stafanie Taylor',\n",
       " 'Meg Lanning',\n",
       " 'Amy Satterthwaite',\n",
       " 'Smriti Mandhana',\n",
       " 'Mithali Raj',\n",
       " 'Natalie Sciver',\n",
       " 'Laura Wolvaardt']"
      ]
     },
     "execution_count": 119,
     "metadata": {},
     "output_type": "execute_result"
    }
   ],
   "source": [
    "names1 = []\n",
    "for i in names:\n",
    "    names1.append(i.text.replace(\"\\n\",\"\"))\n",
    "top_name = []\n",
    "for i in range(9):\n",
    "    top_name.append(names1[i])\n",
    "top_name"
   ]
  },
  {
   "cell_type": "code",
   "execution_count": 120,
   "metadata": {},
   "outputs": [
    {
     "data": {
      "text/plain": [
       "['Tammy Beaumont',\n",
       " 'Lizelle Lee',\n",
       " 'Alyssa Healy',\n",
       " 'Stafanie Taylor',\n",
       " 'Meg Lanning',\n",
       " 'Amy Satterthwaite',\n",
       " 'Smriti Mandhana',\n",
       " 'Mithali Raj',\n",
       " 'Natalie Sciver',\n",
       " 'Laura Wolvaardt']"
      ]
     },
     "execution_count": 120,
     "metadata": {},
     "output_type": "execute_result"
    }
   ],
   "source": [
    "top_name.insert(0,womenname[0])\n",
    "top_name"
   ]
  },
  {
   "cell_type": "code",
   "execution_count": 121,
   "metadata": {},
   "outputs": [
    {
     "data": {
      "text/plain": [
       "['ENG                    ']"
      ]
     },
     "execution_count": 121,
     "metadata": {},
     "output_type": "execute_result"
    }
   ],
   "source": [
    "team = soup.find(\"div\",class_=\"rankings-block__banner--nationality\")\n",
    "team1 = []\n",
    "team1.append(team.text.replace(\"\\n\",\"\"))\n",
    "team1"
   ]
  },
  {
   "cell_type": "code",
   "execution_count": 122,
   "metadata": {},
   "outputs": [
    {
     "data": {
      "text/plain": [
       "['SA', 'AUS', 'WI', 'AUS', 'NZ', 'IND', 'IND', 'ENG', 'SA']"
      ]
     },
     "execution_count": 122,
     "metadata": {},
     "output_type": "execute_result"
    }
   ],
   "source": [
    "teams = soup.find_all(\"span\",class_=\"table-body__logo-text\")\n",
    "teams1 = []\n",
    "for i in teams:\n",
    "    teams1.append(i.text.replace(\"\\n\",\"\"))\n",
    "top_team = []\n",
    "for i in range(9):\n",
    "    top_team.append(teams1[i])\n",
    "top_team"
   ]
  },
  {
   "cell_type": "code",
   "execution_count": 123,
   "metadata": {},
   "outputs": [
    {
     "data": {
      "text/plain": [
       "['ENG                    ',\n",
       " 'SA',\n",
       " 'AUS',\n",
       " 'WI',\n",
       " 'AUS',\n",
       " 'NZ',\n",
       " 'IND',\n",
       " 'IND',\n",
       " 'ENG',\n",
       " 'SA']"
      ]
     },
     "execution_count": 123,
     "metadata": {},
     "output_type": "execute_result"
    }
   ],
   "source": [
    "top_team.insert(0,team1[0])\n",
    "top_team"
   ]
  },
  {
   "cell_type": "code",
   "execution_count": 124,
   "metadata": {},
   "outputs": [
    {
     "data": {
      "text/plain": [
       "['765']"
      ]
     },
     "execution_count": 124,
     "metadata": {},
     "output_type": "execute_result"
    }
   ],
   "source": [
    "rate = soup.find(\"div\",class_=\"rankings-block__banner--rating\")\n",
    "rate1 = []\n",
    "rate1.append(rate.text.replace(\"\\n\",\"\"))\n",
    "rate1"
   ]
  },
  {
   "cell_type": "code",
   "execution_count": 125,
   "metadata": {},
   "outputs": [
    {
     "data": {
      "text/plain": [
       "['758', '756', '746', '723', '715', '710', '709', '685', '683']"
      ]
     },
     "execution_count": 125,
     "metadata": {},
     "output_type": "execute_result"
    }
   ],
   "source": [
    "rating = soup.find_all(\"td\",class_=\"table-body__cell rating\")\n",
    "ratings = []\n",
    "for i in rating:\n",
    "    ratings.append(i.text.replace(\"\\n\",\"\"))\n",
    "top_rating = []\n",
    "for j in range(9):\n",
    "    top_rating.append(ratings[j])\n",
    "top_rating"
   ]
  },
  {
   "cell_type": "code",
   "execution_count": 126,
   "metadata": {},
   "outputs": [
    {
     "data": {
      "text/plain": [
       "['765', '758', '756', '746', '723', '715', '710', '709', '685', '683']"
      ]
     },
     "execution_count": 126,
     "metadata": {},
     "output_type": "execute_result"
    }
   ],
   "source": [
    "top_rating.insert(0,rate1[0])\n",
    "top_rating"
   ]
  },
  {
   "cell_type": "code",
   "execution_count": 127,
   "metadata": {},
   "outputs": [
    {
     "data": {
      "text/html": [
       "<div>\n",
       "<style scoped>\n",
       "    .dataframe tbody tr th:only-of-type {\n",
       "        vertical-align: middle;\n",
       "    }\n",
       "\n",
       "    .dataframe tbody tr th {\n",
       "        vertical-align: top;\n",
       "    }\n",
       "\n",
       "    .dataframe thead th {\n",
       "        text-align: right;\n",
       "    }\n",
       "</style>\n",
       "<table border=\"1\" class=\"dataframe\">\n",
       "  <thead>\n",
       "    <tr style=\"text-align: right;\">\n",
       "      <th></th>\n",
       "      <th>Name</th>\n",
       "      <th>Team</th>\n",
       "      <th>Rating</th>\n",
       "    </tr>\n",
       "  </thead>\n",
       "  <tbody>\n",
       "    <tr>\n",
       "      <th>0</th>\n",
       "      <td>Tammy Beaumont</td>\n",
       "      <td>ENG</td>\n",
       "      <td>765</td>\n",
       "    </tr>\n",
       "    <tr>\n",
       "      <th>1</th>\n",
       "      <td>Lizelle Lee</td>\n",
       "      <td>SA</td>\n",
       "      <td>758</td>\n",
       "    </tr>\n",
       "    <tr>\n",
       "      <th>2</th>\n",
       "      <td>Alyssa Healy</td>\n",
       "      <td>AUS</td>\n",
       "      <td>756</td>\n",
       "    </tr>\n",
       "    <tr>\n",
       "      <th>3</th>\n",
       "      <td>Stafanie Taylor</td>\n",
       "      <td>WI</td>\n",
       "      <td>746</td>\n",
       "    </tr>\n",
       "    <tr>\n",
       "      <th>4</th>\n",
       "      <td>Meg Lanning</td>\n",
       "      <td>AUS</td>\n",
       "      <td>723</td>\n",
       "    </tr>\n",
       "    <tr>\n",
       "      <th>5</th>\n",
       "      <td>Amy Satterthwaite</td>\n",
       "      <td>NZ</td>\n",
       "      <td>715</td>\n",
       "    </tr>\n",
       "    <tr>\n",
       "      <th>6</th>\n",
       "      <td>Smriti Mandhana</td>\n",
       "      <td>IND</td>\n",
       "      <td>710</td>\n",
       "    </tr>\n",
       "    <tr>\n",
       "      <th>7</th>\n",
       "      <td>Mithali Raj</td>\n",
       "      <td>IND</td>\n",
       "      <td>709</td>\n",
       "    </tr>\n",
       "    <tr>\n",
       "      <th>8</th>\n",
       "      <td>Natalie Sciver</td>\n",
       "      <td>ENG</td>\n",
       "      <td>685</td>\n",
       "    </tr>\n",
       "    <tr>\n",
       "      <th>9</th>\n",
       "      <td>Laura Wolvaardt</td>\n",
       "      <td>SA</td>\n",
       "      <td>683</td>\n",
       "    </tr>\n",
       "  </tbody>\n",
       "</table>\n",
       "</div>"
      ],
      "text/plain": [
       "                Name                     Team Rating\n",
       "0     Tammy Beaumont  ENG                        765\n",
       "1        Lizelle Lee                       SA    758\n",
       "2       Alyssa Healy                      AUS    756\n",
       "3    Stafanie Taylor                       WI    746\n",
       "4        Meg Lanning                      AUS    723\n",
       "5  Amy Satterthwaite                       NZ    715\n",
       "6    Smriti Mandhana                      IND    710\n",
       "7        Mithali Raj                      IND    709\n",
       "8     Natalie Sciver                      ENG    685\n",
       "9    Laura Wolvaardt                       SA    683"
      ]
     },
     "execution_count": 127,
     "metadata": {},
     "output_type": "execute_result"
    }
   ],
   "source": [
    "top_players = pd.DataFrame({})\n",
    "top_players[\"Name\"] = top_name\n",
    "top_players[\"Team\"] = top_team\n",
    "top_players[\"Rating\"] = top_rating\n",
    "top_players"
   ]
  },
  {
   "cell_type": "markdown",
   "metadata": {},
   "source": [
    "##### iii)Top 10 women’s ODI all-rounder along with the records of their team and rating."
   ]
  },
  {
   "cell_type": "code",
   "execution_count": 128,
   "metadata": {},
   "outputs": [
    {
     "data": {
      "text/plain": [
       "<Response [200]>"
      ]
     },
     "execution_count": 128,
     "metadata": {},
     "output_type": "execute_result"
    }
   ],
   "source": [
    "all_rounder_page = requests.get(\"https://www.icc-cricket.com/rankings/womens/player-rankings/odi/all-rounder\")\n",
    "all_rounder_page"
   ]
  },
  {
   "cell_type": "code",
   "execution_count": 129,
   "metadata": {},
   "outputs": [],
   "source": [
    "soup = BeautifulSoup(all_rounder_page.content)"
   ]
  },
  {
   "cell_type": "code",
   "execution_count": 130,
   "metadata": {},
   "outputs": [
    {
     "data": {
      "text/plain": [
       "['Marizanne Kapp']"
      ]
     },
     "execution_count": 130,
     "metadata": {},
     "output_type": "execute_result"
    }
   ],
   "source": [
    "womenname1 = soup.find(\"div\",class_=\"rankings-block__banner--name-large\")\n",
    "womenname1\n",
    "womenname = []\n",
    "womenname.append(womenname1.text.replace(\"\\n\",\"\"))\n",
    "womenname"
   ]
  },
  {
   "cell_type": "code",
   "execution_count": 131,
   "metadata": {},
   "outputs": [],
   "source": [
    "names = soup.find_all(\"td\",class_=\"table-body__cell rankings-table__name name\")"
   ]
  },
  {
   "cell_type": "code",
   "execution_count": 132,
   "metadata": {},
   "outputs": [
    {
     "data": {
      "text/plain": [
       "['Ellyse Perry',\n",
       " 'Stafanie Taylor',\n",
       " 'Natalie Sciver',\n",
       " 'Deepti Sharma',\n",
       " 'Jess Jonassen',\n",
       " 'Ashleigh Gardner',\n",
       " 'Dane van Niekerk',\n",
       " 'Sophie Devine',\n",
       " 'Amelia Kerr']"
      ]
     },
     "execution_count": 132,
     "metadata": {},
     "output_type": "execute_result"
    }
   ],
   "source": [
    "names1 = []\n",
    "for i in names:\n",
    "    names1.append(i.text.replace(\"\\n\",\"\"))\n",
    "top_name = []\n",
    "for i in range(9):\n",
    "    top_name.append(names1[i])\n",
    "top_name"
   ]
  },
  {
   "cell_type": "code",
   "execution_count": 133,
   "metadata": {},
   "outputs": [
    {
     "data": {
      "text/plain": [
       "['Marizanne Kapp',\n",
       " 'Ellyse Perry',\n",
       " 'Stafanie Taylor',\n",
       " 'Natalie Sciver',\n",
       " 'Deepti Sharma',\n",
       " 'Jess Jonassen',\n",
       " 'Ashleigh Gardner',\n",
       " 'Dane van Niekerk',\n",
       " 'Sophie Devine',\n",
       " 'Amelia Kerr']"
      ]
     },
     "execution_count": 133,
     "metadata": {},
     "output_type": "execute_result"
    }
   ],
   "source": [
    "top_name.insert(0,womenname[0])\n",
    "top_name"
   ]
  },
  {
   "cell_type": "code",
   "execution_count": 134,
   "metadata": {},
   "outputs": [
    {
     "data": {
      "text/plain": [
       "['SA                    ']"
      ]
     },
     "execution_count": 134,
     "metadata": {},
     "output_type": "execute_result"
    }
   ],
   "source": [
    "team = soup.find(\"div\",class_=\"rankings-block__banner--nationality\")\n",
    "team1 = []\n",
    "team1.append(team.text.replace(\"\\n\",\"\"))\n",
    "team1"
   ]
  },
  {
   "cell_type": "code",
   "execution_count": 135,
   "metadata": {},
   "outputs": [
    {
     "data": {
      "text/plain": [
       "['AUS', 'WI', 'ENG', 'IND', 'AUS', 'AUS', 'SA', 'NZ', 'NZ']"
      ]
     },
     "execution_count": 135,
     "metadata": {},
     "output_type": "execute_result"
    }
   ],
   "source": [
    "teams = soup.find_all(\"span\",class_=\"table-body__logo-text\")\n",
    "teams1 = []\n",
    "for i in teams:\n",
    "    teams1.append(i.text.replace(\"\\n\",\"\"))\n",
    "top_team = []\n",
    "for i in range(9):\n",
    "    top_team.append(teams1[i])\n",
    "top_team"
   ]
  },
  {
   "cell_type": "code",
   "execution_count": 136,
   "metadata": {},
   "outputs": [
    {
     "data": {
      "text/plain": [
       "['SA                    ',\n",
       " 'AUS',\n",
       " 'WI',\n",
       " 'ENG',\n",
       " 'IND',\n",
       " 'AUS',\n",
       " 'AUS',\n",
       " 'SA',\n",
       " 'NZ',\n",
       " 'NZ']"
      ]
     },
     "execution_count": 136,
     "metadata": {},
     "output_type": "execute_result"
    }
   ],
   "source": [
    "top_team.insert(0,team1[0])\n",
    "top_team"
   ]
  },
  {
   "cell_type": "code",
   "execution_count": 137,
   "metadata": {},
   "outputs": [
    {
     "data": {
      "text/plain": [
       "['418']"
      ]
     },
     "execution_count": 137,
     "metadata": {},
     "output_type": "execute_result"
    }
   ],
   "source": [
    "rate = soup.find(\"div\",class_=\"rankings-block__banner--rating\")\n",
    "rate1 = []\n",
    "rate1.append(rate.text.replace(\"\\n\",\"\"))\n",
    "rate1"
   ]
  },
  {
   "cell_type": "code",
   "execution_count": 138,
   "metadata": {},
   "outputs": [
    {
     "data": {
      "text/plain": [
       "['418', '410', '349', '343', '307', '252', '243', '242', '236']"
      ]
     },
     "execution_count": 138,
     "metadata": {},
     "output_type": "execute_result"
    }
   ],
   "source": [
    "rating = soup.find_all(\"td\",class_=\"table-body__cell rating\")\n",
    "ratings = []\n",
    "for i in rating:\n",
    "    ratings.append(i.text.replace(\"\\n\",\"\"))\n",
    "top_rating = []\n",
    "for j in range(9):\n",
    "    top_rating.append(ratings[j])\n",
    "top_rating"
   ]
  },
  {
   "cell_type": "code",
   "execution_count": 139,
   "metadata": {},
   "outputs": [
    {
     "data": {
      "text/plain": [
       "['418', '418', '410', '349', '343', '307', '252', '243', '242', '236']"
      ]
     },
     "execution_count": 139,
     "metadata": {},
     "output_type": "execute_result"
    }
   ],
   "source": [
    "top_rating.insert(0,rate1[0])\n",
    "top_rating"
   ]
  },
  {
   "cell_type": "code",
   "execution_count": 140,
   "metadata": {},
   "outputs": [
    {
     "data": {
      "text/html": [
       "<div>\n",
       "<style scoped>\n",
       "    .dataframe tbody tr th:only-of-type {\n",
       "        vertical-align: middle;\n",
       "    }\n",
       "\n",
       "    .dataframe tbody tr th {\n",
       "        vertical-align: top;\n",
       "    }\n",
       "\n",
       "    .dataframe thead th {\n",
       "        text-align: right;\n",
       "    }\n",
       "</style>\n",
       "<table border=\"1\" class=\"dataframe\">\n",
       "  <thead>\n",
       "    <tr style=\"text-align: right;\">\n",
       "      <th></th>\n",
       "      <th>Name</th>\n",
       "      <th>Team</th>\n",
       "      <th>Rating</th>\n",
       "    </tr>\n",
       "  </thead>\n",
       "  <tbody>\n",
       "    <tr>\n",
       "      <th>0</th>\n",
       "      <td>Marizanne Kapp</td>\n",
       "      <td>SA</td>\n",
       "      <td>418</td>\n",
       "    </tr>\n",
       "    <tr>\n",
       "      <th>1</th>\n",
       "      <td>Ellyse Perry</td>\n",
       "      <td>AUS</td>\n",
       "      <td>418</td>\n",
       "    </tr>\n",
       "    <tr>\n",
       "      <th>2</th>\n",
       "      <td>Stafanie Taylor</td>\n",
       "      <td>WI</td>\n",
       "      <td>410</td>\n",
       "    </tr>\n",
       "    <tr>\n",
       "      <th>3</th>\n",
       "      <td>Natalie Sciver</td>\n",
       "      <td>ENG</td>\n",
       "      <td>349</td>\n",
       "    </tr>\n",
       "    <tr>\n",
       "      <th>4</th>\n",
       "      <td>Deepti Sharma</td>\n",
       "      <td>IND</td>\n",
       "      <td>343</td>\n",
       "    </tr>\n",
       "    <tr>\n",
       "      <th>5</th>\n",
       "      <td>Jess Jonassen</td>\n",
       "      <td>AUS</td>\n",
       "      <td>307</td>\n",
       "    </tr>\n",
       "    <tr>\n",
       "      <th>6</th>\n",
       "      <td>Ashleigh Gardner</td>\n",
       "      <td>AUS</td>\n",
       "      <td>252</td>\n",
       "    </tr>\n",
       "    <tr>\n",
       "      <th>7</th>\n",
       "      <td>Dane van Niekerk</td>\n",
       "      <td>SA</td>\n",
       "      <td>243</td>\n",
       "    </tr>\n",
       "    <tr>\n",
       "      <th>8</th>\n",
       "      <td>Sophie Devine</td>\n",
       "      <td>NZ</td>\n",
       "      <td>242</td>\n",
       "    </tr>\n",
       "    <tr>\n",
       "      <th>9</th>\n",
       "      <td>Amelia Kerr</td>\n",
       "      <td>NZ</td>\n",
       "      <td>236</td>\n",
       "    </tr>\n",
       "  </tbody>\n",
       "</table>\n",
       "</div>"
      ],
      "text/plain": [
       "               Name                    Team Rating\n",
       "0    Marizanne Kapp  SA                        418\n",
       "1      Ellyse Perry                     AUS    418\n",
       "2   Stafanie Taylor                      WI    410\n",
       "3    Natalie Sciver                     ENG    349\n",
       "4     Deepti Sharma                     IND    343\n",
       "5     Jess Jonassen                     AUS    307\n",
       "6  Ashleigh Gardner                     AUS    252\n",
       "7  Dane van Niekerk                      SA    243\n",
       "8     Sophie Devine                      NZ    242\n",
       "9       Amelia Kerr                      NZ    236"
      ]
     },
     "execution_count": 140,
     "metadata": {},
     "output_type": "execute_result"
    }
   ],
   "source": [
    "top_players = pd.DataFrame({})\n",
    "top_players[\"Name\"] = top_name\n",
    "top_players[\"Team\"] = top_team\n",
    "top_players[\"Rating\"] = top_rating\n",
    "top_players"
   ]
  },
  {
   "cell_type": "markdown",
   "metadata": {},
   "source": [
    "##### Write a python program to scrape details of all the mobile phones under Rs. 20,000 listed on Amazon.in. The scraped data should include Product Name, Price, Image URL and Average Rating."
   ]
  },
  {
   "cell_type": "code",
   "execution_count": 141,
   "metadata": {},
   "outputs": [
    {
     "data": {
      "text/plain": [
       "<Response [503]>"
      ]
     },
     "execution_count": 141,
     "metadata": {},
     "output_type": "execute_result"
    }
   ],
   "source": [
    "pages = requests.get(\"https://www.amazon.in/s?k=mobile+phones+under+20000+rupees&crid=240E84ME0L06&sprefix=mobile+phones+under+20000%2Caps%2C310&ref=nb_sb_ss_ts-doa-p_2_25\")\n",
    "pages"
   ]
  },
  {
   "cell_type": "code",
   "execution_count": 142,
   "metadata": {},
   "outputs": [],
   "source": [
    "#Since the response is 503, it is not able to scrape the amazon website using BeautifulSoup"
   ]
  },
  {
   "cell_type": "code",
   "execution_count": 143,
   "metadata": {},
   "outputs": [],
   "source": [
    "soup = BeautifulSoup(pages.content)"
   ]
  },
  {
   "cell_type": "code",
   "execution_count": 144,
   "metadata": {},
   "outputs": [
    {
     "data": {
      "text/plain": [
       "[]"
      ]
     },
     "execution_count": 144,
     "metadata": {},
     "output_type": "execute_result"
    }
   ],
   "source": [
    "name = soup.find_all(\"span\",class_=\"a-size-medium a-color-base a-text-normal\")\n",
    "name"
   ]
  },
  {
   "cell_type": "code",
   "execution_count": 145,
   "metadata": {},
   "outputs": [
    {
     "data": {
      "text/plain": [
       "[]"
      ]
     },
     "execution_count": 145,
     "metadata": {},
     "output_type": "execute_result"
    }
   ],
   "source": [
    "names = []\n",
    "for i in name:\n",
    "    names.append(i.text.replace(\"\\n\",\"\"))\n",
    "names"
   ]
  },
  {
   "cell_type": "code",
   "execution_count": 146,
   "metadata": {},
   "outputs": [
    {
     "data": {
      "text/plain": [
       "[]"
      ]
     },
     "execution_count": 146,
     "metadata": {},
     "output_type": "execute_result"
    }
   ],
   "source": [
    "price = soup.find_all(\"span\",class_=\"a-price-whole\")\n",
    "price"
   ]
  },
  {
   "cell_type": "code",
   "execution_count": 147,
   "metadata": {},
   "outputs": [
    {
     "data": {
      "text/plain": [
       "[]"
      ]
     },
     "execution_count": 147,
     "metadata": {},
     "output_type": "execute_result"
    }
   ],
   "source": [
    "img = soup.find_all(\"img\",class_=\"s-image\")\n",
    "image = []\n",
    "for i in img:\n",
    "    image.append(i['src'])\n",
    "image"
   ]
  },
  {
   "cell_type": "code",
   "execution_count": 148,
   "metadata": {},
   "outputs": [],
   "source": [
    "rate = soup.find_all(\"span\",class_=\"a-icon-alt\")\n",
    "rating = []"
   ]
  },
  {
   "cell_type": "markdown",
   "metadata": {},
   "source": [
    "###### Write a python program to extract information about the local weather from the National Weather Service website of USA, https://www.weather.gov/ for the city, San Francisco. You need to extract data about 7 day extended forecast display for the city. The data should include period, short description, temperature and description."
   ]
  },
  {
   "cell_type": "code",
   "execution_count": 149,
   "metadata": {},
   "outputs": [
    {
     "data": {
      "text/plain": [
       "<Response [200]>"
      ]
     },
     "execution_count": 149,
     "metadata": {},
     "output_type": "execute_result"
    }
   ],
   "source": [
    "weather = requests.get(\"https://forecast.weather.gov/MapClick.php?lat=37.777120000000025&lon=-122.41963999999996#.YMdGTPkzbIU\")\n",
    "weather"
   ]
  },
  {
   "cell_type": "code",
   "execution_count": 150,
   "metadata": {},
   "outputs": [],
   "source": [
    "soup = BeautifulSoup(weather.content)"
   ]
  },
  {
   "cell_type": "code",
   "execution_count": 151,
   "metadata": {},
   "outputs": [
    {
     "data": {
      "text/plain": [
       "['Tonight',\n",
       " 'Saturday',\n",
       " 'SaturdayNight',\n",
       " 'Sunday',\n",
       " 'SundayNight',\n",
       " 'Monday',\n",
       " 'MondayNight',\n",
       " 'Tuesday',\n",
       " 'TuesdayNight']"
      ]
     },
     "execution_count": 151,
     "metadata": {},
     "output_type": "execute_result"
    }
   ],
   "source": [
    "period1 = soup.find_all(\"p\",class_=\"period-name\")\n",
    "period = []\n",
    "for i in period1:\n",
    "    period.append(i.text.replace(\"\\n\",\"\"))\n",
    "period"
   ]
  },
  {
   "cell_type": "code",
   "execution_count": 152,
   "metadata": {},
   "outputs": [
    {
     "data": {
      "text/plain": [
       "9"
      ]
     },
     "execution_count": 152,
     "metadata": {},
     "output_type": "execute_result"
    }
   ],
   "source": [
    "len(period)"
   ]
  },
  {
   "cell_type": "code",
   "execution_count": 153,
   "metadata": {},
   "outputs": [
    {
     "data": {
      "text/plain": [
       "['Mostly Clear',\n",
       " 'Sunny thenSunny andBreezy',\n",
       " 'Mostly Clearand Breezythen PartlyCloudy',\n",
       " 'Sunny thenSunny andBreezy',\n",
       " 'Partly Cloudy',\n",
       " 'Mostly Sunnythen Sunnyand Breezy',\n",
       " 'Partly Cloudyand Breezythen MostlyCloudy',\n",
       " 'Mostly Sunny',\n",
       " 'Partly Cloudy']"
      ]
     },
     "execution_count": 153,
     "metadata": {},
     "output_type": "execute_result"
    }
   ],
   "source": [
    "desc = soup.find_all(\"p\",class_=\"short-desc\")\n",
    "description = []\n",
    "for i in desc:\n",
    "    description.append(i.text.replace(\"\\n\",\"\"))\n",
    "description"
   ]
  },
  {
   "cell_type": "code",
   "execution_count": 154,
   "metadata": {},
   "outputs": [
    {
     "data": {
      "text/plain": [
       "9"
      ]
     },
     "execution_count": 154,
     "metadata": {},
     "output_type": "execute_result"
    }
   ],
   "source": [
    "len(description)"
   ]
  },
  {
   "cell_type": "code",
   "execution_count": 155,
   "metadata": {},
   "outputs": [
    {
     "data": {
      "text/plain": [
       "['Low: 56 °F', 'Low: 56 °F', 'Low: 57 °F', 'Low: 58 °F', 'Low: 58 °F']"
      ]
     },
     "execution_count": 155,
     "metadata": {},
     "output_type": "execute_result"
    }
   ],
   "source": [
    "temp_low = soup.find_all(\"p\",class_=\"temp temp-low\")\n",
    "temp_high = soup.find_all(\"p\",class_=\"temp temp-high\")\n",
    "low_temp = []\n",
    "for i in temp_low:\n",
    "    low_temp.append(i.text.replace(\"\\n\",\"\"))\n",
    "low_temp"
   ]
  },
  {
   "cell_type": "code",
   "execution_count": 156,
   "metadata": {},
   "outputs": [
    {
     "data": {
      "text/plain": [
       "['High: 71 °F', 'High: 71 °F', 'High: 69 °F', 'High: 69 °F']"
      ]
     },
     "execution_count": 156,
     "metadata": {},
     "output_type": "execute_result"
    }
   ],
   "source": [
    "high_temp = []\n",
    "for i in temp_high:\n",
    "    high_temp.append(i.text.replace(\"\\n\",\"\"))\n",
    "high_temp"
   ]
  },
  {
   "cell_type": "code",
   "execution_count": 157,
   "metadata": {},
   "outputs": [
    {
     "data": {
      "text/plain": [
       "['Low: 56 °F',\n",
       " 'High: 71 °F',\n",
       " 'Low: 56 °F',\n",
       " 'High: 71 °F',\n",
       " 'Low: 57 °F',\n",
       " 'High: 69 °F',\n",
       " 'Low: 58 °F',\n",
       " 'High: 69 °F',\n",
       " 'Low: 58 °F']"
      ]
     },
     "execution_count": 157,
     "metadata": {},
     "output_type": "execute_result"
    }
   ],
   "source": [
    "j = 0\n",
    "for i in range(1,8,2):\n",
    "    low_temp.insert(i,high_temp[j])\n",
    "    j = j+1\n",
    "low_temp    "
   ]
  },
  {
   "cell_type": "code",
   "execution_count": 158,
   "metadata": {},
   "outputs": [
    {
     "data": {
      "text/plain": [
       "9"
      ]
     },
     "execution_count": 158,
     "metadata": {},
     "output_type": "execute_result"
    }
   ],
   "source": [
    "len(low_temp)"
   ]
  },
  {
   "cell_type": "code",
   "execution_count": 159,
   "metadata": {},
   "outputs": [
    {
     "data": {
      "text/plain": [
       "['Mostly clear, with a low around 56. Southwest wind around 16 mph, with gusts as high as 21 mph. ',\n",
       " 'Sunny, with a high near 71. Breezy, with a west southwest wind 9 to 14 mph increasing to 20 to 25 mph in the afternoon. Winds could gust as high as 32 mph. ',\n",
       " 'Partly cloudy, with a low around 56. Breezy, with a west southwest wind 16 to 26 mph, with gusts as high as 34 mph. ',\n",
       " 'Sunny, with a high near 71. Breezy, with a west southwest wind 15 to 23 mph, with gusts as high as 30 mph. ',\n",
       " 'Partly cloudy, with a low around 57. West southwest wind 16 to 21 mph, with gusts as high as 28 mph. ',\n",
       " 'Mostly sunny, with a high near 69. Breezy. ',\n",
       " 'Mostly cloudy, with a low around 58. Breezy. ',\n",
       " 'Mostly sunny, with a high near 69.',\n",
       " 'Partly cloudy, with a low around 58.',\n",
       " 'Mostly sunny, with a high near 68.',\n",
       " 'Partly cloudy, with a low around 56.',\n",
       " 'Mostly sunny, with a high near 68.',\n",
       " 'Partly cloudy, with a low around 57.',\n",
       " 'Sunny, with a high near 72.']"
      ]
     },
     "execution_count": 159,
     "metadata": {},
     "output_type": "execute_result"
    }
   ],
   "source": [
    "elab = soup.find_all(\"div\",class_=\"col-sm-10 forecast-text\")\n",
    "elab_desc = []\n",
    "for i in elab:\n",
    "    elab_desc.append(i.text.replace(\"\\n\",\"\"))\n",
    "elab_desc"
   ]
  },
  {
   "cell_type": "code",
   "execution_count": 160,
   "metadata": {},
   "outputs": [
    {
     "data": {
      "text/plain": [
       "['Mostly clear, with a low around 56. Southwest wind around 16 mph, with gusts as high as 21 mph. ',\n",
       " 'Sunny, with a high near 71. Breezy, with a west southwest wind 9 to 14 mph increasing to 20 to 25 mph in the afternoon. Winds could gust as high as 32 mph. ',\n",
       " 'Partly cloudy, with a low around 56. Breezy, with a west southwest wind 16 to 26 mph, with gusts as high as 34 mph. ',\n",
       " 'Sunny, with a high near 71. Breezy, with a west southwest wind 15 to 23 mph, with gusts as high as 30 mph. ',\n",
       " 'Partly cloudy, with a low around 57. West southwest wind 16 to 21 mph, with gusts as high as 28 mph. ',\n",
       " 'Mostly sunny, with a high near 69. Breezy. ',\n",
       " 'Mostly cloudy, with a low around 58. Breezy. ',\n",
       " 'Mostly sunny, with a high near 69.',\n",
       " 'Partly cloudy, with a low around 58.']"
      ]
     },
     "execution_count": 160,
     "metadata": {},
     "output_type": "execute_result"
    }
   ],
   "source": [
    "elab_description = []\n",
    "for i in range(0,9):\n",
    "    elab_description.append(elab_desc[i])\n",
    "elab_description"
   ]
  },
  {
   "cell_type": "code",
   "execution_count": 161,
   "metadata": {},
   "outputs": [
    {
     "data": {
      "text/plain": [
       "9"
      ]
     },
     "execution_count": 161,
     "metadata": {},
     "output_type": "execute_result"
    }
   ],
   "source": [
    "len(elab_description)"
   ]
  },
  {
   "cell_type": "code",
   "execution_count": 162,
   "metadata": {},
   "outputs": [
    {
     "data": {
      "text/html": [
       "<div>\n",
       "<style scoped>\n",
       "    .dataframe tbody tr th:only-of-type {\n",
       "        vertical-align: middle;\n",
       "    }\n",
       "\n",
       "    .dataframe tbody tr th {\n",
       "        vertical-align: top;\n",
       "    }\n",
       "\n",
       "    .dataframe thead th {\n",
       "        text-align: right;\n",
       "    }\n",
       "</style>\n",
       "<table border=\"1\" class=\"dataframe\">\n",
       "  <thead>\n",
       "    <tr style=\"text-align: right;\">\n",
       "      <th></th>\n",
       "      <th>Period</th>\n",
       "      <th>Short Description</th>\n",
       "      <th>Temprature</th>\n",
       "      <th>Description</th>\n",
       "    </tr>\n",
       "  </thead>\n",
       "  <tbody>\n",
       "    <tr>\n",
       "      <th>0</th>\n",
       "      <td>Tonight</td>\n",
       "      <td>Mostly Clear</td>\n",
       "      <td>Low: 56 °F</td>\n",
       "      <td>Mostly clear, with a low around 56. Southwest ...</td>\n",
       "    </tr>\n",
       "    <tr>\n",
       "      <th>1</th>\n",
       "      <td>Saturday</td>\n",
       "      <td>Sunny thenSunny andBreezy</td>\n",
       "      <td>High: 71 °F</td>\n",
       "      <td>Sunny, with a high near 71. Breezy, with a wes...</td>\n",
       "    </tr>\n",
       "    <tr>\n",
       "      <th>2</th>\n",
       "      <td>SaturdayNight</td>\n",
       "      <td>Mostly Clearand Breezythen PartlyCloudy</td>\n",
       "      <td>Low: 56 °F</td>\n",
       "      <td>Partly cloudy, with a low around 56. Breezy, w...</td>\n",
       "    </tr>\n",
       "    <tr>\n",
       "      <th>3</th>\n",
       "      <td>Sunday</td>\n",
       "      <td>Sunny thenSunny andBreezy</td>\n",
       "      <td>High: 71 °F</td>\n",
       "      <td>Sunny, with a high near 71. Breezy, with a wes...</td>\n",
       "    </tr>\n",
       "    <tr>\n",
       "      <th>4</th>\n",
       "      <td>SundayNight</td>\n",
       "      <td>Partly Cloudy</td>\n",
       "      <td>Low: 57 °F</td>\n",
       "      <td>Partly cloudy, with a low around 57. West sout...</td>\n",
       "    </tr>\n",
       "    <tr>\n",
       "      <th>5</th>\n",
       "      <td>Monday</td>\n",
       "      <td>Mostly Sunnythen Sunnyand Breezy</td>\n",
       "      <td>High: 69 °F</td>\n",
       "      <td>Mostly sunny, with a high near 69. Breezy.</td>\n",
       "    </tr>\n",
       "    <tr>\n",
       "      <th>6</th>\n",
       "      <td>MondayNight</td>\n",
       "      <td>Partly Cloudyand Breezythen MostlyCloudy</td>\n",
       "      <td>Low: 58 °F</td>\n",
       "      <td>Mostly cloudy, with a low around 58. Breezy.</td>\n",
       "    </tr>\n",
       "    <tr>\n",
       "      <th>7</th>\n",
       "      <td>Tuesday</td>\n",
       "      <td>Mostly Sunny</td>\n",
       "      <td>High: 69 °F</td>\n",
       "      <td>Mostly sunny, with a high near 69.</td>\n",
       "    </tr>\n",
       "    <tr>\n",
       "      <th>8</th>\n",
       "      <td>TuesdayNight</td>\n",
       "      <td>Partly Cloudy</td>\n",
       "      <td>Low: 58 °F</td>\n",
       "      <td>Partly cloudy, with a low around 58.</td>\n",
       "    </tr>\n",
       "  </tbody>\n",
       "</table>\n",
       "</div>"
      ],
      "text/plain": [
       "          Period                         Short Description   Temprature  \\\n",
       "0        Tonight                              Mostly Clear   Low: 56 °F   \n",
       "1       Saturday                 Sunny thenSunny andBreezy  High: 71 °F   \n",
       "2  SaturdayNight   Mostly Clearand Breezythen PartlyCloudy   Low: 56 °F   \n",
       "3         Sunday                 Sunny thenSunny andBreezy  High: 71 °F   \n",
       "4    SundayNight                             Partly Cloudy   Low: 57 °F   \n",
       "5         Monday          Mostly Sunnythen Sunnyand Breezy  High: 69 °F   \n",
       "6    MondayNight  Partly Cloudyand Breezythen MostlyCloudy   Low: 58 °F   \n",
       "7        Tuesday                              Mostly Sunny  High: 69 °F   \n",
       "8   TuesdayNight                             Partly Cloudy   Low: 58 °F   \n",
       "\n",
       "                                         Description  \n",
       "0  Mostly clear, with a low around 56. Southwest ...  \n",
       "1  Sunny, with a high near 71. Breezy, with a wes...  \n",
       "2  Partly cloudy, with a low around 56. Breezy, w...  \n",
       "3  Sunny, with a high near 71. Breezy, with a wes...  \n",
       "4  Partly cloudy, with a low around 57. West sout...  \n",
       "5        Mostly sunny, with a high near 69. Breezy.   \n",
       "6      Mostly cloudy, with a low around 58. Breezy.   \n",
       "7                 Mostly sunny, with a high near 69.  \n",
       "8               Partly cloudy, with a low around 58.  "
      ]
     },
     "execution_count": 162,
     "metadata": {},
     "output_type": "execute_result"
    }
   ],
   "source": [
    "import pandas as pd\n",
    "san_francisco = pd.DataFrame({})\n",
    "san_francisco[\"Period\"] = period\n",
    "san_francisco[\"Short Description\"] = description\n",
    "san_francisco[\"Temprature\"] = low_temp\n",
    "san_francisco[\"Description\"] = elab_description\n",
    "san_francisco"
   ]
  },
  {
   "cell_type": "markdown",
   "metadata": {},
   "source": [
    "###### 9)Write a python program to scrape fresher job listings from ‘https://internshala.com/’. It should include job title, company name, CTC, and apply date.\n"
   ]
  },
  {
   "cell_type": "code",
   "execution_count": 163,
   "metadata": {},
   "outputs": [
    {
     "data": {
      "text/plain": [
       "<Response [200]>"
      ]
     },
     "execution_count": 163,
     "metadata": {},
     "output_type": "execute_result"
    }
   ],
   "source": [
    "page = requests.get(\"https://internshala.com/fresher-jobs\")\n",
    "page"
   ]
  },
  {
   "cell_type": "code",
   "execution_count": 164,
   "metadata": {},
   "outputs": [],
   "source": [
    "soup = BeautifulSoup(page.content)"
   ]
  },
  {
   "cell_type": "code",
   "execution_count": 165,
   "metadata": {},
   "outputs": [
    {
     "data": {
      "text/plain": [
       "['Business Development Executive ',\n",
       " 'Associate Front End Developer ',\n",
       " 'Corporate Sales Executive ',\n",
       " 'Associate Software Developer (Full-Stack - React And Node) ',\n",
       " 'Customer Relationship Specialist ',\n",
       " 'Associate Editor Engagement ',\n",
       " 'Management Consultant Associate ',\n",
       " 'Web Analytics Developer ',\n",
       " 'Junior Social Media Marketing Manager ',\n",
       " 'Junior Social Media Marketing Associate ',\n",
       " 'Business Development Manager (Digital Marketing Sales) ',\n",
       " 'Business Development Executive ',\n",
       " 'Accountant ',\n",
       " 'Research Associate ',\n",
       " 'Assistant Coordinator - Tender Department ',\n",
       " 'Customer Relationship Manager (Publishing Consultant) ',\n",
       " 'Executive Assistant To Director ',\n",
       " 'Learning Consultant - Sales ',\n",
       " 'School/Teacher Consultant ',\n",
       " 'Junior Recruiter ',\n",
       " 'Software Developer ',\n",
       " 'Business Development Executive (Inside Sales) ',\n",
       " 'Web Developer ',\n",
       " 'Order Processor ',\n",
       " 'Full Stack Developer ',\n",
       " 'Associate Software Developer ',\n",
       " 'Reactjs Developer ',\n",
       " 'Full Stack Developer ',\n",
       " 'Business Development Executive ',\n",
       " 'Corporate Sales Associate ',\n",
       " 'Inside Sales Associate ',\n",
       " 'Mobile App Developer ',\n",
       " 'Junior MERN Stack Developer ',\n",
       " 'Education Innovation Manager ',\n",
       " 'General Management Associate ',\n",
       " 'Content & E-commerce Management Trainee ',\n",
       " 'Software Engineer ',\n",
       " 'Sales Support & Operations Executive ',\n",
       " 'Backend Developer ',\n",
       " 'Accountant ']"
      ]
     },
     "execution_count": 165,
     "metadata": {},
     "output_type": "execute_result"
    }
   ],
   "source": [
    "titles = soup.find_all(\"div\",class_=\"heading_4_5 profile\")\n",
    "title = []\n",
    "for i in titles:\n",
    "    title.append(i.text.replace(\"\\n\",\"\"))\n",
    "title"
   ]
  },
  {
   "cell_type": "code",
   "execution_count": 166,
   "metadata": {},
   "outputs": [
    {
     "data": {
      "text/plain": [
       "40"
      ]
     },
     "execution_count": 166,
     "metadata": {},
     "output_type": "execute_result"
    }
   ],
   "source": [
    "len(title)"
   ]
  },
  {
   "cell_type": "code",
   "execution_count": 167,
   "metadata": {},
   "outputs": [
    {
     "data": {
      "text/plain": [
       "['                        Picostone                    ',\n",
       " '                        AIMonk Labs Technology Limited                    ',\n",
       " '                        369 Zoss Waters                    ',\n",
       " '                        SleekSky LLC                    ',\n",
       " '                        InPhase Power Technologies                    ',\n",
       " '                        Cactus Communications Private Limited                    ',\n",
       " '                        StrategyCo.Global                    ',\n",
       " '                        DataVinci Private Limited                    ',\n",
       " '                        The Test Tribe                    ',\n",
       " '                        Glu Studios                    ',\n",
       " '                        Graygraph Technologies LLC                    ',\n",
       " '                        BookLeaf Publishing                    ',\n",
       " '                        Ravi Ladia & Co                    ',\n",
       " '                        Market Vistas Consumer Insights                    ',\n",
       " '                        Global Source Trading LLC                    ',\n",
       " '                        Blue Rose Publishers                    ',\n",
       " '                        Best Roadways Limited                    ',\n",
       " '                        Geekster                    ',\n",
       " '                        InfyBytes AI Labs Private Limited                    ',\n",
       " '                        Radish Consultants Private Limited                    ',\n",
       " '                        Moxie.xyz                    ',\n",
       " '                        GREedge                    ',\n",
       " '                        Fullmoon Outdoor Web Solutions                    ',\n",
       " '                        InspectHOA                    ',\n",
       " '                        Nikulsan Technologies Private Limited                    ',\n",
       " '                        IQGateway                    ',\n",
       " '                        Startxlabs Technologies Private Limited                    ',\n",
       " '                        RavGins International Private Limited (Wobb.ai)                    ',\n",
       " '                        Varenyam Placements                    ',\n",
       " '                        HealthPlix Technologies Private Limited                    ',\n",
       " '                        Wizklub Learning                    ',\n",
       " '                        Fusion Engineering                    ',\n",
       " '                        DeepThought Edutech Ventures Private Limited                    ',\n",
       " '                        DeepThought Edutech Ventures Private Limited                    ',\n",
       " '                        Redwood Algorithms                    ',\n",
       " '                        Blooprint Ecom Consulting                    ',\n",
       " '                        QuikieApps                    ',\n",
       " '                        SysCloud Technologies Private Limited                    ',\n",
       " '                        Medcords Healthcare Solution Private Limited                    ',\n",
       " '                        Bagga Infrastructure Limited                    ']"
      ]
     },
     "execution_count": 167,
     "metadata": {},
     "output_type": "execute_result"
    }
   ],
   "source": [
    "comp_names = soup.find_all(\"div\",class_=\"heading_6 company_name\")\n",
    "comp_name = []\n",
    "for i in comp_names:\n",
    "    comp_name.append(i.text.replace(\"\\n\",\"\"))\n",
    "comp_name"
   ]
  },
  {
   "cell_type": "code",
   "execution_count": 168,
   "metadata": {},
   "outputs": [
    {
     "data": {
      "text/plain": [
       "40"
      ]
     },
     "execution_count": 168,
     "metadata": {},
     "output_type": "execute_result"
    }
   ],
   "source": [
    "len(comp_name)"
   ]
  },
  {
   "cell_type": "code",
   "execution_count": 169,
   "metadata": {},
   "outputs": [
    {
     "data": {
      "text/plain": [
       "['  3 - 6.5 LPA                                                    ',\n",
       " '  6 - 7 LPA                                                    ',\n",
       " '  3 - 5 LPA                                                    ',\n",
       " '  4 LPA                                                    ',\n",
       " '  3 - 3.5 LPA                                                    ',\n",
       " '  3 - 4 LPA                                                    ',\n",
       " '  4.5 - 7 LPA                                                    ',\n",
       " '  4.99 - 5 LPA                                                    ',\n",
       " '  3 - 4 LPA                                                    ',\n",
       " '  3 - 3.6 LPA                                                    ',\n",
       " '  3 - 4.5 LPA                                                    ',\n",
       " '  3 - 3.6 LPA                                                    ',\n",
       " '  3 LPA                                                    ',\n",
       " '  3 - 3.25 LPA                                                    ',\n",
       " '  3 LPA                                                    ',\n",
       " '  3 - 3.5 LPA                                                    ',\n",
       " '  3 LPA                                                    ',\n",
       " '  3 - 3.5 LPA                                                    ',\n",
       " '  3 - 4 LPA                                                    ',\n",
       " '  3 - 5 LPA                                                    ',\n",
       " '  9 LPA                                                    ',\n",
       " '  3.75 LPA                                                    ',\n",
       " '  4 - 4.2 LPA                                                    ',\n",
       " '  3 LPA                                                    ',\n",
       " '  3.5 - 5 LPA                                                    ',\n",
       " '  3.6 - 10 LPA                                                    ',\n",
       " '  3 - 4 LPA                                                    ',\n",
       " '  3.3 - 4 LPA                                                    ',\n",
       " '  3 - 4 LPA                                                    ',\n",
       " '  3 - 4 LPA                                                    ',\n",
       " '  3 - 6 LPA                                                    ',\n",
       " '  4.5 - 5.25 LPA                                                    ',\n",
       " '  3 - 5 LPA                                                    ',\n",
       " '  3 - 5 LPA                                                    ',\n",
       " '  4 - 5 LPA                                                    ',\n",
       " '  3 LPA                                                    ',\n",
       " '  3 - 4 LPA                                                    ',\n",
       " '  3 - 3.01 LPA                                                    ',\n",
       " '  3 - 7 LPA                                                    ',\n",
       " '  3 - 3.25 LPA                                                    ']"
      ]
     },
     "execution_count": 169,
     "metadata": {},
     "output_type": "execute_result"
    }
   ],
   "source": [
    "ctcs = soup.find_all(\"div\",class_=\"item_body\")\n",
    "ctc = []\n",
    "for i in ctcs:\n",
    "    ctc.append(i.text.replace(\"\\n\",\"\"))\n",
    "ctc_pay = []\n",
    "for i in range(1,120,3):\n",
    "    ctc_pay.append(ctc[i])\n",
    "ctc_pay"
   ]
  },
  {
   "cell_type": "code",
   "execution_count": 170,
   "metadata": {},
   "outputs": [
    {
     "data": {
      "text/plain": [
       "40"
      ]
     },
     "execution_count": 170,
     "metadata": {},
     "output_type": "execute_result"
    }
   ],
   "source": [
    "len(ctc_pay)"
   ]
  },
  {
   "cell_type": "code",
   "execution_count": 171,
   "metadata": {},
   "outputs": [
    {
     "data": {
      "text/plain": [
       "['Starts\\xa0Immediately                        ',\n",
       " '  3 - 6.5 LPA                                                    ',\n",
       " \"19 Jul' 21\",\n",
       " 'Starts\\xa0Immediately                        ',\n",
       " '  6 - 7 LPA                                                    ',\n",
       " \"18 Jul' 21\",\n",
       " 'Starts\\xa0Immediately                        ',\n",
       " '  3 - 5 LPA                                                    ',\n",
       " \"18 Jul' 21\",\n",
       " 'Starts\\xa0Immediately                        ',\n",
       " '  4 LPA                                                    ',\n",
       " \"18 Jul' 21\",\n",
       " 'Starts\\xa0Immediately                        ',\n",
       " '  3 - 3.5 LPA                                                    ',\n",
       " \"18 Jul' 21\",\n",
       " 'Starts\\xa0Immediately                        ',\n",
       " '  3 - 4 LPA                                                    ',\n",
       " \"18 Jul' 21\",\n",
       " 'Starts\\xa0Immediately                        ',\n",
       " '  4.5 - 7 LPA                                                    ',\n",
       " \"18 Jul' 21\",\n",
       " 'Starts\\xa0Immediately                        ',\n",
       " '  4.99 - 5 LPA                                                    ',\n",
       " \"17 Jul' 21\",\n",
       " 'Starts\\xa0Immediately                        ',\n",
       " '  3 - 4 LPA                                                    ',\n",
       " \"17 Jul' 21\",\n",
       " 'Starts\\xa0Immediately                        ',\n",
       " '  3 - 3.6 LPA                                                    ',\n",
       " \"17 Jul' 21\",\n",
       " 'Starts\\xa0Immediately                        ',\n",
       " '  3 - 4.5 LPA                                                    ',\n",
       " \"17 Jul' 21\",\n",
       " 'Starts\\xa0Immediately                        ',\n",
       " '  3 - 3.6 LPA                                                    ',\n",
       " \"17 Jul' 21\",\n",
       " 'Starts\\xa0Immediately                        ',\n",
       " '  3 LPA                                                    ',\n",
       " \"16 Jul' 21\",\n",
       " 'Starts\\xa0Immediately                        ',\n",
       " '  3 - 3.25 LPA                                                    ',\n",
       " \"17 Jul' 21\",\n",
       " 'Starts\\xa0Immediately                        ',\n",
       " '  3 LPA                                                    ',\n",
       " \"16 Jul' 21\",\n",
       " 'Starts\\xa0Immediately                        ',\n",
       " '  3 - 3.5 LPA                                                    ',\n",
       " \"16 Jul' 21\",\n",
       " 'Starts\\xa0Immediately                        ',\n",
       " '  3 LPA                                                    ',\n",
       " \"17 Jul' 21\",\n",
       " 'Starts\\xa0Immediately                        ',\n",
       " '  3 - 3.5 LPA                                                    ',\n",
       " \"16 Jul' 21\",\n",
       " 'Starts\\xa0Immediately                        ',\n",
       " '  3 - 4 LPA                                                    ',\n",
       " \"16 Jul' 21\",\n",
       " 'Starts\\xa0Immediately                        ',\n",
       " '  3 - 5 LPA                                                    ',\n",
       " \"16 Jul' 21\",\n",
       " 'Starts\\xa0Immediately                        ',\n",
       " '  9 LPA                                                    ',\n",
       " \"15 Jul' 21\",\n",
       " 'Starts\\xa0Immediately                        ',\n",
       " '  3.75 LPA                                                    ',\n",
       " \"15 Jul' 21\",\n",
       " 'Starts\\xa0Immediately                        ',\n",
       " '  4 - 4.2 LPA                                                    ',\n",
       " \"15 Jul' 21\",\n",
       " 'Starts\\xa0Immediately                        ',\n",
       " '  3 LPA                                                    ',\n",
       " \"14 Jul' 21\",\n",
       " 'Starts\\xa0Immediately                        ',\n",
       " '  3.5 - 5 LPA                                                    ',\n",
       " \"14 Jul' 21\",\n",
       " 'Starts\\xa0Immediately                        ',\n",
       " '  3.6 - 10 LPA                                                    ',\n",
       " \"11 Jul' 21\",\n",
       " 'Starts\\xa0Immediately                        ',\n",
       " '  3 - 4 LPA                                                    ',\n",
       " \"11 Jul' 21\",\n",
       " 'Starts\\xa0Immediately                        ',\n",
       " '  3.3 - 4 LPA                                                    ',\n",
       " \"11 Jul' 21\",\n",
       " 'Starts\\xa0Immediately                        ',\n",
       " '  3 - 4 LPA                                                    ',\n",
       " \"11 Jul' 21\",\n",
       " 'Starts\\xa0Immediately                        ',\n",
       " '  3 - 4 LPA                                                    ',\n",
       " \"11 Jul' 21\",\n",
       " 'Starts\\xa0Immediately                        ',\n",
       " '  3 - 6 LPA                                                    ',\n",
       " \"11 Jul' 21\",\n",
       " 'Starts\\xa0Immediately                        ',\n",
       " '  4.5 - 5.25 LPA                                                    ',\n",
       " \"14 Jul' 21\",\n",
       " 'Starts\\xa0Immediately                        ',\n",
       " '  3 - 5 LPA                                                    ',\n",
       " \"15 Jul' 21\",\n",
       " 'Starts\\xa0Immediately                        ',\n",
       " '  3 - 5 LPA                                                    ',\n",
       " \"10 Jul' 21\",\n",
       " 'Starts\\xa0Immediately                        ',\n",
       " '  4 - 5 LPA                                                    ',\n",
       " \"10 Jul' 21\",\n",
       " 'Starts\\xa0Immediately                        ',\n",
       " '  3 LPA                                                    ',\n",
       " \"9 Jul' 21\",\n",
       " 'Starts\\xa0Immediately                        ',\n",
       " '  3 - 4 LPA                                                    ',\n",
       " \"9 Jul' 21\",\n",
       " 'Starts\\xa0Immediately                        ',\n",
       " '  3 - 3.01 LPA                                                    ',\n",
       " \"9 Jul' 21\",\n",
       " 'Starts\\xa0Immediately                        ',\n",
       " '  3 - 7 LPA                                                    ',\n",
       " \"9 Jul' 21\",\n",
       " 'Starts\\xa0Immediately                        ',\n",
       " '  3 - 3.25 LPA                                                    ',\n",
       " \"8 Jul' 21\"]"
      ]
     },
     "execution_count": 171,
     "metadata": {},
     "output_type": "execute_result"
    }
   ],
   "source": [
    "ctc"
   ]
  },
  {
   "cell_type": "code",
   "execution_count": 172,
   "metadata": {},
   "outputs": [
    {
     "data": {
      "text/plain": [
       "[\"19 Jul' 21\",\n",
       " \"18 Jul' 21\",\n",
       " \"18 Jul' 21\",\n",
       " \"18 Jul' 21\",\n",
       " \"18 Jul' 21\",\n",
       " \"18 Jul' 21\",\n",
       " \"18 Jul' 21\",\n",
       " \"17 Jul' 21\",\n",
       " \"17 Jul' 21\",\n",
       " \"17 Jul' 21\",\n",
       " \"17 Jul' 21\",\n",
       " \"17 Jul' 21\",\n",
       " \"16 Jul' 21\",\n",
       " \"17 Jul' 21\",\n",
       " \"16 Jul' 21\",\n",
       " \"16 Jul' 21\",\n",
       " \"17 Jul' 21\",\n",
       " \"16 Jul' 21\",\n",
       " \"16 Jul' 21\",\n",
       " \"16 Jul' 21\",\n",
       " \"15 Jul' 21\",\n",
       " \"15 Jul' 21\",\n",
       " \"15 Jul' 21\",\n",
       " \"14 Jul' 21\",\n",
       " \"14 Jul' 21\",\n",
       " \"11 Jul' 21\",\n",
       " \"11 Jul' 21\",\n",
       " \"11 Jul' 21\",\n",
       " \"11 Jul' 21\",\n",
       " \"11 Jul' 21\",\n",
       " \"11 Jul' 21\",\n",
       " \"14 Jul' 21\",\n",
       " \"15 Jul' 21\",\n",
       " \"10 Jul' 21\",\n",
       " \"10 Jul' 21\",\n",
       " \"9 Jul' 21\",\n",
       " \"9 Jul' 21\",\n",
       " \"9 Jul' 21\",\n",
       " \"9 Jul' 21\",\n",
       " \"8 Jul' 21\"]"
      ]
     },
     "execution_count": 172,
     "metadata": {},
     "output_type": "execute_result"
    }
   ],
   "source": [
    "date = []\n",
    "for i in range(2,len(ctc),3):\n",
    "    date.append(ctc[i])\n",
    "date"
   ]
  },
  {
   "cell_type": "code",
   "execution_count": 173,
   "metadata": {},
   "outputs": [
    {
     "data": {
      "text/html": [
       "<div>\n",
       "<style scoped>\n",
       "    .dataframe tbody tr th:only-of-type {\n",
       "        vertical-align: middle;\n",
       "    }\n",
       "\n",
       "    .dataframe tbody tr th {\n",
       "        vertical-align: top;\n",
       "    }\n",
       "\n",
       "    .dataframe thead th {\n",
       "        text-align: right;\n",
       "    }\n",
       "</style>\n",
       "<table border=\"1\" class=\"dataframe\">\n",
       "  <thead>\n",
       "    <tr style=\"text-align: right;\">\n",
       "      <th></th>\n",
       "      <th>Title</th>\n",
       "      <th>Company Name</th>\n",
       "      <th>CTC</th>\n",
       "      <th>Apply Date</th>\n",
       "    </tr>\n",
       "  </thead>\n",
       "  <tbody>\n",
       "    <tr>\n",
       "      <th>0</th>\n",
       "      <td>Business Development Executive</td>\n",
       "      <td>Picostone             ...</td>\n",
       "      <td>3 - 6.5 LPA                                 ...</td>\n",
       "      <td>19 Jul' 21</td>\n",
       "    </tr>\n",
       "    <tr>\n",
       "      <th>1</th>\n",
       "      <td>Associate Front End Developer</td>\n",
       "      <td>AIMonk Labs Technology...</td>\n",
       "      <td>6 - 7 LPA                                   ...</td>\n",
       "      <td>18 Jul' 21</td>\n",
       "    </tr>\n",
       "    <tr>\n",
       "      <th>2</th>\n",
       "      <td>Corporate Sales Executive</td>\n",
       "      <td>369 Zoss Waters       ...</td>\n",
       "      <td>3 - 5 LPA                                   ...</td>\n",
       "      <td>18 Jul' 21</td>\n",
       "    </tr>\n",
       "    <tr>\n",
       "      <th>3</th>\n",
       "      <td>Associate Software Developer (Full-Stack - Rea...</td>\n",
       "      <td>SleekSky LLC          ...</td>\n",
       "      <td>4 LPA                                       ...</td>\n",
       "      <td>18 Jul' 21</td>\n",
       "    </tr>\n",
       "    <tr>\n",
       "      <th>4</th>\n",
       "      <td>Customer Relationship Specialist</td>\n",
       "      <td>InPhase Power Technolo...</td>\n",
       "      <td>3 - 3.5 LPA                                 ...</td>\n",
       "      <td>18 Jul' 21</td>\n",
       "    </tr>\n",
       "    <tr>\n",
       "      <th>5</th>\n",
       "      <td>Associate Editor Engagement</td>\n",
       "      <td>Cactus Communications ...</td>\n",
       "      <td>3 - 4 LPA                                   ...</td>\n",
       "      <td>18 Jul' 21</td>\n",
       "    </tr>\n",
       "    <tr>\n",
       "      <th>6</th>\n",
       "      <td>Management Consultant Associate</td>\n",
       "      <td>StrategyCo.Global     ...</td>\n",
       "      <td>4.5 - 7 LPA                                 ...</td>\n",
       "      <td>18 Jul' 21</td>\n",
       "    </tr>\n",
       "    <tr>\n",
       "      <th>7</th>\n",
       "      <td>Web Analytics Developer</td>\n",
       "      <td>DataVinci Private Limi...</td>\n",
       "      <td>4.99 - 5 LPA                                ...</td>\n",
       "      <td>17 Jul' 21</td>\n",
       "    </tr>\n",
       "    <tr>\n",
       "      <th>8</th>\n",
       "      <td>Junior Social Media Marketing Manager</td>\n",
       "      <td>The Test Tribe        ...</td>\n",
       "      <td>3 - 4 LPA                                   ...</td>\n",
       "      <td>17 Jul' 21</td>\n",
       "    </tr>\n",
       "    <tr>\n",
       "      <th>9</th>\n",
       "      <td>Junior Social Media Marketing Associate</td>\n",
       "      <td>Glu Studios           ...</td>\n",
       "      <td>3 - 3.6 LPA                                 ...</td>\n",
       "      <td>17 Jul' 21</td>\n",
       "    </tr>\n",
       "    <tr>\n",
       "      <th>10</th>\n",
       "      <td>Business Development Manager (Digital Marketin...</td>\n",
       "      <td>Graygraph Technologies...</td>\n",
       "      <td>3 - 4.5 LPA                                 ...</td>\n",
       "      <td>17 Jul' 21</td>\n",
       "    </tr>\n",
       "    <tr>\n",
       "      <th>11</th>\n",
       "      <td>Business Development Executive</td>\n",
       "      <td>BookLeaf Publishing   ...</td>\n",
       "      <td>3 - 3.6 LPA                                 ...</td>\n",
       "      <td>17 Jul' 21</td>\n",
       "    </tr>\n",
       "    <tr>\n",
       "      <th>12</th>\n",
       "      <td>Accountant</td>\n",
       "      <td>Ravi Ladia &amp; Co       ...</td>\n",
       "      <td>3 LPA                                       ...</td>\n",
       "      <td>16 Jul' 21</td>\n",
       "    </tr>\n",
       "    <tr>\n",
       "      <th>13</th>\n",
       "      <td>Research Associate</td>\n",
       "      <td>Market Vistas Consumer...</td>\n",
       "      <td>3 - 3.25 LPA                                ...</td>\n",
       "      <td>17 Jul' 21</td>\n",
       "    </tr>\n",
       "    <tr>\n",
       "      <th>14</th>\n",
       "      <td>Assistant Coordinator - Tender Department</td>\n",
       "      <td>Global Source Trading ...</td>\n",
       "      <td>3 LPA                                       ...</td>\n",
       "      <td>16 Jul' 21</td>\n",
       "    </tr>\n",
       "    <tr>\n",
       "      <th>15</th>\n",
       "      <td>Customer Relationship Manager (Publishing Cons...</td>\n",
       "      <td>Blue Rose Publishers  ...</td>\n",
       "      <td>3 - 3.5 LPA                                 ...</td>\n",
       "      <td>16 Jul' 21</td>\n",
       "    </tr>\n",
       "    <tr>\n",
       "      <th>16</th>\n",
       "      <td>Executive Assistant To Director</td>\n",
       "      <td>Best Roadways Limited ...</td>\n",
       "      <td>3 LPA                                       ...</td>\n",
       "      <td>17 Jul' 21</td>\n",
       "    </tr>\n",
       "    <tr>\n",
       "      <th>17</th>\n",
       "      <td>Learning Consultant - Sales</td>\n",
       "      <td>Geekster              ...</td>\n",
       "      <td>3 - 3.5 LPA                                 ...</td>\n",
       "      <td>16 Jul' 21</td>\n",
       "    </tr>\n",
       "    <tr>\n",
       "      <th>18</th>\n",
       "      <td>School/Teacher Consultant</td>\n",
       "      <td>InfyBytes AI Labs Priv...</td>\n",
       "      <td>3 - 4 LPA                                   ...</td>\n",
       "      <td>16 Jul' 21</td>\n",
       "    </tr>\n",
       "    <tr>\n",
       "      <th>19</th>\n",
       "      <td>Junior Recruiter</td>\n",
       "      <td>Radish Consultants Pri...</td>\n",
       "      <td>3 - 5 LPA                                   ...</td>\n",
       "      <td>16 Jul' 21</td>\n",
       "    </tr>\n",
       "    <tr>\n",
       "      <th>20</th>\n",
       "      <td>Software Developer</td>\n",
       "      <td>Moxie.xyz             ...</td>\n",
       "      <td>9 LPA                                       ...</td>\n",
       "      <td>15 Jul' 21</td>\n",
       "    </tr>\n",
       "    <tr>\n",
       "      <th>21</th>\n",
       "      <td>Business Development Executive (Inside Sales)</td>\n",
       "      <td>GREedge               ...</td>\n",
       "      <td>3.75 LPA                                    ...</td>\n",
       "      <td>15 Jul' 21</td>\n",
       "    </tr>\n",
       "    <tr>\n",
       "      <th>22</th>\n",
       "      <td>Web Developer</td>\n",
       "      <td>Fullmoon Outdoor Web S...</td>\n",
       "      <td>4 - 4.2 LPA                                 ...</td>\n",
       "      <td>15 Jul' 21</td>\n",
       "    </tr>\n",
       "    <tr>\n",
       "      <th>23</th>\n",
       "      <td>Order Processor</td>\n",
       "      <td>InspectHOA            ...</td>\n",
       "      <td>3 LPA                                       ...</td>\n",
       "      <td>14 Jul' 21</td>\n",
       "    </tr>\n",
       "    <tr>\n",
       "      <th>24</th>\n",
       "      <td>Full Stack Developer</td>\n",
       "      <td>Nikulsan Technologies ...</td>\n",
       "      <td>3.5 - 5 LPA                                 ...</td>\n",
       "      <td>14 Jul' 21</td>\n",
       "    </tr>\n",
       "    <tr>\n",
       "      <th>25</th>\n",
       "      <td>Associate Software Developer</td>\n",
       "      <td>IQGateway             ...</td>\n",
       "      <td>3.6 - 10 LPA                                ...</td>\n",
       "      <td>11 Jul' 21</td>\n",
       "    </tr>\n",
       "    <tr>\n",
       "      <th>26</th>\n",
       "      <td>Reactjs Developer</td>\n",
       "      <td>Startxlabs Technologie...</td>\n",
       "      <td>3 - 4 LPA                                   ...</td>\n",
       "      <td>11 Jul' 21</td>\n",
       "    </tr>\n",
       "    <tr>\n",
       "      <th>27</th>\n",
       "      <td>Full Stack Developer</td>\n",
       "      <td>RavGins International ...</td>\n",
       "      <td>3.3 - 4 LPA                                 ...</td>\n",
       "      <td>11 Jul' 21</td>\n",
       "    </tr>\n",
       "    <tr>\n",
       "      <th>28</th>\n",
       "      <td>Business Development Executive</td>\n",
       "      <td>Varenyam Placements   ...</td>\n",
       "      <td>3 - 4 LPA                                   ...</td>\n",
       "      <td>11 Jul' 21</td>\n",
       "    </tr>\n",
       "    <tr>\n",
       "      <th>29</th>\n",
       "      <td>Corporate Sales Associate</td>\n",
       "      <td>HealthPlix Technologie...</td>\n",
       "      <td>3 - 4 LPA                                   ...</td>\n",
       "      <td>11 Jul' 21</td>\n",
       "    </tr>\n",
       "    <tr>\n",
       "      <th>30</th>\n",
       "      <td>Inside Sales Associate</td>\n",
       "      <td>Wizklub Learning      ...</td>\n",
       "      <td>3 - 6 LPA                                   ...</td>\n",
       "      <td>11 Jul' 21</td>\n",
       "    </tr>\n",
       "    <tr>\n",
       "      <th>31</th>\n",
       "      <td>Mobile App Developer</td>\n",
       "      <td>Fusion Engineering    ...</td>\n",
       "      <td>4.5 - 5.25 LPA                              ...</td>\n",
       "      <td>14 Jul' 21</td>\n",
       "    </tr>\n",
       "    <tr>\n",
       "      <th>32</th>\n",
       "      <td>Junior MERN Stack Developer</td>\n",
       "      <td>DeepThought Edutech Ve...</td>\n",
       "      <td>3 - 5 LPA                                   ...</td>\n",
       "      <td>15 Jul' 21</td>\n",
       "    </tr>\n",
       "    <tr>\n",
       "      <th>33</th>\n",
       "      <td>Education Innovation Manager</td>\n",
       "      <td>DeepThought Edutech Ve...</td>\n",
       "      <td>3 - 5 LPA                                   ...</td>\n",
       "      <td>10 Jul' 21</td>\n",
       "    </tr>\n",
       "    <tr>\n",
       "      <th>34</th>\n",
       "      <td>General Management Associate</td>\n",
       "      <td>Redwood Algorithms    ...</td>\n",
       "      <td>4 - 5 LPA                                   ...</td>\n",
       "      <td>10 Jul' 21</td>\n",
       "    </tr>\n",
       "    <tr>\n",
       "      <th>35</th>\n",
       "      <td>Content &amp; E-commerce Management Trainee</td>\n",
       "      <td>Blooprint Ecom Consult...</td>\n",
       "      <td>3 LPA                                       ...</td>\n",
       "      <td>9 Jul' 21</td>\n",
       "    </tr>\n",
       "    <tr>\n",
       "      <th>36</th>\n",
       "      <td>Software Engineer</td>\n",
       "      <td>QuikieApps            ...</td>\n",
       "      <td>3 - 4 LPA                                   ...</td>\n",
       "      <td>9 Jul' 21</td>\n",
       "    </tr>\n",
       "    <tr>\n",
       "      <th>37</th>\n",
       "      <td>Sales Support &amp; Operations Executive</td>\n",
       "      <td>SysCloud Technologies ...</td>\n",
       "      <td>3 - 3.01 LPA                                ...</td>\n",
       "      <td>9 Jul' 21</td>\n",
       "    </tr>\n",
       "    <tr>\n",
       "      <th>38</th>\n",
       "      <td>Backend Developer</td>\n",
       "      <td>Medcords Healthcare So...</td>\n",
       "      <td>3 - 7 LPA                                   ...</td>\n",
       "      <td>9 Jul' 21</td>\n",
       "    </tr>\n",
       "    <tr>\n",
       "      <th>39</th>\n",
       "      <td>Accountant</td>\n",
       "      <td>Bagga Infrastructure L...</td>\n",
       "      <td>3 - 3.25 LPA                                ...</td>\n",
       "      <td>8 Jul' 21</td>\n",
       "    </tr>\n",
       "  </tbody>\n",
       "</table>\n",
       "</div>"
      ],
      "text/plain": [
       "                                                Title  \\\n",
       "0                     Business Development Executive    \n",
       "1                      Associate Front End Developer    \n",
       "2                          Corporate Sales Executive    \n",
       "3   Associate Software Developer (Full-Stack - Rea...   \n",
       "4                   Customer Relationship Specialist    \n",
       "5                        Associate Editor Engagement    \n",
       "6                    Management Consultant Associate    \n",
       "7                            Web Analytics Developer    \n",
       "8              Junior Social Media Marketing Manager    \n",
       "9            Junior Social Media Marketing Associate    \n",
       "10  Business Development Manager (Digital Marketin...   \n",
       "11                    Business Development Executive    \n",
       "12                                        Accountant    \n",
       "13                                Research Associate    \n",
       "14         Assistant Coordinator - Tender Department    \n",
       "15  Customer Relationship Manager (Publishing Cons...   \n",
       "16                   Executive Assistant To Director    \n",
       "17                       Learning Consultant - Sales    \n",
       "18                         School/Teacher Consultant    \n",
       "19                                  Junior Recruiter    \n",
       "20                                Software Developer    \n",
       "21     Business Development Executive (Inside Sales)    \n",
       "22                                     Web Developer    \n",
       "23                                   Order Processor    \n",
       "24                              Full Stack Developer    \n",
       "25                      Associate Software Developer    \n",
       "26                                 Reactjs Developer    \n",
       "27                              Full Stack Developer    \n",
       "28                    Business Development Executive    \n",
       "29                         Corporate Sales Associate    \n",
       "30                            Inside Sales Associate    \n",
       "31                              Mobile App Developer    \n",
       "32                       Junior MERN Stack Developer    \n",
       "33                      Education Innovation Manager    \n",
       "34                      General Management Associate    \n",
       "35           Content & E-commerce Management Trainee    \n",
       "36                                 Software Engineer    \n",
       "37              Sales Support & Operations Executive    \n",
       "38                                 Backend Developer    \n",
       "39                                        Accountant    \n",
       "\n",
       "                                         Company Name  \\\n",
       "0                           Picostone             ...   \n",
       "1                           AIMonk Labs Technology...   \n",
       "2                           369 Zoss Waters       ...   \n",
       "3                           SleekSky LLC          ...   \n",
       "4                           InPhase Power Technolo...   \n",
       "5                           Cactus Communications ...   \n",
       "6                           StrategyCo.Global     ...   \n",
       "7                           DataVinci Private Limi...   \n",
       "8                           The Test Tribe        ...   \n",
       "9                           Glu Studios           ...   \n",
       "10                          Graygraph Technologies...   \n",
       "11                          BookLeaf Publishing   ...   \n",
       "12                          Ravi Ladia & Co       ...   \n",
       "13                          Market Vistas Consumer...   \n",
       "14                          Global Source Trading ...   \n",
       "15                          Blue Rose Publishers  ...   \n",
       "16                          Best Roadways Limited ...   \n",
       "17                          Geekster              ...   \n",
       "18                          InfyBytes AI Labs Priv...   \n",
       "19                          Radish Consultants Pri...   \n",
       "20                          Moxie.xyz             ...   \n",
       "21                          GREedge               ...   \n",
       "22                          Fullmoon Outdoor Web S...   \n",
       "23                          InspectHOA            ...   \n",
       "24                          Nikulsan Technologies ...   \n",
       "25                          IQGateway             ...   \n",
       "26                          Startxlabs Technologie...   \n",
       "27                          RavGins International ...   \n",
       "28                          Varenyam Placements   ...   \n",
       "29                          HealthPlix Technologie...   \n",
       "30                          Wizklub Learning      ...   \n",
       "31                          Fusion Engineering    ...   \n",
       "32                          DeepThought Edutech Ve...   \n",
       "33                          DeepThought Edutech Ve...   \n",
       "34                          Redwood Algorithms    ...   \n",
       "35                          Blooprint Ecom Consult...   \n",
       "36                          QuikieApps            ...   \n",
       "37                          SysCloud Technologies ...   \n",
       "38                          Medcords Healthcare So...   \n",
       "39                          Bagga Infrastructure L...   \n",
       "\n",
       "                                                  CTC  Apply Date  \n",
       "0     3 - 6.5 LPA                                 ...  19 Jul' 21  \n",
       "1     6 - 7 LPA                                   ...  18 Jul' 21  \n",
       "2     3 - 5 LPA                                   ...  18 Jul' 21  \n",
       "3     4 LPA                                       ...  18 Jul' 21  \n",
       "4     3 - 3.5 LPA                                 ...  18 Jul' 21  \n",
       "5     3 - 4 LPA                                   ...  18 Jul' 21  \n",
       "6     4.5 - 7 LPA                                 ...  18 Jul' 21  \n",
       "7     4.99 - 5 LPA                                ...  17 Jul' 21  \n",
       "8     3 - 4 LPA                                   ...  17 Jul' 21  \n",
       "9     3 - 3.6 LPA                                 ...  17 Jul' 21  \n",
       "10    3 - 4.5 LPA                                 ...  17 Jul' 21  \n",
       "11    3 - 3.6 LPA                                 ...  17 Jul' 21  \n",
       "12    3 LPA                                       ...  16 Jul' 21  \n",
       "13    3 - 3.25 LPA                                ...  17 Jul' 21  \n",
       "14    3 LPA                                       ...  16 Jul' 21  \n",
       "15    3 - 3.5 LPA                                 ...  16 Jul' 21  \n",
       "16    3 LPA                                       ...  17 Jul' 21  \n",
       "17    3 - 3.5 LPA                                 ...  16 Jul' 21  \n",
       "18    3 - 4 LPA                                   ...  16 Jul' 21  \n",
       "19    3 - 5 LPA                                   ...  16 Jul' 21  \n",
       "20    9 LPA                                       ...  15 Jul' 21  \n",
       "21    3.75 LPA                                    ...  15 Jul' 21  \n",
       "22    4 - 4.2 LPA                                 ...  15 Jul' 21  \n",
       "23    3 LPA                                       ...  14 Jul' 21  \n",
       "24    3.5 - 5 LPA                                 ...  14 Jul' 21  \n",
       "25    3.6 - 10 LPA                                ...  11 Jul' 21  \n",
       "26    3 - 4 LPA                                   ...  11 Jul' 21  \n",
       "27    3.3 - 4 LPA                                 ...  11 Jul' 21  \n",
       "28    3 - 4 LPA                                   ...  11 Jul' 21  \n",
       "29    3 - 4 LPA                                   ...  11 Jul' 21  \n",
       "30    3 - 6 LPA                                   ...  11 Jul' 21  \n",
       "31    4.5 - 5.25 LPA                              ...  14 Jul' 21  \n",
       "32    3 - 5 LPA                                   ...  15 Jul' 21  \n",
       "33    3 - 5 LPA                                   ...  10 Jul' 21  \n",
       "34    4 - 5 LPA                                   ...  10 Jul' 21  \n",
       "35    3 LPA                                       ...   9 Jul' 21  \n",
       "36    3 - 4 LPA                                   ...   9 Jul' 21  \n",
       "37    3 - 3.01 LPA                                ...   9 Jul' 21  \n",
       "38    3 - 7 LPA                                   ...   9 Jul' 21  \n",
       "39    3 - 3.25 LPA                                ...   8 Jul' 21  "
      ]
     },
     "execution_count": 173,
     "metadata": {},
     "output_type": "execute_result"
    }
   ],
   "source": [
    "fresher_jobs = pd.DataFrame({})\n",
    "fresher_jobs[\"Title\"] = title\n",
    "fresher_jobs[\"Company Name\"] = comp_name\n",
    "fresher_jobs[\"CTC\"] = ctc_pay\n",
    "fresher_jobs[\"Apply Date\"] = date\n",
    "fresher_jobs"
   ]
  },
  {
   "cell_type": "markdown",
   "metadata": {},
   "source": [
    "#####  Write a python program to scrape house details from mentioned url. It should include house title, location, area, emi and price\n",
    "https://www.nobroker.in/property/sale/bangalore/Electronic%20City?type=BHK4&searchParam=W3sibGF0IjoxMi44NDUyMTQ1LCJsb24iOjc3LjY2MDE2OTUsInBsYWNlSWQiOiJDaElKdy1GUWQ0cHNyanNSSGZkYXpnXzhYRW8iLCJwbGFjZU5hbWUiOiJFbGVjdHJvbmljIENpdHkifV0=&propertyAge=0&radius=2."
   ]
  },
  {
   "cell_type": "code",
   "execution_count": 174,
   "metadata": {},
   "outputs": [
    {
     "data": {
      "text/plain": [
       "<Response [200]>"
      ]
     },
     "execution_count": 174,
     "metadata": {},
     "output_type": "execute_result"
    }
   ],
   "source": [
    "page = requests.get(\"https://www.nobroker.in/property/sale/bangalore/Electronic%20City?type=BHK4&searchParam=W3sibGF0IjoxMi44NDUyMTQ1LCJsb24iOjc3LjY2MDE2OTUsInBsYWNlSWQiOiJDaElKdy1GUWQ0cHNyanNSSGZkYXpnXzhYRW8iLCJwbGFjZU5hbWUiOiJFbGVjdHJvbmljIENpdHkifV0=&propertyAge=0&radius=2\")\n",
    "page"
   ]
  },
  {
   "cell_type": "code",
   "execution_count": 175,
   "metadata": {},
   "outputs": [],
   "source": [
    "soup = BeautifulSoup(page.content)"
   ]
  },
  {
   "cell_type": "code",
   "execution_count": 176,
   "metadata": {},
   "outputs": [
    {
     "data": {
      "text/plain": [
       "['4 BHK In Independent House  For Sale  In Ear Oppo, Doddanagamangala Road Naganathapura, Ninayka Layout ',\n",
       " '4 BHK For Sale  In Daadys Garden In Electronic City ',\n",
       " '4 BHK In Independent House  For Sale  In Sarjapura ',\n",
       " '4 BHK Flat  For Sale  In Electronic City ',\n",
       " '4 BHK In Independent House  For Sale  In Electronic City,  ',\n",
       " '4 BHK In Independent House  For Sale  In Electronic City ',\n",
       " '4 BHK Apartment  For Sale  In Gopalan Gardenia In Electronic City ',\n",
       " '4 BHK Flat  For Sale  In Electronic City ',\n",
       " '4 BHK Flat  For Sale  In Heena Enclave In Electronic City ',\n",
       " '4 BHK In Independent House  For Sale  In Ananth Nagar ']"
      ]
     },
     "execution_count": 176,
     "metadata": {},
     "output_type": "execute_result"
    }
   ],
   "source": [
    "titles = soup.find_all(\"h2\",class_=\"heading-6 font-semi-bold nb__1AShY\")\n",
    "title = []\n",
    "for i in titles:\n",
    "    title.append(i.text.replace(\"\\n\",\"\"))\n",
    "title"
   ]
  },
  {
   "cell_type": "code",
   "execution_count": 177,
   "metadata": {},
   "outputs": [
    {
     "data": {
      "text/plain": [
       "10"
      ]
     },
     "execution_count": 177,
     "metadata": {},
     "output_type": "execute_result"
    }
   ],
   "source": [
    "len(title)"
   ]
  },
  {
   "cell_type": "code",
   "execution_count": 178,
   "metadata": {},
   "outputs": [
    {
     "data": {
      "text/plain": [
       "['Independent House, Near opposite to Sobha Silicon Oasis, Hosa Road, Doddanagamangala Village, Pragathi Nagar, Basapura, Bengaluru, Karnataka, India',\n",
       " 'Daadys Garden\\xa0 Kammasandra Rd, Kammasandra, Electronic City, Bengaluru, Karnataka 560100, India',\n",
       " 'Independent House,  Shantipura Village , S.P Layout , near  Shantipura Panchayat Office',\n",
       " 'Standalone Building, Shikaripalya, near Shams School',\n",
       " 'Independent House,  Krishna reddy layout-Near Maruti Suzuki ARENA (Surakshaa Car Care, Bengaluru, Electronic City)',\n",
       " 'Independent House, Dhruv Dhama LayoutNear Heddari Icon',\n",
       " 'Gopalan Gardenia\\xa0 Gopalan gardenia, Veerasandra Main Rd, Veer Sandra, Electronic City, Bengaluru, Karnataka 560100, India',\n",
       " 'Standalone Building, Konappana Agrahara, Near Saffron Supermarket',\n",
       " ' Neeladri Nagar,Near Pioneer Sun Blossom',\n",
       " 'Independent House, Glass factory Outlet nd cross Near Grand Mart ']"
      ]
     },
     "execution_count": 178,
     "metadata": {},
     "output_type": "execute_result"
    }
   ],
   "source": [
    "loc = soup.find_all(\"div\",class_=\"nb__2CMjv\")\n",
    "location = []\n",
    "for i in loc:\n",
    "    location.append(i.text.replace(\"\\n\",\"\"))\n",
    "location"
   ]
  },
  {
   "cell_type": "code",
   "execution_count": 179,
   "metadata": {},
   "outputs": [
    {
     "data": {
      "text/plain": [
       "10"
      ]
     },
     "execution_count": 179,
     "metadata": {},
     "output_type": "execute_result"
    }
   ],
   "source": [
    "len(location)"
   ]
  },
  {
   "cell_type": "code",
   "execution_count": 180,
   "metadata": {},
   "outputs": [
    {
     "data": {
      "text/plain": [
       "['₹45,851/Month',\n",
       " '₹85,971/Month',\n",
       " '₹40,120/Month',\n",
       " '₹20,060/Month',\n",
       " '₹1.43 Lacs/Month',\n",
       " '₹51,583/Month',\n",
       " '₹63,045/Month',\n",
       " '₹28,657/Month',\n",
       " '₹71,643/Month',\n",
       " '₹56,168/Month']"
      ]
     },
     "execution_count": 180,
     "metadata": {},
     "output_type": "execute_result"
    }
   ],
   "source": [
    "emis = soup.find_all(\"div\",class_=\"font-semi-bold heading-6\")\n",
    "emi = []\n",
    "for i in emis:\n",
    "    emi.append(i.text)\n",
    "emi_list = []\n",
    "for i in range(1,len(emi),3):\n",
    "    emi_list.append(emi[i])\n",
    "emi_list"
   ]
  },
  {
   "cell_type": "code",
   "execution_count": 181,
   "metadata": {},
   "outputs": [
    {
     "data": {
      "text/plain": [
       "['₹80 Lacs',\n",
       " '₹1.5 Crores',\n",
       " '₹70 Lacs',\n",
       " '₹35 Lacs',\n",
       " '₹2.5 Crores',\n",
       " '₹90 Lacs',\n",
       " '₹1.1 Crores',\n",
       " '₹50 Lacs',\n",
       " '₹1.25 Crores',\n",
       " '₹98 Lacs']"
      ]
     },
     "execution_count": 181,
     "metadata": {},
     "output_type": "execute_result"
    }
   ],
   "source": [
    "prices = soup.find_all(\"div\",class_=\"font-semi-bold\")\n",
    "price = []\n",
    "for i in prices:\n",
    "    price.append(i.text)\n",
    "price\n",
    "price_list = []\n",
    "for i in range(2,len(price),3):\n",
    "    price_list.append(price[i])\n",
    "price_list"
   ]
  },
  {
   "cell_type": "code",
   "execution_count": 182,
   "metadata": {},
   "outputs": [
    {
     "data": {
      "text/plain": [
       "10"
      ]
     },
     "execution_count": 182,
     "metadata": {},
     "output_type": "execute_result"
    }
   ],
   "source": [
    "len(emi_list)"
   ]
  },
  {
   "cell_type": "code",
   "execution_count": 183,
   "metadata": {},
   "outputs": [
    {
     "data": {
      "text/plain": [
       "10"
      ]
     },
     "execution_count": 183,
     "metadata": {},
     "output_type": "execute_result"
    }
   ],
   "source": [
    "len(price_list)"
   ]
  },
  {
   "cell_type": "code",
   "execution_count": 184,
   "metadata": {},
   "outputs": [
    {
     "data": {
      "text/plain": [
       "['1,200 sqft',\n",
       " '2,600 sqft',\n",
       " '1,100 sqft',\n",
       " '1,400 sqft',\n",
       " '2,500 sqft',\n",
       " '2,400 sqft',\n",
       " '2,650 sqft',\n",
       " '1,120 sqft',\n",
       " '2,350 sqft',\n",
       " '2,200 sqft']"
      ]
     },
     "execution_count": 184,
     "metadata": {},
     "output_type": "execute_result"
    }
   ],
   "source": [
    "areas = soup.find_all(\"div\",class_=\"nb__3oNyC\")\n",
    "area_list = []\n",
    "for i in areas:\n",
    "    area_list.append(i.text)\n",
    "area_list"
   ]
  },
  {
   "cell_type": "code",
   "execution_count": 185,
   "metadata": {},
   "outputs": [
    {
     "data": {
      "text/plain": [
       "10"
      ]
     },
     "execution_count": 185,
     "metadata": {},
     "output_type": "execute_result"
    }
   ],
   "source": [
    "len(area_list)"
   ]
  },
  {
   "cell_type": "code",
   "execution_count": 186,
   "metadata": {},
   "outputs": [
    {
     "data": {
      "text/html": [
       "<div>\n",
       "<style scoped>\n",
       "    .dataframe tbody tr th:only-of-type {\n",
       "        vertical-align: middle;\n",
       "    }\n",
       "\n",
       "    .dataframe tbody tr th {\n",
       "        vertical-align: top;\n",
       "    }\n",
       "\n",
       "    .dataframe thead th {\n",
       "        text-align: right;\n",
       "    }\n",
       "</style>\n",
       "<table border=\"1\" class=\"dataframe\">\n",
       "  <thead>\n",
       "    <tr style=\"text-align: right;\">\n",
       "      <th></th>\n",
       "      <th>Title</th>\n",
       "      <th>Location</th>\n",
       "      <th>Area</th>\n",
       "      <th>EMI</th>\n",
       "      <th>Price</th>\n",
       "    </tr>\n",
       "  </thead>\n",
       "  <tbody>\n",
       "    <tr>\n",
       "      <th>0</th>\n",
       "      <td>4 BHK In Independent House  For Sale  In Ear O...</td>\n",
       "      <td>Independent House, Near opposite to Sobha Sili...</td>\n",
       "      <td>1,200 sqft</td>\n",
       "      <td>₹45,851/Month</td>\n",
       "      <td>₹80 Lacs</td>\n",
       "    </tr>\n",
       "    <tr>\n",
       "      <th>1</th>\n",
       "      <td>4 BHK For Sale  In Daadys Garden In Electronic...</td>\n",
       "      <td>Daadys Garden  Kammasandra Rd, Kammasandra, El...</td>\n",
       "      <td>2,600 sqft</td>\n",
       "      <td>₹85,971/Month</td>\n",
       "      <td>₹1.5 Crores</td>\n",
       "    </tr>\n",
       "    <tr>\n",
       "      <th>2</th>\n",
       "      <td>4 BHK In Independent House  For Sale  In Sarja...</td>\n",
       "      <td>Independent House,  Shantipura Village , S.P L...</td>\n",
       "      <td>1,100 sqft</td>\n",
       "      <td>₹40,120/Month</td>\n",
       "      <td>₹70 Lacs</td>\n",
       "    </tr>\n",
       "    <tr>\n",
       "      <th>3</th>\n",
       "      <td>4 BHK Flat  For Sale  In Electronic City</td>\n",
       "      <td>Standalone Building, Shikaripalya, near Shams ...</td>\n",
       "      <td>1,400 sqft</td>\n",
       "      <td>₹20,060/Month</td>\n",
       "      <td>₹35 Lacs</td>\n",
       "    </tr>\n",
       "    <tr>\n",
       "      <th>4</th>\n",
       "      <td>4 BHK In Independent House  For Sale  In Elect...</td>\n",
       "      <td>Independent House,  Krishna reddy layout-Near ...</td>\n",
       "      <td>2,500 sqft</td>\n",
       "      <td>₹1.43 Lacs/Month</td>\n",
       "      <td>₹2.5 Crores</td>\n",
       "    </tr>\n",
       "    <tr>\n",
       "      <th>5</th>\n",
       "      <td>4 BHK In Independent House  For Sale  In Elect...</td>\n",
       "      <td>Independent House, Dhruv Dhama LayoutNear Hedd...</td>\n",
       "      <td>2,400 sqft</td>\n",
       "      <td>₹51,583/Month</td>\n",
       "      <td>₹90 Lacs</td>\n",
       "    </tr>\n",
       "    <tr>\n",
       "      <th>6</th>\n",
       "      <td>4 BHK Apartment  For Sale  In Gopalan Gardenia...</td>\n",
       "      <td>Gopalan Gardenia  Gopalan gardenia, Veerasandr...</td>\n",
       "      <td>2,650 sqft</td>\n",
       "      <td>₹63,045/Month</td>\n",
       "      <td>₹1.1 Crores</td>\n",
       "    </tr>\n",
       "    <tr>\n",
       "      <th>7</th>\n",
       "      <td>4 BHK Flat  For Sale  In Electronic City</td>\n",
       "      <td>Standalone Building, Konappana Agrahara, Near ...</td>\n",
       "      <td>1,120 sqft</td>\n",
       "      <td>₹28,657/Month</td>\n",
       "      <td>₹50 Lacs</td>\n",
       "    </tr>\n",
       "    <tr>\n",
       "      <th>8</th>\n",
       "      <td>4 BHK Flat  For Sale  In Heena Enclave In Elec...</td>\n",
       "      <td>Neeladri Nagar,Near Pioneer Sun Blossom</td>\n",
       "      <td>2,350 sqft</td>\n",
       "      <td>₹71,643/Month</td>\n",
       "      <td>₹1.25 Crores</td>\n",
       "    </tr>\n",
       "    <tr>\n",
       "      <th>9</th>\n",
       "      <td>4 BHK In Independent House  For Sale  In Anant...</td>\n",
       "      <td>Independent House, Glass factory Outlet nd cro...</td>\n",
       "      <td>2,200 sqft</td>\n",
       "      <td>₹56,168/Month</td>\n",
       "      <td>₹98 Lacs</td>\n",
       "    </tr>\n",
       "  </tbody>\n",
       "</table>\n",
       "</div>"
      ],
      "text/plain": [
       "                                               Title  \\\n",
       "0  4 BHK In Independent House  For Sale  In Ear O...   \n",
       "1  4 BHK For Sale  In Daadys Garden In Electronic...   \n",
       "2  4 BHK In Independent House  For Sale  In Sarja...   \n",
       "3          4 BHK Flat  For Sale  In Electronic City    \n",
       "4  4 BHK In Independent House  For Sale  In Elect...   \n",
       "5  4 BHK In Independent House  For Sale  In Elect...   \n",
       "6  4 BHK Apartment  For Sale  In Gopalan Gardenia...   \n",
       "7          4 BHK Flat  For Sale  In Electronic City    \n",
       "8  4 BHK Flat  For Sale  In Heena Enclave In Elec...   \n",
       "9  4 BHK In Independent House  For Sale  In Anant...   \n",
       "\n",
       "                                            Location        Area  \\\n",
       "0  Independent House, Near opposite to Sobha Sili...  1,200 sqft   \n",
       "1  Daadys Garden  Kammasandra Rd, Kammasandra, El...  2,600 sqft   \n",
       "2  Independent House,  Shantipura Village , S.P L...  1,100 sqft   \n",
       "3  Standalone Building, Shikaripalya, near Shams ...  1,400 sqft   \n",
       "4  Independent House,  Krishna reddy layout-Near ...  2,500 sqft   \n",
       "5  Independent House, Dhruv Dhama LayoutNear Hedd...  2,400 sqft   \n",
       "6  Gopalan Gardenia  Gopalan gardenia, Veerasandr...  2,650 sqft   \n",
       "7  Standalone Building, Konappana Agrahara, Near ...  1,120 sqft   \n",
       "8            Neeladri Nagar,Near Pioneer Sun Blossom  2,350 sqft   \n",
       "9  Independent House, Glass factory Outlet nd cro...  2,200 sqft   \n",
       "\n",
       "                EMI         Price  \n",
       "0     ₹45,851/Month      ₹80 Lacs  \n",
       "1     ₹85,971/Month   ₹1.5 Crores  \n",
       "2     ₹40,120/Month      ₹70 Lacs  \n",
       "3     ₹20,060/Month      ₹35 Lacs  \n",
       "4  ₹1.43 Lacs/Month   ₹2.5 Crores  \n",
       "5     ₹51,583/Month      ₹90 Lacs  \n",
       "6     ₹63,045/Month   ₹1.1 Crores  \n",
       "7     ₹28,657/Month      ₹50 Lacs  \n",
       "8     ₹71,643/Month  ₹1.25 Crores  \n",
       "9     ₹56,168/Month      ₹98 Lacs  "
      ]
     },
     "execution_count": 186,
     "metadata": {},
     "output_type": "execute_result"
    }
   ],
   "source": [
    "import pandas as pd\n",
    "housing = pd.DataFrame({})\n",
    "housing[\"Title\"] = title\n",
    "housing[\"Location\"] = location\n",
    "housing[\"Area\"] = area_list\n",
    "housing[\"EMI\"] = emi_list\n",
    "housing[\"Price\"] = price_list\n",
    "housing"
   ]
  },
  {
   "cell_type": "code",
   "execution_count": null,
   "metadata": {},
   "outputs": [],
   "source": []
  },
  {
   "cell_type": "code",
   "execution_count": null,
   "metadata": {},
   "outputs": [],
   "source": []
  },
  {
   "cell_type": "code",
   "execution_count": null,
   "metadata": {},
   "outputs": [],
   "source": []
  }
 ],
 "metadata": {
  "kernelspec": {
   "display_name": "Python 3",
   "language": "python",
   "name": "python3"
  },
  "language_info": {
   "codemirror_mode": {
    "name": "ipython",
    "version": 3
   },
   "file_extension": ".py",
   "mimetype": "text/x-python",
   "name": "python",
   "nbconvert_exporter": "python",
   "pygments_lexer": "ipython3",
   "version": "3.8.5"
  }
 },
 "nbformat": 4,
 "nbformat_minor": 4
}
